{
 "cells": [
  {
   "cell_type": "markdown",
   "metadata": {},
   "source": [
    "# PONLE UN LIMITE A LAS FIESTAS\n",
    "Algoritmo: ENFOQUE GREEDY\n",
    "Porque permite escoger la solucion mas optima en cada subproblema, osea la de mayor diversion y menor costo de entrada"
   ]
  },
  {
   "cell_type": "code",
   "execution_count": 10,
   "metadata": {},
   "outputs": [
    {
     "name": "stdout",
     "output_type": "stream",
     "text": [
      "Writing archivo.txt\n"
     ]
    }
   ],
   "source": [
    "%%file archivo.txt\n",
    "50 10\n",
    "12 3\n",
    "15 8\n",
    "16 9\n",
    "16 6\n",
    "10 2\n",
    "21 9\n",
    "18 4\n",
    "12 4\n",
    "17 8\n",
    "18 9\n",
    "\n",
    "50 10\n",
    "13 8\n",
    "19 10\n",
    "16 8\n",
    "12 9\n",
    "10 2\n",
    "12 8\n",
    "13 5\n",
    "15 5\n",
    "11 7\n",
    "16 2\n",
    "\n",
    "0 0"
   ]
  },
  {
   "cell_type": "code",
   "execution_count": 52,
   "metadata": {},
   "outputs": [
    {
     "name": "stdout",
     "output_type": "stream",
     "text": [
      "\n",
      "*Evaluar:\n",
      "[(12, 3), (15, 8), (16, 9), (16, 6), (10, 2), (21, 9), (18, 4), (12, 4), (17, 8), (18, 9)]\n",
      "[(50, 10), (13, 8), (19, 10), (16, 8), (12, 9), (10, 2), (12, 8), (13, 5), (15, 5), (11, 7), (16, 2)]\n",
      "50 10\n"
     ]
    }
   ],
   "source": [
    "## LEER EL ARCHIVO Y PASARLO A UNA LISTA\n",
    "\n",
    "from collections import defaultdict\n",
    "import math\n",
    "\n",
    "with open(\"archivo.txt\") as fileFiestas:\n",
    "  #PRIMERA LINEA\n",
    "  datos = [int(x) for x in fileFiestas.readline().split()]\n",
    "  presupuesto = datos[0]\n",
    "  n = datos[1]                      # numero de fiestas\n",
    "  \n",
    "  evaluar=[]\n",
    "  all = []\n",
    "  #A PARTIR DE LA SEGUNDA LINEA\n",
    "  for linea in fileFiestas:\n",
    "    lista = [int(x) for x in linea.split()]\n",
    "    if linea == '\\n': \n",
    "        all.append(evaluar)\n",
    "        evaluar=[]\n",
    "        \n",
    "    for i in range(0, len(lista), 3):\n",
    "        evaluar.append((lista[i], lista[i+1]))\n",
    " \n",
    "  \n",
    "### ----------------------------------------\n",
    "print(\"\\n*Evaluar:\")\n",
    "for items in all:\n",
    "    print(items)\n",
    "    \n",
    "print(presupuesto, n)"
   ]
  },
  {
   "cell_type": "code",
   "execution_count": 56,
   "metadata": {},
   "outputs": [
    {
     "name": "stdout",
     "output_type": "stream",
     "text": [
      "60 26\n",
      "53 33\n"
     ]
    }
   ],
   "source": [
    "# ALGORITMO\n",
    "\n",
    "def controlarPresupuesto(lista, presupuesto):\n",
    "    tarifa = []\n",
    "    i = len(lista) - 1 \n",
    "    while presupuesto > 0:\n",
    "        # buscar la entrada que ofrece mas diversion\n",
    "        diversionMAX = 0\n",
    "        arregloDiv = []\n",
    "        for entrada, diversion in (lista):\n",
    "            if(diversion not in arregloDiv):\n",
    "                arregloDiv.append(diversion)\n",
    "        diversionMAX = max(arregloDiv)\n",
    "    \n",
    "        # evaluar que sea la de menor precio\n",
    "        precioMenor = 10000\n",
    "        for entrada, diversion in (lista):\n",
    "            if (diversion == diversionMAX ):\n",
    "                if (entrada < precioMenor):\n",
    "                    precioMenor = entrada\n",
    "        #print(precioMenor)\n",
    "        #print(diversionMAX)\n",
    "        tarifa.append((precioMenor, diversionMAX))\n",
    "        lista.remove((precioMenor, diversionMAX))\n",
    "        presupuesto-=precioMenor\n",
    "    \n",
    "    tarifaTotal = 0\n",
    "    diversionTotal = 0\n",
    "    for entrada, diversion in tarifa:\n",
    "        tarifaTotal += entrada\n",
    "        diversionTotal += diversion\n",
    "        \n",
    "    print(tarifaTotal, diversionTotal)\n",
    "            \n",
    "for lista in all:\n",
    "    lista.sort()\n",
    "    controlarPresupuesto(lista, presupuesto)"
   ]
  },
  {
   "cell_type": "code",
   "execution_count": null,
   "metadata": {},
   "outputs": [],
   "source": [
    "def greedycoins(pt, d):\n",
    "    monedas = []\n",
    "    i = len(d) - 1              # empieza a recorre el ciclo desde el la moneda con mas valor (ENFOQUE CODICCIOSO)\n",
    "    \n",
    "    while pt > 0:\n",
    "        while d[i] > pt:        # hacer que el precio total sea mayor que la monedas posible\n",
    "            i -= 1\n",
    "        monedas.append(d[i])    # agregar la moneda de mas valor a la respuesta, siempre y cuando sea menor que el precio objetivo\n",
    "        pt -= d[i]              # actualizar el precio total\n",
    "        \n",
    "    return monedas"
   ]
  }
 ],
 "metadata": {
  "kernelspec": {
   "display_name": "Python 3",
   "language": "python",
   "name": "python3"
  },
  "language_info": {
   "codemirror_mode": {
    "name": "ipython",
    "version": 3
   },
   "file_extension": ".py",
   "mimetype": "text/x-python",
   "name": "python",
   "nbconvert_exporter": "python",
   "pygments_lexer": "ipython3",
   "version": "3.11.2"
  },
  "orig_nbformat": 4
 },
 "nbformat": 4,
 "nbformat_minor": 2
}
