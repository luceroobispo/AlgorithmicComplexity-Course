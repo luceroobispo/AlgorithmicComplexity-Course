{
  "nbformat": 4,
  "nbformat_minor": 0,
  "metadata": {
    "colab": {
      "name": "1103-knapsack.ipynb",
      "provenance": []
    },
    "kernelspec": {
      "name": "python3",
      "display_name": "Python 3"
    },
    "language_info": {
      "name": "python"
    }
  },
  "cells": [
    {
      "cell_type": "code",
      "execution_count": null,
      "metadata": {
        "id": "bvYEj0fVXeuP"
      },
      "outputs": [],
      "source": [
        "import numpy as np\n",
        "\n",
        "def knapsack(i, j, W, V, C):\n",
        "    if i == 0 or j == 0:\n",
        "        C[i, j] = 0\n",
        "    else:\n",
        "        if C[i - 1, j] == -1:\n",
        "            knapsack(i - 1, j, W, V, C)\n",
        "        if W[i] <= j and C[i - 1, j - W[i]] == -1:\n",
        "            knapsack(i - 1, j - W[i], W, V, C)\n",
        "        if W[i] > j:\n",
        "            C[i, j] = C[i - 1, j]\n",
        "        else:\n",
        "            C[i, j] = max(V[i] + C[i - 1, j - W[i]], C[i - 1, j])"
      ]
    },
    {
      "cell_type": "code",
      "source": [
        "N = 4\n",
        "M = 5\n",
        "W = [0, 2, 3, 4, 5]\n",
        "V = [0, 3, 4, 5, 6]\n",
        "C = np.zeros((N + 1, M + 1)) - 1\n",
        "knapsack(N, M, W, V, C)\n",
        "print(C)"
      ],
      "metadata": {
        "colab": {
          "base_uri": "https://localhost:8080/"
        },
        "id": "jh9yL6LGYjxq",
        "outputId": "250073cc-561e-4419-ceea-65348fa2e35a"
      },
      "execution_count": null,
      "outputs": [
        {
          "output_type": "stream",
          "name": "stdout",
          "text": [
            "[[ 0.  0.  0.  0. -1.  0.]\n",
            " [-1.  0.  3. -1. -1.  3.]\n",
            " [-1.  0. -1. -1. -1.  7.]\n",
            " [ 0. -1. -1. -1. -1.  7.]\n",
            " [-1. -1. -1. -1. -1.  7.]]\n"
          ]
        }
      ]
    },
    {
      "cell_type": "code",
      "source": [
        ""
      ],
      "metadata": {
        "id": "VrGfY3flYwL0"
      },
      "execution_count": null,
      "outputs": []
    }
  ]
}