{
 "cells": [
  {
   "attachments": {},
   "cell_type": "markdown",
   "metadata": {},
   "source": [
    "# MST KRUSKAL\n",
    "Algoritmo: KRUSKAL"
   ]
  },
  {
   "cell_type": "code",
   "execution_count": 1,
   "metadata": {},
   "outputs": [],
   "source": [
    "# CREAR GRAFO PONDERADO ------------------------------\n",
    "class GrafoKruskal:\n",
    "    def __init__(self, nodos):\n",
    "        self.lstNodos = nodos\n",
    "        self.grafo = []\n",
    "\n",
    "    def agregar_arista(self, nodo1, nodo2, pesoArista):\n",
    "        self.grafo.append([nodo1, nodo2, pesoArista])\n",
    "\n",
    "\n",
    "\n",
    "# FUNCIONES DE BUSQUEDA -------------------------------\n",
    "\n",
    "# Obtiene la raiz del nodo\n",
    "def find(padre, i):\n",
    "    if padre[i] == i:\n",
    "        return i\n",
    "        \n",
    "    return find(padre, padre[i])\n",
    "\n",
    "# Examinamos el tamaño de los arboles, y se coloca el arbol más pequeño debajo del arbol mas grande\n",
    "def union(padre, rank, x, y):\n",
    "    xRaiz = find(padre, x)\n",
    "    yRaiz = find(padre, y)\n",
    "        \n",
    "    if rank[xRaiz] < rank[yRaiz]:\n",
    "        padre[xRaiz] = yRaiz\n",
    "    elif rank[xRaiz] > rank[yRaiz]:\n",
    "        padre[yRaiz] = xRaiz\n",
    "    else:\n",
    "        padre[yRaiz] = xRaiz\n",
    "        rank[yRaiz] += 1\n",
    "\n",
    "\n",
    "# ALGORITMO DE KRUSKAL  ----------------------------\n",
    "    \n",
    "def kruskal_algo(grafoP):\n",
    "    resultado = [] \n",
    "        \n",
    "    #\"i\": indice usado para las aristas ordenadas.\n",
    "    #\"e\": indice usado para resultado[]\n",
    "    i, e, pesoTotalGrafo = 0, 0, 0  \n",
    "        \n",
    "    #Ordena el Grafo por el peso de las aristas, de menor a mayor\n",
    "    grafoP.grafo = sorted(grafoP.grafo, key=lambda item: item[2]) \n",
    "        \n",
    "    #Inicializar subconjuntos relacionados a los nodos\n",
    "    padre = []\n",
    "    rank = []\n",
    "        \n",
    "    for nodo in range(grafoP.lstNodos):\n",
    "        padre.append(nodo) \n",
    "        rank.append(0)\n",
    "        \n",
    "    #Mientras el número de aristas a tomar es menor que lstNodos -1\n",
    "    while e < grafoP.lstNodos - 1: \n",
    "            \n",
    "        #Elegimos la arista de peso menor y se incrementa el índice para la próxima iteración\n",
    "        nodo1, nodo2, pesoArista = grafoP.grafo[i]\n",
    "        i = i + 1\n",
    "            \n",
    "        #Verificar si la arista no genera un ciclo\n",
    "        #Si es asi, se incluye en el resultado y se incrementa el índice del resultado para la siguiente arista           \n",
    "        x = find(padre, nodo1)\n",
    "        y = find(padre, nodo2)\n",
    "            \n",
    "        if x != y:\n",
    "            e = e + 1\n",
    "            resultado.append([nodo1, nodo2, pesoArista])\n",
    "            union(padre, rank, x, y)\n",
    "        \n",
    "    # Imprimir respuesta\n",
    "    print(\"Arista \\tPeso\")\n",
    "    for nodo1, nodo2, pesoArista in resultado:\n",
    "        pesoTotalGrafo = pesoTotalGrafo + pesoArista\n",
    "        print(f\"{nodo1} - {nodo2} \\t {pesoArista}\")\n",
    "\n",
    "    print(\"\\nCosto total del grafo: \", pesoTotalGrafo)\n",
    "\n",
    "    return resultado"
   ]
  },
  {
   "cell_type": "code",
   "execution_count": 5,
   "metadata": {},
   "outputs": [
    {
     "name": "stdout",
     "output_type": "stream",
     "text": [
      "\n",
      "*Grafo:\n",
      "[0, 1, 3]\n",
      "[0, 4, 5]\n",
      "[0, 3, 9]\n",
      "[1, 4, 4]\n",
      "[1, 5, 1]\n",
      "[1, 2, 2]\n",
      "[2, 5, 6]\n",
      "[2, 6, 2]\n",
      "[3, 7, 8]\n",
      "[4, 7, 4]\n",
      "[4, 8, 7]\n",
      "[4, 5, 3]\n",
      "[5, 8, 3]\n",
      "[5, 6, 4]\n",
      "[6, 8, 7]\n",
      "[7, 8, 7]\n"
     ]
    }
   ],
   "source": [
    "g = GrafoKruskal(9)\n",
    "g.agregar_arista(0, 1, 3)\n",
    "g.agregar_arista(0, 4, 5)\n",
    "g.agregar_arista(0, 3, 9)\n",
    "g.agregar_arista(1, 4, 4)\n",
    "g.agregar_arista(1, 5, 1)\n",
    "g.agregar_arista(1, 2, 2)\n",
    "g.agregar_arista(2, 5, 6)\n",
    "g.agregar_arista(2, 6, 2)\n",
    "g.agregar_arista(3, 7, 8)\n",
    "g.agregar_arista(4, 7, 4)\n",
    "g.agregar_arista(4, 8, 7)\n",
    "g.agregar_arista(4, 5, 3)\n",
    "g.agregar_arista(5, 8, 3)\n",
    "g.agregar_arista(5, 6, 4)\n",
    "g.agregar_arista(6, 8, 7)\n",
    "g.agregar_arista(7, 8, 7)\n",
    "### ----------------------------------------\n",
    "print(\"\\n*Grafo:\")\n",
    "for arista in g.grafo:\n",
    "    print(f\"{arista}\")    "
   ]
  },
  {
   "cell_type": "code",
   "execution_count": 6,
   "metadata": {},
   "outputs": [
    {
     "name": "stdout",
     "output_type": "stream",
     "text": [
      "\n",
      "*Arbol de expansion minima:\n",
      "Arista \tPeso\n",
      "1 - 5 \t 1\n",
      "1 - 2 \t 2\n",
      "2 - 6 \t 2\n",
      "0 - 1 \t 3\n",
      "4 - 5 \t 3\n",
      "5 - 8 \t 3\n",
      "4 - 7 \t 4\n",
      "3 - 7 \t 8\n",
      "\n",
      "Costo total del grafo:  26\n"
     ]
    }
   ],
   "source": [
    "#Algoritmo de Kruskal\n",
    "print(\"\\n*Arbol de expansion minima:\")\n",
    "resultado = kruskal_algo(g)"
   ]
  }
 ],
 "metadata": {
  "kernelspec": {
   "display_name": "Python 3",
   "language": "python",
   "name": "python3"
  },
  "language_info": {
   "codemirror_mode": {
    "name": "ipython",
    "version": 3
   },
   "file_extension": ".py",
   "mimetype": "text/x-python",
   "name": "python",
   "nbconvert_exporter": "python",
   "pygments_lexer": "ipython3",
   "version": "3.11.2"
  },
  "orig_nbformat": 4
 },
 "nbformat": 4,
 "nbformat_minor": 2
}
