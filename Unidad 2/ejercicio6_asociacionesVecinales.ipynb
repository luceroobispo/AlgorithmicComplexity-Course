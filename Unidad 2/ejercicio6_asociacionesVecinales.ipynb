{
 "cells": [
  {
   "attachments": {},
   "cell_type": "markdown",
   "metadata": {},
   "source": [
    "# ASOCIACIONES VECINALES\n",
    "Algoritmo: FLUJO MAXIMO DE REDES "
   ]
  },
  {
   "cell_type": "code",
   "execution_count": 5,
   "metadata": {},
   "outputs": [],
   "source": [
    "def BFS(grafo, nodoOrigen, nodoDestino, padre):\n",
    "    visitados = [False] * len(grafo)\n",
    "    cola = []\n",
    "    \n",
    "    cola.append(nodoOrigen)\n",
    "    visitados[nodoOrigen] = True\n",
    "    \n",
    "    # Encontrar un camino del grafo, cuya arista tenga capacidad y aun no haya sido agregada al camino\n",
    "    while cola:\n",
    "        nodo = cola.pop(0)\n",
    "        \n",
    "        for vecino in range(len(grafo[nodo])):\n",
    "            if visitados[vecino] is False and grafo[nodo][vecino] > 0:\n",
    "                cola.append(vecino)\n",
    "                visitados[vecino] = True\n",
    "                padre[vecino] = nodo\n",
    "    \n",
    "    if visitados[nodoDestino]: return True\n",
    "    else: return False\n",
    " \n",
    " \n",
    "def FordFulkerson(grafo, nodoOrigen, nodoDestino, grafoInicial):\n",
    "    padre = [-1] * (len(grafo))\n",
    "    flujo_maximo = 0\n",
    "    \n",
    "    while BFS(grafo, nodoOrigen, nodoDestino, padre):\n",
    "        camino_flujo = float(\"Inf\")\n",
    "\n",
    "        # En el camino seleccionado, escoger la arista con flujo/capacidad menor\n",
    "        # Significa que este flujo si va a poder ser transportado desde el nodo origen al nodo destino\n",
    "        destino = nodoDestino\n",
    "        \n",
    "        print(f\"\\n\\nCamino Seleccionado: {destino}\", end='-')\n",
    "        while destino != nodoOrigen:\n",
    "            camino_flujo = min(camino_flujo, grafo[padre[destino]][destino])\n",
    "            destino = padre[destino]\n",
    "            print(destino, end='-')\n",
    " \n",
    "        # Actualizar el flujo maximo\n",
    "        flujo_maximo += camino_flujo\n",
    "        print(f\"\\nFlujo a transportar: {camino_flujo}, entonces el flujo maximo: {flujo_maximo}\")\n",
    "        \n",
    "        # Actualiza en el grafo, el flujo transportado en todas las aristas del camino seleccionado\n",
    "        nodo2 = nodoDestino\n",
    "\n",
    "        print(f\"Camino Actualizado:\", end=' ')\n",
    "        while nodo2 != nodoOrigen:\n",
    "            nodo1 = padre[nodo2]\n",
    "            grafo[nodo1][nodo2] -= camino_flujo     # Almacena el flujo que aun se puede transportar porque todavia no alcanza la capacidad -> CAPACIDAD - FLUJO ACTUAL\n",
    "            grafo[nodo2][nodo1] += camino_flujo     # Almacena el flujo actual -> FLUJO ACTUAL\n",
    "            print(f\"{nodo1}-{nodo2}: {grafo[nodo2][nodo1]}/{grafoInicial[nodo1][nodo2]}\", end=', ')\n",
    "            \n",
    "            nodo2 = padre[nodo2]\n",
    "    \n",
    "    \n",
    "    print(\"\\n\\nGRAFO FINAL [Flujo transportado/Capacidad]\")\n",
    "    conti = 0;\n",
    "    for i in grafoInicial:\n",
    "        contj=0\n",
    "        for j in i:\n",
    "            if(j!=0):\n",
    "                print(f\"{conti} - {contj}: {grafo[contj][conti]}/{j}\")\n",
    "            contj+=1\n",
    "        conti+=1\n",
    "        \n",
    "    \n",
    "    return flujo_maximo"
   ]
  },
  {
   "cell_type": "code",
   "execution_count": 19,
   "metadata": {},
   "outputs": [
    {
     "name": "stdout",
     "output_type": "stream",
     "text": [
      "GRAFO INICIAL\n",
      "0 - 1: 2\n",
      "0 - 2: 1\n",
      "0 - 3: 2\n",
      "1 - 4: 1\n",
      "2 - 4: 1\n",
      "3 - 4: 1\n",
      "\n",
      "Cantidad de ciudadanos por asociacion vecinal: \n",
      "A1: 2, A2: 1, A3: 2\n"
     ]
    }
   ],
   "source": [
    "grafo = [\n",
    "    [0, 2, 1, 2, 0],\n",
    "    [0, 0, 0, 0, 1],\n",
    "    [0, 0, 0, 0, 1],\n",
    "    [0, 0, 0, 0, 1],\n",
    "    [0, 0, 0, 0, 0],\n",
    "]\n",
    "\n",
    "grafoInicial = [\n",
    "    [0, 2, 1, 2, 0],\n",
    "    [0, 0, 0, 0, 1],\n",
    "    [0, 0, 0, 0, 1],\n",
    "    [0, 0, 0, 0, 1],\n",
    "    [0, 0, 0, 0, 0],\n",
    "]\n",
    "\n",
    "nodoOrigen, nodoDestino = 0, 4          # representa a s y t en el ejecicio manual que  hice\n",
    "\n",
    "print(\"GRAFO INICIAL\")\n",
    "## ENTENDIENDO LOS DATOS DE LA MATRIZ\n",
    "conti = 0;\n",
    "for i in grafo:\n",
    "    contj=0\n",
    "    for j in i:\n",
    "        if(j!=0):\n",
    "            print(f\"{conti} - {contj}: {j}\")\n",
    "        contj+=1\n",
    "    conti+=1\n",
    "\n",
    "print(\"\\nCantidad de ciudadanos por asociacion vecinal: \")\n",
    "print(f\"A1: {grafo[0][1]}, A2: {grafo[0][2]}, A3: {grafo[0][3]}\")"
   ]
  },
  {
   "cell_type": "code",
   "execution_count": 20,
   "metadata": {},
   "outputs": [
    {
     "name": "stdout",
     "output_type": "stream",
     "text": [
      "\n",
      "\n",
      "Camino Seleccionado: 4-1-0-\n",
      "Flujo a transportar: 1, entonces el flujo maximo: 1\n",
      "Camino Actualizado: 1-4: 1/1, 0-1: 1/2, \n",
      "\n",
      "Camino Seleccionado: 4-2-0-\n",
      "Flujo a transportar: 1, entonces el flujo maximo: 2\n",
      "Camino Actualizado: 2-4: 1/1, 0-2: 1/1, \n",
      "\n",
      "Camino Seleccionado: 4-3-0-\n",
      "Flujo a transportar: 1, entonces el flujo maximo: 3\n",
      "Camino Actualizado: 3-4: 1/1, 0-3: 1/2, \n",
      "\n",
      "GRAFO FINAL [Flujo transportado/Capacidad]\n",
      "0 - 1: 1/2\n",
      "0 - 2: 1/1\n",
      "0 - 3: 1/2\n",
      "1 - 4: 1/1\n",
      "2 - 4: 1/1\n",
      "3 - 4: 1/1\n",
      "\n",
      "RPTA: Numero de representantes que pudieron ser elegidos es: 3\n"
     ]
    }
   ],
   "source": [
    "print(f\"\\nRPTA: Numero de representantes que pudieron ser elegidos es: {FordFulkerson(grafo, nodoOrigen, nodoDestino, grafoInicial)}\")"
   ]
  }
 ],
 "metadata": {
  "kernelspec": {
   "display_name": "Python 3",
   "language": "python",
   "name": "python3"
  },
  "language_info": {
   "codemirror_mode": {
    "name": "ipython",
    "version": 3
   },
   "file_extension": ".py",
   "mimetype": "text/x-python",
   "name": "python",
   "nbconvert_exporter": "python",
   "pygments_lexer": "ipython3",
   "version": "3.11.2"
  },
  "orig_nbformat": 4
 },
 "nbformat": 4,
 "nbformat_minor": 2
}
