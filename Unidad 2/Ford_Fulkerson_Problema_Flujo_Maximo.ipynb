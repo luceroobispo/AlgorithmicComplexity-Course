{
  "cells": [
    {
      "cell_type": "code",
      "execution_count": 5,
      "metadata": {
        "colab": {
          "base_uri": "https://localhost:8080/"
        },
        "id": "fJNigMkU_ES6",
        "outputId": "fb03ba6e-4d1c-49f0-b856-4d4df1db6303"
      },
      "outputs": [
        {
          "name": "stdout",
          "output_type": "stream",
          "text": [
            "23\n"
          ]
        }
      ],
      "source": [
        "# Ford-Fulkerson Algorithm for Maximum Flow Problem\n",
        "\"\"\"\n",
        "Description:\n",
        "    (1) Start with initial flow as 0;\n",
        "    (2) Choose augmenting path from source to sink and add path to flow;\n",
        "\"\"\"\n",
        " \n",
        " \n",
        "def BFS(graph, s, t, parent):\n",
        "    # Return True if there is node that has not iterated.\n",
        "    visited = [False] * len(graph)\n",
        "    queue = []\n",
        "    queue.append(s)\n",
        "    visited[s] = True\n",
        " \n",
        "    while queue:\n",
        "        u = queue.pop(0)\n",
        "        for ind in range(len(graph[u])):\n",
        "            if visited[ind] is False and graph[u][ind] > 0:\n",
        "                queue.append(ind)\n",
        "                visited[ind] = True\n",
        "                parent[ind] = u\n",
        " \n",
        "    return True if visited[t] else False\n",
        " \n",
        " \n",
        "def FordFulkerson(graph, source, sink):\n",
        "    # This array is filled by BFS and to store path\n",
        "    parent = [-1] * (len(graph))\n",
        "    max_flow = 0\n",
        "    while BFS(graph, source, sink, parent):\n",
        "        path_flow = float(\"Inf\")\n",
        "        s = sink\n",
        " \n",
        "        while s != source:\n",
        "            # Find the minimum value in select path\n",
        "            path_flow = min(path_flow, graph[parent[s]][s])\n",
        "            s = parent[s]\n",
        " \n",
        "        max_flow += path_flow\n",
        "        v = sink\n",
        " \n",
        "        while v != source:\n",
        "            u = parent[v]\n",
        "            graph[u][v] -= path_flow\n",
        "            graph[v][u] += path_flow\n",
        "            v = parent[v]\n",
        "    return max_flow\n",
        " \n",
        " \n",
        "graph = [\n",
        "    [0, 16, 13, 0, 0, 0],\n",
        "    [0, 0, 10, 12, 0, 0],\n",
        "    [0, 4, 0, 0, 14, 0],\n",
        "    [0, 0, 9, 0, 0, 20],\n",
        "    [0, 0, 0, 7, 0, 4],\n",
        "    [0, 0, 0, 0, 0, 0],\n",
        "]\n",
        " \n",
        "source, sink = 0, 5\n",
        "print(FordFulkerson(graph, source, sink))"
      ]
    }
  ],
  "metadata": {
    "colab": {
      "collapsed_sections": [],
      "name": "Ford-Fulkerson-Problema-Flujo-Maximo.ipynb",
      "provenance": []
    },
    "kernelspec": {
      "display_name": "Python 3",
      "name": "python3"
    },
    "language_info": {
      "name": "python"
    }
  },
  "nbformat": 4,
  "nbformat_minor": 0
}
