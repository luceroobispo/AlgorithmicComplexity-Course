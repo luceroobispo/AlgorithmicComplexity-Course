{
  "cells": [
    {
      "cell_type": "markdown",
      "metadata": {
        "id": "8BRxmomdTqHn"
      },
      "source": [
        "# **Lista de Adyacencia**"
      ]
    },
    {
      "cell_type": "code",
      "execution_count": null,
      "metadata": {
        "id": "9HIdxnvWToqP"
      },
      "outputs": [],
      "source": [
        "# Lista de adyacencia como un diccionario\n",
        "ady_list = {}\n",
        "milista = []\n"
      ]
    },
    {
      "cell_type": "code",
      "execution_count": null,
      "metadata": {
        "id": "9a71piHvT_xG"
      },
      "outputs": [],
      "source": [
        "def ad_nodo(nodo):\n",
        "  if nodo not in milista:\n",
        "    milista.append(nodo)\n",
        "  else:\n",
        "    print(\"Nodo \", nodo, \"ya esta en mi lista\")\n"
      ]
    },
    {
      "cell_type": "code",
      "execution_count": null,
      "metadata": {
        "id": "6EbTayefUVGW"
      },
      "outputs": [],
      "source": [
        "def ad_arista(nodo1, nodo2):\n",
        "  temp = []\n",
        "  if nodo1 in milista and nodo2 in milista:\n",
        "    if nodo1 not in ady_list:\n",
        "      temp.append(nodo2)\n",
        "      ady_list[nodo1] = temp\n",
        "   \n",
        "    elif nodo1 in ady_list:\n",
        "      temp.extend(ady_list[nodo1])\n",
        "      temp.append(nodo2)\n",
        "      ady_list[nodo1] = temp\n",
        "       \n",
        "  else:\n",
        "    print(\"Nodo no existe!\")\n"
      ]
    },
    {
      "cell_type": "code",
      "execution_count": null,
      "metadata": {
        "id": "kh4j8CLqW5gt"
      },
      "outputs": [],
      "source": [
        "def grafo():\n",
        "  for nodo in ady_list:\n",
        "    print(nodo, \"-->\", [i for i in ady_list[nodo]])"
      ]
    },
    {
      "cell_type": "code",
      "execution_count": null,
      "metadata": {
        "id": "AB7Fe3dHXir8"
      },
      "outputs": [],
      "source": [
        "#adicionamos nodos\n",
        "\n",
        "ad_nodo(0)\n",
        "ad_nodo(1)\n",
        "ad_nodo(2)\n",
        "ad_nodo(3)\n",
        "ad_nodo(4)\n"
      ]
    },
    {
      "cell_type": "code",
      "execution_count": null,
      "metadata": {
        "id": "C_LwiuYnX7nA"
      },
      "outputs": [],
      "source": [
        "ad_arista(0,1)\n",
        "ad_arista(1,2)\n",
        "ad_arista(2,3)\n",
        "ad_arista(3,0)\n",
        "ad_arista(3,4)\n",
        "ad_arista(4,0)"
      ]
    },
    {
      "cell_type": "code",
      "execution_count": null,
      "metadata": {
        "colab": {
          "base_uri": "https://localhost:8080/"
        },
        "id": "RcbDCdkxYLGj",
        "outputId": "316b9310-93a4-4505-cd68-a4d42d1090e3"
      },
      "outputs": [
        {
          "name": "stdout",
          "output_type": "stream",
          "text": [
            "0 --> [1]\n",
            "1 --> [2]\n",
            "2 --> [3]\n",
            "3 --> [0, 4]\n",
            "4 --> [0]\n"
          ]
        }
      ],
      "source": [
        "grafo()"
      ]
    },
    {
      "cell_type": "code",
      "execution_count": null,
      "metadata": {
        "colab": {
          "base_uri": "https://localhost:8080/"
        },
        "id": "0Yv5aPvkYjQR",
        "outputId": "d03db967-8215-4d2a-f263-ca78f5a66d76"
      },
      "outputs": [
        {
          "name": "stdout",
          "output_type": "stream",
          "text": [
            "{0: [1], 1: [2], 2: [3], 3: [0, 4], 4: [0]}\n"
          ]
        }
      ],
      "source": [
        "print(ady_list)"
      ]
    },
    {
      "cell_type": "markdown",
      "metadata": {
        "id": "5Xurge-wtZCV"
      },
      "source": [
        "**Otra forma**\n",
        "Lista de adyacencia como listas"
      ]
    },
    {
      "cell_type": "markdown",
      "metadata": {
        "id": "28B7ti8Bvts-"
      },
      "source": [
        "**Opcion #1:**"
      ]
    },
    {
      "cell_type": "code",
      "execution_count": null,
      "metadata": {
        "id": "taRFWrphtygg"
      },
      "outputs": [],
      "source": [
        "import graphviz as gv"
      ]
    },
    {
      "cell_type": "code",
      "execution_count": null,
      "metadata": {
        "id": "j8UlHAPLuzrN"
      },
      "outputs": [],
      "source": [
        "class Graph:\n",
        "  def __init__(self):\n",
        "    self.Vertices = []\n",
        "    self.label2v = dict()\n",
        "    self.G = []\n",
        "\n",
        "  def node(self, label):\n",
        "    self.label2v[label] = len(self.Vertices)\n",
        "    self.Vertices.append(label)\n",
        "    self.G.append([])\n",
        "\n",
        "  def nodes(self, labels):\n",
        "    for label in labels:\n",
        "      self.node(label)\n",
        "\n",
        "  def edge(self, u, v):\n",
        "    u = self.label2v[u]\n",
        "    v = self.label2v[v]\n",
        "\n",
        "    self.G[u].append(v)\n",
        "\n",
        "  def edges(self, u, vs):\n",
        "    for v in vs:\n",
        "      self.edge(u, v)\n",
        "\n",
        "  def Dot(self):\n",
        "    graph = gv.Digraph(\"X\")\n",
        "    n = len(self.G)\n",
        "    for u in range(n):\n",
        "      graph.node(str(u), str(Vertices[u]))\n",
        "\n",
        "    for u in range(n):\n",
        "      for v in self.G[u]:\n",
        "        graph.edge(str(u), str(v))\n",
        "\n",
        "    return graph"
      ]
    },
    {
      "cell_type": "code",
      "execution_count": null,
      "metadata": {
        "colab": {
          "base_uri": "https://localhost:8080/",
          "height": 560
        },
        "id": "Ocz1qEybup-Z",
        "outputId": "0c28d5e1-8610-47d1-d494-15b92c57062b"
      },
      "outputs": [
        {
          "data": {
            "image/svg+xml": [
              "<?xml version=\"1.0\" encoding=\"UTF-8\" standalone=\"no\"?>\n",
              "<!DOCTYPE svg PUBLIC \"-//W3C//DTD SVG 1.1//EN\"\n",
              " \"http://www.w3.org/Graphics/SVG/1.1/DTD/svg11.dtd\">\n",
              "<!-- Generated by graphviz version 2.40.1 (20161225.0304)\n",
              " -->\n",
              "<!-- Title: X Pages: 1 -->\n",
              "<svg width=\"231pt\" height=\"404pt\"\n",
              " viewBox=\"0.00 0.00 230.51 404.00\" xmlns=\"http://www.w3.org/2000/svg\" xmlns:xlink=\"http://www.w3.org/1999/xlink\">\n",
              "<g id=\"graph0\" class=\"graph\" transform=\"scale(1 1) rotate(0) translate(4 400)\">\n",
              "<title>X</title>\n",
              "<polygon fill=\"#ffffff\" stroke=\"transparent\" points=\"-4,4 -4,-400 226.5128,-400 226.5128,4 -4,4\"/>\n",
              "<!-- 0 -->\n",
              "<g id=\"node1\" class=\"node\">\n",
              "<title>0</title>\n",
              "<ellipse fill=\"none\" stroke=\"#000000\" cx=\"112.5128\" cy=\"-234\" rx=\"27\" ry=\"18\"/>\n",
              "<text text-anchor=\"middle\" x=\"112.5128\" y=\"-230.3\" font-family=\"Times,serif\" font-size=\"14.00\" fill=\"#000000\">1</text>\n",
              "</g>\n",
              "<!-- 1 -->\n",
              "<g id=\"node2\" class=\"node\">\n",
              "<title>1</title>\n",
              "<ellipse fill=\"none\" stroke=\"#000000\" cx=\"40.5128\" cy=\"-234\" rx=\"27\" ry=\"18\"/>\n",
              "<text text-anchor=\"middle\" x=\"40.5128\" y=\"-230.3\" font-family=\"Times,serif\" font-size=\"14.00\" fill=\"#000000\">2</text>\n",
              "</g>\n",
              "<!-- 2 -->\n",
              "<g id=\"node3\" class=\"node\">\n",
              "<title>2</title>\n",
              "<ellipse fill=\"none\" stroke=\"#000000\" cx=\"40.5128\" cy=\"-162\" rx=\"27\" ry=\"18\"/>\n",
              "<text text-anchor=\"middle\" x=\"40.5128\" y=\"-158.3\" font-family=\"Times,serif\" font-size=\"14.00\" fill=\"#000000\">3</text>\n",
              "</g>\n",
              "<!-- 1&#45;&gt;2 -->\n",
              "<g id=\"edge1\" class=\"edge\">\n",
              "<title>1&#45;&gt;2</title>\n",
              "<path fill=\"none\" stroke=\"#000000\" d=\"M34.5971,-216.2022C33.7927,-208.1807 33.57,-198.5231 33.9291,-189.5957\"/>\n",
              "<polygon fill=\"#000000\" stroke=\"#000000\" points=\"37.4225,-189.8099 34.6178,-179.593 30.439,-189.3289 37.4225,-189.8099\"/>\n",
              "</g>\n",
              "<!-- 3 -->\n",
              "<g id=\"node4\" class=\"node\">\n",
              "<title>3</title>\n",
              "<ellipse fill=\"none\" stroke=\"#000000\" cx=\"168.5128\" cy=\"-90\" rx=\"27\" ry=\"18\"/>\n",
              "<text text-anchor=\"middle\" x=\"168.5128\" y=\"-86.3\" font-family=\"Times,serif\" font-size=\"14.00\" fill=\"#000000\">4</text>\n",
              "</g>\n",
              "<!-- 1&#45;&gt;3 -->\n",
              "<g id=\"edge2\" class=\"edge\">\n",
              "<title>1&#45;&gt;3</title>\n",
              "<path fill=\"none\" stroke=\"#000000\" d=\"M54.4547,-218.3154C76.9607,-192.9961 121.4238,-142.9752 147.6943,-113.4209\"/>\n",
              "<polygon fill=\"#000000\" stroke=\"#000000\" points=\"150.5604,-115.4647 154.5881,-105.6653 145.3285,-110.8141 150.5604,-115.4647\"/>\n",
              "</g>\n",
              "<!-- 2&#45;&gt;1 -->\n",
              "<g id=\"edge3\" class=\"edge\">\n",
              "<title>2&#45;&gt;1</title>\n",
              "<path fill=\"none\" stroke=\"#000000\" d=\"M46.4079,-179.593C47.2222,-187.5865 47.4548,-197.2363 47.1057,-206.1759\"/>\n",
              "<polygon fill=\"#000000\" stroke=\"#000000\" points=\"43.6104,-205.9891 46.4286,-216.2022 50.5945,-206.4608 43.6104,-205.9891\"/>\n",
              "</g>\n",
              "<!-- 2&#45;&gt;3 -->\n",
              "<g id=\"edge4\" class=\"edge\">\n",
              "<title>2&#45;&gt;3</title>\n",
              "<path fill=\"none\" stroke=\"#000000\" d=\"M61.3631,-150.2717C82.3762,-138.4519 115.0055,-120.0979 138.7385,-106.7481\"/>\n",
              "<polygon fill=\"#000000\" stroke=\"#000000\" points=\"140.6716,-109.6764 147.6715,-101.7233 137.2398,-103.5754 140.6716,-109.6764\"/>\n",
              "</g>\n",
              "<!-- 4 -->\n",
              "<g id=\"node5\" class=\"node\">\n",
              "<title>4</title>\n",
              "<ellipse fill=\"none\" stroke=\"#000000\" cx=\"144.5128\" cy=\"-306\" rx=\"27\" ry=\"18\"/>\n",
              "<text text-anchor=\"middle\" x=\"144.5128\" y=\"-302.3\" font-family=\"Times,serif\" font-size=\"14.00\" fill=\"#000000\">5</text>\n",
              "</g>\n",
              "<!-- 3&#45;&gt;4 -->\n",
              "<g id=\"edge5\" class=\"edge\">\n",
              "<title>3&#45;&gt;4</title>\n",
              "<path fill=\"none\" stroke=\"#000000\" d=\"M170.4503,-108.2255C169.6968,-146.1145 160.2206,-233.5783 152.267,-278.4108\"/>\n",
              "<polygon fill=\"#000000\" stroke=\"#000000\" points=\"148.8116,-277.847 150.3887,-288.3238 155.6892,-279.1502 148.8116,-277.847\"/>\n",
              "</g>\n",
              "<!-- 6 -->\n",
              "<g id=\"node7\" class=\"node\">\n",
              "<title>6</title>\n",
              "<ellipse fill=\"none\" stroke=\"#000000\" cx=\"195.5128\" cy=\"-18\" rx=\"27\" ry=\"18\"/>\n",
              "<text text-anchor=\"middle\" x=\"195.5128\" y=\"-14.3\" font-family=\"Times,serif\" font-size=\"14.00\" fill=\"#000000\">7</text>\n",
              "</g>\n",
              "<!-- 3&#45;&gt;6 -->\n",
              "<g id=\"edge6\" class=\"edge\">\n",
              "<title>3&#45;&gt;6</title>\n",
              "<path fill=\"none\" stroke=\"#000000\" d=\"M175.187,-72.2022C178.2604,-64.0064 181.9744,-54.1024 185.3824,-45.0145\"/>\n",
              "<polygon fill=\"#000000\" stroke=\"#000000\" points=\"188.6813,-46.1853 188.9154,-35.593 182.127,-43.7274 188.6813,-46.1853\"/>\n",
              "</g>\n",
              "<!-- 4&#45;&gt;0 -->\n",
              "<g id=\"edge7\" class=\"edge\">\n",
              "<title>4&#45;&gt;0</title>\n",
              "<path fill=\"none\" stroke=\"#000000\" d=\"M136.7665,-288.5708C133.0324,-280.1691 128.4724,-269.9091 124.3183,-260.5623\"/>\n",
              "<polygon fill=\"#000000\" stroke=\"#000000\" points=\"127.4476,-258.9853 120.1878,-251.2687 121.0509,-261.8283 127.4476,-258.9853\"/>\n",
              "</g>\n",
              "<!-- 4&#45;&gt;1 -->\n",
              "<g id=\"edge8\" class=\"edge\">\n",
              "<title>4&#45;&gt;1</title>\n",
              "<path fill=\"none\" stroke=\"#000000\" d=\"M125.4376,-292.7941C109.3115,-281.6298 86.0087,-265.4971 67.8907,-252.9539\"/>\n",
              "<polygon fill=\"#000000\" stroke=\"#000000\" points=\"69.6813,-249.9367 59.4671,-247.1222 65.6968,-255.692 69.6813,-249.9367\"/>\n",
              "</g>\n",
              "<!-- 4&#45;&gt;3 -->\n",
              "<g id=\"edge9\" class=\"edge\">\n",
              "<title>4&#45;&gt;3</title>\n",
              "<path fill=\"none\" stroke=\"#000000\" d=\"M142.5719,-287.9555C143.2976,-250.2205 152.7643,-162.7518 160.7234,-117.7882\"/>\n",
              "<polygon fill=\"#000000\" stroke=\"#000000\" points=\"164.1853,-118.3173 162.6033,-107.8413 157.3071,-117.0173 164.1853,-118.3173\"/>\n",
              "</g>\n",
              "<!-- 5 -->\n",
              "<g id=\"node6\" class=\"node\">\n",
              "<title>5</title>\n",
              "<ellipse fill=\"none\" stroke=\"#000000\" cx=\"48.5128\" cy=\"-378\" rx=\"27\" ry=\"18\"/>\n",
              "<text text-anchor=\"middle\" x=\"48.5128\" y=\"-374.3\" font-family=\"Times,serif\" font-size=\"14.00\" fill=\"#000000\">6</text>\n",
              "</g>\n",
              "<!-- 5&#45;&gt;2 -->\n",
              "<g id=\"edge10\" class=\"edge\">\n",
              "<title>5&#45;&gt;2</title>\n",
              "<path fill=\"none\" stroke=\"#000000\" d=\"M37.7688,-361.3521C20.1404,-331.8945 -11.4491,-268.7186 4.5128,-216 7.779,-205.2127 13.9892,-194.6108 20.3441,-185.6963\"/>\n",
              "<polygon fill=\"#000000\" stroke=\"#000000\" points=\"23.1413,-187.8001 26.3899,-177.7156 17.5616,-183.5732 23.1413,-187.8001\"/>\n",
              "</g>\n",
              "<!-- 5&#45;&gt;4 -->\n",
              "<g id=\"edge11\" class=\"edge\">\n",
              "<title>5&#45;&gt;4</title>\n",
              "<path fill=\"none\" stroke=\"#000000\" d=\"M66.5697,-364.4574C81.1853,-353.4956 101.9678,-337.9088 118.3977,-325.5864\"/>\n",
              "<polygon fill=\"#000000\" stroke=\"#000000\" points=\"120.6369,-328.282 126.5369,-319.4819 116.4369,-322.682 120.6369,-328.282\"/>\n",
              "</g>\n",
              "<!-- 6&#45;&gt;4 -->\n",
              "<g id=\"edge12\" class=\"edge\">\n",
              "<title>6&#45;&gt;4</title>\n",
              "<path fill=\"none\" stroke=\"#000000\" d=\"M199.2603,-35.9069C201.2594,-46.3759 203.5094,-59.8759 204.5128,-72 205.8325,-87.9455 206.1001,-92.0789 204.5128,-108 198.0364,-172.9629 198.507,-190.8985 175.5128,-252 171.8393,-261.7616 166.5313,-271.8356 161.3427,-280.6\"/>\n",
              "<polygon fill=\"#000000\" stroke=\"#000000\" points=\"158.3156,-278.8409 156.0524,-289.1913 164.2762,-282.5113 158.3156,-278.8409\"/>\n",
              "</g>\n",
              "</g>\n",
              "</svg>\n"
            ],
            "text/plain": [
              "<graphviz.dot.Digraph at 0x7f6a0c606c10>"
            ]
          },
          "execution_count": 18,
          "metadata": {},
          "output_type": "execute_result"
        }
      ],
      "source": [
        "G = Graph()\n",
        "G.nodes([\"1\", \"2\", \"3\", \"4\", \"5\", \"6\", \"7\"])\n",
        "G.edges(\"2\", [\"3\", \"4\"])\n",
        "G.edges(\"3\", [\"2\", \"4\"])\n",
        "G.edges(\"4\", [\"5\", \"7\"])\n",
        "G.edges(\"5\", [\"1\", \"2\", \"4\"])\n",
        "G.edges(\"6\", [\"3\", \"5\"])\n",
        "G.edges(\"7\", [\"5\"])\n",
        "\n",
        "G.Dot()"
      ]
    },
    {
      "cell_type": "markdown",
      "metadata": {
        "id": "vV7HuS9gvz5G"
      },
      "source": [
        "**Opcion #2:**"
      ]
    },
    {
      "cell_type": "code",
      "execution_count": null,
      "metadata": {
        "id": "hF49BioPtYF5"
      },
      "outputs": [],
      "source": [
        "# Son 7 vertices y la lista de adyacencia G el primer elemento representa al nodo 1 (las aristas van desde el nodo 2)\n",
        "Vertices = [\"1\", \"2\", \"3\", \"4\", \"5\", \"6\", \"7\"]\n",
        "G = [[],\n",
        "     [2, 3],\n",
        "     [1, 3],\n",
        "     [4, 6],\n",
        "     [0, 1, 3],\n",
        "     [2, 4],\n",
        "     [4]]"
      ]
    },
    {
      "cell_type": "code",
      "execution_count": null,
      "metadata": {
        "colab": {
          "base_uri": "https://localhost:8080/",
          "height": 925
        },
        "id": "34n6EQj-tcrm",
        "outputId": "e6b8590e-8caa-4e58-b66c-c003876cac35"
      },
      "outputs": [
        {
          "name": "stdout",
          "output_type": "stream",
          "text": [
            "digraph nombre {\n",
            "\t0 [label=1]\n",
            "\t1 [label=2]\n",
            "\t2 [label=3]\n",
            "\t3 [label=4]\n",
            "\t4 [label=5]\n",
            "\t5 [label=6]\n",
            "\t6 [label=7]\n",
            "\t1 -> 2\n",
            "\t1 -> 3\n",
            "\t2 -> 1\n",
            "\t2 -> 3\n",
            "\t3 -> 4\n",
            "\t3 -> 6\n",
            "\t4 -> 0\n",
            "\t4 -> 1\n",
            "\t4 -> 3\n",
            "\t5 -> 2\n",
            "\t5 -> 4\n",
            "\t6 -> 4\n",
            "}\n"
          ]
        },
        {
          "data": {
            "image/svg+xml": [
              "<?xml version=\"1.0\" encoding=\"UTF-8\" standalone=\"no\"?>\n",
              "<!DOCTYPE svg PUBLIC \"-//W3C//DTD SVG 1.1//EN\"\n",
              " \"http://www.w3.org/Graphics/SVG/1.1/DTD/svg11.dtd\">\n",
              "<!-- Generated by graphviz version 2.40.1 (20161225.0304)\n",
              " -->\n",
              "<!-- Title: nombre Pages: 1 -->\n",
              "<svg width=\"231pt\" height=\"404pt\"\n",
              " viewBox=\"0.00 0.00 230.51 404.00\" xmlns=\"http://www.w3.org/2000/svg\" xmlns:xlink=\"http://www.w3.org/1999/xlink\">\n",
              "<g id=\"graph0\" class=\"graph\" transform=\"scale(1 1) rotate(0) translate(4 400)\">\n",
              "<title>nombre</title>\n",
              "<polygon fill=\"#ffffff\" stroke=\"transparent\" points=\"-4,4 -4,-400 226.5128,-400 226.5128,4 -4,4\"/>\n",
              "<!-- 0 -->\n",
              "<g id=\"node1\" class=\"node\">\n",
              "<title>0</title>\n",
              "<ellipse fill=\"none\" stroke=\"#000000\" cx=\"112.5128\" cy=\"-234\" rx=\"27\" ry=\"18\"/>\n",
              "<text text-anchor=\"middle\" x=\"112.5128\" y=\"-230.3\" font-family=\"Times,serif\" font-size=\"14.00\" fill=\"#000000\">1</text>\n",
              "</g>\n",
              "<!-- 1 -->\n",
              "<g id=\"node2\" class=\"node\">\n",
              "<title>1</title>\n",
              "<ellipse fill=\"none\" stroke=\"#000000\" cx=\"40.5128\" cy=\"-234\" rx=\"27\" ry=\"18\"/>\n",
              "<text text-anchor=\"middle\" x=\"40.5128\" y=\"-230.3\" font-family=\"Times,serif\" font-size=\"14.00\" fill=\"#000000\">2</text>\n",
              "</g>\n",
              "<!-- 2 -->\n",
              "<g id=\"node3\" class=\"node\">\n",
              "<title>2</title>\n",
              "<ellipse fill=\"none\" stroke=\"#000000\" cx=\"40.5128\" cy=\"-162\" rx=\"27\" ry=\"18\"/>\n",
              "<text text-anchor=\"middle\" x=\"40.5128\" y=\"-158.3\" font-family=\"Times,serif\" font-size=\"14.00\" fill=\"#000000\">3</text>\n",
              "</g>\n",
              "<!-- 1&#45;&gt;2 -->\n",
              "<g id=\"edge1\" class=\"edge\">\n",
              "<title>1&#45;&gt;2</title>\n",
              "<path fill=\"none\" stroke=\"#000000\" d=\"M34.5971,-216.2022C33.7927,-208.1807 33.57,-198.5231 33.9291,-189.5957\"/>\n",
              "<polygon fill=\"#000000\" stroke=\"#000000\" points=\"37.4225,-189.8099 34.6178,-179.593 30.439,-189.3289 37.4225,-189.8099\"/>\n",
              "</g>\n",
              "<!-- 3 -->\n",
              "<g id=\"node4\" class=\"node\">\n",
              "<title>3</title>\n",
              "<ellipse fill=\"none\" stroke=\"#000000\" cx=\"168.5128\" cy=\"-90\" rx=\"27\" ry=\"18\"/>\n",
              "<text text-anchor=\"middle\" x=\"168.5128\" y=\"-86.3\" font-family=\"Times,serif\" font-size=\"14.00\" fill=\"#000000\">4</text>\n",
              "</g>\n",
              "<!-- 1&#45;&gt;3 -->\n",
              "<g id=\"edge2\" class=\"edge\">\n",
              "<title>1&#45;&gt;3</title>\n",
              "<path fill=\"none\" stroke=\"#000000\" d=\"M54.4547,-218.3154C76.9607,-192.9961 121.4238,-142.9752 147.6943,-113.4209\"/>\n",
              "<polygon fill=\"#000000\" stroke=\"#000000\" points=\"150.5604,-115.4647 154.5881,-105.6653 145.3285,-110.8141 150.5604,-115.4647\"/>\n",
              "</g>\n",
              "<!-- 2&#45;&gt;1 -->\n",
              "<g id=\"edge3\" class=\"edge\">\n",
              "<title>2&#45;&gt;1</title>\n",
              "<path fill=\"none\" stroke=\"#000000\" d=\"M46.4079,-179.593C47.2222,-187.5865 47.4548,-197.2363 47.1057,-206.1759\"/>\n",
              "<polygon fill=\"#000000\" stroke=\"#000000\" points=\"43.6104,-205.9891 46.4286,-216.2022 50.5945,-206.4608 43.6104,-205.9891\"/>\n",
              "</g>\n",
              "<!-- 2&#45;&gt;3 -->\n",
              "<g id=\"edge4\" class=\"edge\">\n",
              "<title>2&#45;&gt;3</title>\n",
              "<path fill=\"none\" stroke=\"#000000\" d=\"M61.3631,-150.2717C82.3762,-138.4519 115.0055,-120.0979 138.7385,-106.7481\"/>\n",
              "<polygon fill=\"#000000\" stroke=\"#000000\" points=\"140.6716,-109.6764 147.6715,-101.7233 137.2398,-103.5754 140.6716,-109.6764\"/>\n",
              "</g>\n",
              "<!-- 4 -->\n",
              "<g id=\"node5\" class=\"node\">\n",
              "<title>4</title>\n",
              "<ellipse fill=\"none\" stroke=\"#000000\" cx=\"144.5128\" cy=\"-306\" rx=\"27\" ry=\"18\"/>\n",
              "<text text-anchor=\"middle\" x=\"144.5128\" y=\"-302.3\" font-family=\"Times,serif\" font-size=\"14.00\" fill=\"#000000\">5</text>\n",
              "</g>\n",
              "<!-- 3&#45;&gt;4 -->\n",
              "<g id=\"edge5\" class=\"edge\">\n",
              "<title>3&#45;&gt;4</title>\n",
              "<path fill=\"none\" stroke=\"#000000\" d=\"M170.4503,-108.2255C169.6968,-146.1145 160.2206,-233.5783 152.267,-278.4108\"/>\n",
              "<polygon fill=\"#000000\" stroke=\"#000000\" points=\"148.8116,-277.847 150.3887,-288.3238 155.6892,-279.1502 148.8116,-277.847\"/>\n",
              "</g>\n",
              "<!-- 6 -->\n",
              "<g id=\"node7\" class=\"node\">\n",
              "<title>6</title>\n",
              "<ellipse fill=\"none\" stroke=\"#000000\" cx=\"195.5128\" cy=\"-18\" rx=\"27\" ry=\"18\"/>\n",
              "<text text-anchor=\"middle\" x=\"195.5128\" y=\"-14.3\" font-family=\"Times,serif\" font-size=\"14.00\" fill=\"#000000\">7</text>\n",
              "</g>\n",
              "<!-- 3&#45;&gt;6 -->\n",
              "<g id=\"edge6\" class=\"edge\">\n",
              "<title>3&#45;&gt;6</title>\n",
              "<path fill=\"none\" stroke=\"#000000\" d=\"M175.187,-72.2022C178.2604,-64.0064 181.9744,-54.1024 185.3824,-45.0145\"/>\n",
              "<polygon fill=\"#000000\" stroke=\"#000000\" points=\"188.6813,-46.1853 188.9154,-35.593 182.127,-43.7274 188.6813,-46.1853\"/>\n",
              "</g>\n",
              "<!-- 4&#45;&gt;0 -->\n",
              "<g id=\"edge7\" class=\"edge\">\n",
              "<title>4&#45;&gt;0</title>\n",
              "<path fill=\"none\" stroke=\"#000000\" d=\"M136.7665,-288.5708C133.0324,-280.1691 128.4724,-269.9091 124.3183,-260.5623\"/>\n",
              "<polygon fill=\"#000000\" stroke=\"#000000\" points=\"127.4476,-258.9853 120.1878,-251.2687 121.0509,-261.8283 127.4476,-258.9853\"/>\n",
              "</g>\n",
              "<!-- 4&#45;&gt;1 -->\n",
              "<g id=\"edge8\" class=\"edge\">\n",
              "<title>4&#45;&gt;1</title>\n",
              "<path fill=\"none\" stroke=\"#000000\" d=\"M125.4376,-292.7941C109.3115,-281.6298 86.0087,-265.4971 67.8907,-252.9539\"/>\n",
              "<polygon fill=\"#000000\" stroke=\"#000000\" points=\"69.6813,-249.9367 59.4671,-247.1222 65.6968,-255.692 69.6813,-249.9367\"/>\n",
              "</g>\n",
              "<!-- 4&#45;&gt;3 -->\n",
              "<g id=\"edge9\" class=\"edge\">\n",
              "<title>4&#45;&gt;3</title>\n",
              "<path fill=\"none\" stroke=\"#000000\" d=\"M142.5719,-287.9555C143.2976,-250.2205 152.7643,-162.7518 160.7234,-117.7882\"/>\n",
              "<polygon fill=\"#000000\" stroke=\"#000000\" points=\"164.1853,-118.3173 162.6033,-107.8413 157.3071,-117.0173 164.1853,-118.3173\"/>\n",
              "</g>\n",
              "<!-- 5 -->\n",
              "<g id=\"node6\" class=\"node\">\n",
              "<title>5</title>\n",
              "<ellipse fill=\"none\" stroke=\"#000000\" cx=\"48.5128\" cy=\"-378\" rx=\"27\" ry=\"18\"/>\n",
              "<text text-anchor=\"middle\" x=\"48.5128\" y=\"-374.3\" font-family=\"Times,serif\" font-size=\"14.00\" fill=\"#000000\">6</text>\n",
              "</g>\n",
              "<!-- 5&#45;&gt;2 -->\n",
              "<g id=\"edge10\" class=\"edge\">\n",
              "<title>5&#45;&gt;2</title>\n",
              "<path fill=\"none\" stroke=\"#000000\" d=\"M37.7688,-361.3521C20.1404,-331.8945 -11.4491,-268.7186 4.5128,-216 7.779,-205.2127 13.9892,-194.6108 20.3441,-185.6963\"/>\n",
              "<polygon fill=\"#000000\" stroke=\"#000000\" points=\"23.1413,-187.8001 26.3899,-177.7156 17.5616,-183.5732 23.1413,-187.8001\"/>\n",
              "</g>\n",
              "<!-- 5&#45;&gt;4 -->\n",
              "<g id=\"edge11\" class=\"edge\">\n",
              "<title>5&#45;&gt;4</title>\n",
              "<path fill=\"none\" stroke=\"#000000\" d=\"M66.5697,-364.4574C81.1853,-353.4956 101.9678,-337.9088 118.3977,-325.5864\"/>\n",
              "<polygon fill=\"#000000\" stroke=\"#000000\" points=\"120.6369,-328.282 126.5369,-319.4819 116.4369,-322.682 120.6369,-328.282\"/>\n",
              "</g>\n",
              "<!-- 6&#45;&gt;4 -->\n",
              "<g id=\"edge12\" class=\"edge\">\n",
              "<title>6&#45;&gt;4</title>\n",
              "<path fill=\"none\" stroke=\"#000000\" d=\"M199.2603,-35.9069C201.2594,-46.3759 203.5094,-59.8759 204.5128,-72 205.8325,-87.9455 206.1001,-92.0789 204.5128,-108 198.0364,-172.9629 198.507,-190.8985 175.5128,-252 171.8393,-261.7616 166.5313,-271.8356 161.3427,-280.6\"/>\n",
              "<polygon fill=\"#000000\" stroke=\"#000000\" points=\"158.3156,-278.8409 156.0524,-289.1913 164.2762,-282.5113 158.3156,-278.8409\"/>\n",
              "</g>\n",
              "</g>\n",
              "</svg>\n"
            ],
            "text/plain": [
              "<graphviz.dot.Digraph at 0x7f6a0d11e4d0>"
            ]
          },
          "execution_count": 14,
          "metadata": {},
          "output_type": "execute_result"
        }
      ],
      "source": [
        "graph = gv.Digraph(\"nombre\")\n",
        "\n",
        "n = len(G)\n",
        "for u in range(n):\n",
        "  graph.node(str(u), Vertices[u])\n",
        "\n",
        "for u in range(n):\n",
        "  for v in G[u]:\n",
        "    graph.edge(str(u), str(v))\n",
        "\n",
        "print(graph)\n",
        "graph"
      ]
    },
    {
      "cell_type": "code",
      "execution_count": null,
      "metadata": {
        "id": "-Wt7r67EuG2G"
      },
      "outputs": [],
      "source": []
    }
  ],
  "metadata": {
    "colab": {
      "collapsed_sections": [],
      "provenance": []
    },
    "kernelspec": {
      "display_name": "Python 3",
      "name": "python3"
    },
    "language_info": {
      "name": "python",
      "version": "3.11.2"
    }
  },
  "nbformat": 4,
  "nbformat_minor": 0
}
