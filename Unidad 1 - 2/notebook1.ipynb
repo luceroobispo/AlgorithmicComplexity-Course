{
 "cells": [
  {
   "cell_type": "code",
   "execution_count": 20,
   "metadata": {},
   "outputs": [],
   "source": [
    "import heapq as hq\n",
    "import numpy as np\n",
    "import graphviz as gv\n",
    "import math\n",
    "from collections import defaultdict"
   ]
  },
  {
   "attachments": {},
   "cell_type": "markdown",
   "metadata": {},
   "source": [
    "## PARTE I\n",
    "(4 puntos)\n",
    "\n",
    "### PREGUNTA 1\n",
    "Implemente una variación del algoritmo DFS, al que llamaremos RDFS, en el que se deberán accedera los vecinos de cada nodo de manera aleatoria. \n",
    "Por ejemplo dado el grafo siguiente en lista deadyacencia:\n",
    "- 0: 1, 5\n",
    "- 1: 0, 2, 3\n",
    "- 2: 1, 3, 4\n",
    "- 3: 1, 2, 5\n",
    "- 4: 2, 5\n",
    "- 5: 0, 3, 4\n",
    "\n",
    "El DFS tradicional iniciado desde el nodo cero siempre recorrerá primero al 1 y luego al 5, desde el 1,intentará ir al 0 (que ya está visitado) luego al 2 y luego al 3 y así sucesivamente.\n",
    "\n",
    "Lo que se le pide es que si ejecutamos el algoritmo solicitado RDFS, partiendo del nodo 0, podría irprimero al nodo 5 antes que al 1, y en otra ocasión podría ir al 1 y luego al 5, etc.\n",
    "\n",
    "Elabore 3 grafos distintos y realice varias ejecuciones donde se debe mostrar que los resultados son distintos cada vez."
   ]
  },
  {
   "attachments": {},
   "cell_type": "markdown",
   "metadata": {},
   "source": [
    "# DFS"
   ]
  },
  {
   "cell_type": "code",
   "execution_count": 90,
   "metadata": {},
   "outputs": [],
   "source": [
    "### DFS: RECORRIDO EN PROFUNDIDAD - NORMAL\n",
    "\n",
    "import random\n",
    "def DFS(primer_nodo, grafo):\n",
    "    visitados = []\n",
    "    pila = [primer_nodo]\n",
    "    while pila:\n",
    "        nodo = pila.pop()\n",
    "        \n",
    "        if nodo not in visitados:\n",
    "            visitados.append(nodo)\n",
    "            for nodo_hijo in grafo[nodo]:\n",
    "                pila.append(nodo_hijo)\n",
    "        \n",
    "    return visitados\n"
   ]
  },
  {
   "cell_type": "code",
   "execution_count": 91,
   "metadata": {},
   "outputs": [],
   "source": [
    "### DFS: RECORRIDO EN PROFUNDIDAD - RDFS\n",
    "\n",
    "import random\n",
    "def RDFS(primer_nodo, grafo):\n",
    "    visitados = []\n",
    "    pila = [primer_nodo]\n",
    "    while pila:\n",
    "        nodo = pila.pop()\n",
    "        \n",
    "        if nodo not in visitados:\n",
    "            visitados.append(nodo)\n",
    "            \n",
    "            temp = []\n",
    "            for nodo_hijo in grafo[nodo]:\n",
    "                temp.append(nodo_hijo)\n",
    "            \n",
    "            while temp:\n",
    "                n = random.randint(0,len(temp)-1)\n",
    "                pila.append(temp[n])\n",
    "                del temp[n]\n",
    "\n",
    "        \n",
    "    return visitados\n"
   ]
  },
  {
   "cell_type": "code",
   "execution_count": 92,
   "metadata": {},
   "outputs": [
    {
     "data": {
      "text/plain": [
       "[1, 4, 2, 5, 7, 3, 6]"
      ]
     },
     "execution_count": 92,
     "metadata": {},
     "output_type": "execute_result"
    }
   ],
   "source": [
    "grafo1 = {\n",
    "    1: [2, 3, 4],\n",
    "    2: [5],\n",
    "    3: [5],\n",
    "    4: [],\n",
    "    5: [6, 7],\n",
    "    6: [],\n",
    "    7: [3],\n",
    "}\n",
    "RDFS(1, grafo1)"
   ]
  },
  {
   "cell_type": "code",
   "execution_count": 93,
   "metadata": {},
   "outputs": [
    {
     "data": {
      "text/plain": [
       "[0, 1, 2, 4, 5, 3]"
      ]
     },
     "execution_count": 93,
     "metadata": {},
     "output_type": "execute_result"
    }
   ],
   "source": [
    "grafo2 = {\n",
    "  0 : [1, 5],\n",
    "  1 : [0, 2, 3],\n",
    "  2 : [1, 3, 4],\n",
    "  3 : [1, 2, 5],\n",
    "  4 : [2, 5],\n",
    "  5 : [0, 3, 4]\n",
    "}\n",
    "\n",
    "RDFS(0, grafo2)"
   ]
  },
  {
   "cell_type": "code",
   "execution_count": 94,
   "metadata": {},
   "outputs": [
    {
     "data": {
      "text/plain": [
       "[0, 6, 1, 2, 3, 4]"
      ]
     },
     "execution_count": 94,
     "metadata": {},
     "output_type": "execute_result"
    }
   ],
   "source": [
    "grafo3 = {\n",
    "  6 : [1, 3],\n",
    "  1 : [0, 2, 3],\n",
    "  2 : [1, 3, 4],\n",
    "  0 : [1, 2, 6],\n",
    "  4 : [2, 6],\n",
    "  3 : [0, 4]\n",
    "}\n",
    "\n",
    "RDFS(0, grafo3)"
   ]
  },
  {
   "attachments": {},
   "cell_type": "markdown",
   "metadata": {},
   "source": [
    "### PREGUNTA 2\n",
    "(8 puntos)\n",
    "\n",
    "Usted acaba de terminar una maestría en el MIT y ha decidido salir con sus amigos. Usted ha\n",
    "\n",
    "desarrollado algunos hábitos extraños y por ello ha decidido celebrar éste momento tan importante\n",
    "\n",
    "en su vida tomando muchos jugos tropicales. Usted empieza a tomar bebidas con bajo contenido de\n",
    "\n",
    "azúcar como jugo de melón, luego algo más dulce como jugo de manzana hasta que no hayan más\n",
    "\n",
    "bebidas disponibles. Una vez que empieza a tomar jugo de manzana, ya no tomará más jugo de\n",
    "\n",
    "melón de tal forma que el contenido de azúcar no disminuye con el transcurrir del tiempo.\n",
    "\n",
    "Siendo el aplicado discípulo de su docente de complejidad algorítmica, decide utilizar python para\n",
    "\n",
    "decidir en qué orden tomar las bebidas según sus propias reglas.\n",
    "\n",
    "\n",
    "**Input**\n",
    "\n",
    "Cada caso de prueba empieza con N, el número de bebidas disponibles, Luego siguen N líneas con los\n",
    "\n",
    "nombres de cada bebida, los nombres no tienen espacios en blanco. Luego sigue M, y luego M líneas\n",
    "\n",
    "de la forma B1 B2 indicando que la bebida B2 tiene más azúcar que la bebida 1. De modo que usted\n",
    "\n",
    "puede tomar la bebida B1 antes de empezar a tomar la B2. Asegúrese que la relación es transitiva, de\n",
    "\n",
    "modo que hay una relación B2 B3, B1 debe tomarse antes que B3. Hay una línea en blanco al final de\n",
    "\n",
    "cada caso de prueba. En caso de no relación entre las bebidas, Usted puede tomar aquella que\n",
    "\n",
    "aparezca primero en el Input.\n",
    "\n",
    "**Output**\n",
    "\n",
    "Por cada caso de prueba usted puede imprimir el mensaje ‘caso #C: usted debería tomar las bebidas\n",
    "\n",
    "en éste orden: B1 B2 Bn.’, donde C es el número de … caso empezando desde 1 y B1, B2 y Bn son las\n",
    "\n",
    "bebidas de modo que el contenido de azúcar de Bi+1 es mayor o igual al contenido de Bi. Luego de\n",
    "\n",
    "cada caso de prueba se debe imprimir una línea en blanco.\n"
   ]
  },
  {
   "cell_type": "code",
   "execution_count": null,
   "metadata": {},
   "outputs": [],
   "source": [
    "'''\n",
    "Ejemplo de Input\n",
    "3\n",
    "platano\n",
    "acai\n",
    "manzana\n",
    "2\n",
    "acai platano\n",
    "manzana acai\n",
    "\n",
    "\n",
    "5\n",
    "acai\n",
    "manzana\n",
    "cereza\n",
    "melon\n",
    "papaya\n",
    "6\n",
    "manzana papaya\n",
    "melon manzana\n",
    "melon cereza\n",
    "manzana cereza\n",
    "manzana acai\n",
    "acai papaya\n",
    "\n",
    "10\n",
    "papaya\n",
    "cereza\n",
    "melon\n",
    "mango\n",
    "cocona\n",
    "acai\n",
    "platano\n",
    "manzana\n",
    "capuli\n",
    "durazno\n",
    "11\n",
    "manzana cocona\n",
    "melon durazno\n",
    "cereza papaya\n",
    "platano mango\n",
    "melon capuli\n",
    "cereza durazno\n",
    "acai cocona\n",
    "melon manzana\n",
    "manzana cereza\n",
    "acai platano\n",
    "manzana mango\n",
    "'''"
   ]
  },
  {
   "attachments": {},
   "cell_type": "markdown",
   "metadata": {},
   "source": [
    "**Ejemplo de output**\n",
    "\n",
    "Caso #1: usted debería toma*r las bebidas en éste orden: manzana acai platano.\n",
    "\n",
    "Caso #2: usted debería tomar las bebidas en éste orden: melon manzana acai cereza papaya.\n",
    "\n",
    "Caso #3: usted debería tomar las bebidas en éste orden: melon acai platano manzana cereza\n",
    "papaya mango cocona capuli durazno.\n"
   ]
  },
  {
   "attachments": {},
   "cell_type": "markdown",
   "metadata": {},
   "source": [
    "# BFS"
   ]
  },
  {
   "cell_type": "code",
   "execution_count": 2,
   "metadata": {},
   "outputs": [],
   "source": [
    "## BFS (RECORRIDO EN AMPLITUD O ANCHURA) - NORMAL\n",
    "\n",
    "visitados = [] # List for visited nodes.\n",
    "cola = []     #Initialize a queue\n",
    "\n",
    "def bfs(visitados, grafo, nodo): #function for BFS\n",
    "  visitados.append(nodo)\n",
    "  cola.append(nodo)\n",
    "\n",
    "  while cola:          # Creating loop to visit each node\n",
    "    m = cola.pop(0) \n",
    "    print (m, end = \" \") \n",
    "\n",
    "    for nodo_adyacente in grafo[m]:\n",
    "      if nodo_adyacente not in visitados:\n",
    "        visitados.append(nodo_adyacente)\n",
    "        cola.append(nodo_adyacente)"
   ]
  },
  {
   "cell_type": "code",
   "execution_count": 36,
   "metadata": {},
   "outputs": [],
   "source": [
    "## BFS (RECORRIDO EN AMPLITUD O ANCHURA) - DE ESTE PROBLEMA DE FRUTA\n",
    "\n",
    "visitados = [] # List for visited nodes.\n",
    "cola = []     #Initialize a queue\n",
    "\n",
    "def bfsFrutas(visitados, grafo, nodo): #function for BFS\n",
    "  visitados.append(nodo)\n",
    "  cola.append(nodo)\n",
    "\n",
    "  while cola:          # Creating loop to visit each node\n",
    "    m = cola.pop(0) \n",
    "    print (m, end = \" \") \n",
    "        \n",
    "    temp=[]\n",
    "    for nodo_adyacente in grafo[m]:\n",
    "      if nodo_adyacente not in visitados:\n",
    "        temp.append(nodo_adyacente)\n",
    "    \n",
    "    cont = 0\n",
    "    while temp:\n",
    "      for i in temp:\n",
    "        if grafo[i]:\n",
    "          for j in grafo[i]:\n",
    "            if j in temp:\n",
    "              visitados.append(i)\n",
    "              cola.append(i)\n",
    "              temp.remove(i)\n",
    "              break\n",
    "          cont = cont + 1\n",
    "          if cont>= len(temp) and i in temp:\n",
    "            visitados.append(i)\n",
    "            cola.append(i)\n",
    "            temp.remove(i)\n",
    "        else:\n",
    "          cont = cont + 1\n",
    "          if cont>= len(temp):\n",
    "            visitados.append(i)\n",
    "            cola.append(i)\n",
    "            temp.remove(i)\n",
    "          "
   ]
  },
  {
   "cell_type": "code",
   "execution_count": 3,
   "metadata": {},
   "outputs": [
    {
     "name": "stdout",
     "output_type": "stream",
     "text": [
      "melon manzana cereza papaya acai "
     ]
    }
   ],
   "source": [
    "# CASO 2\n",
    "\n",
    "grafoBebidas2 = {\n",
    "  \"acai\" : [\"papaya\"],\n",
    "  \"manzana\" : [\"papaya\", \"cereza\", \"acai\"],\n",
    "  \"cereza\" : [],\n",
    "  \"melon\" : [\"manzana\", \"cereza\"],\n",
    "  \"papaya\" : []\n",
    "}\n",
    "\n",
    "bfs(visitados, grafoBebidas2, \"melon\")  "
   ]
  },
  {
   "attachments": {},
   "cell_type": "markdown",
   "metadata": {},
   "source": [
    "# ORDENAMIENTO TOPOLOGICO"
   ]
  },
  {
   "cell_type": "code",
   "execution_count": 39,
   "metadata": {},
   "outputs": [],
   "source": [
    "from collections import defaultdict\n",
    "\n",
    "def ordenamientoTopologico(G):\n",
    "  nodoGrado = {}\n",
    "  for nodo in G:\n",
    "    nodoGrado[nodo] = 0\n",
    "    \n",
    "  cola = []\n",
    "\n",
    "  for nodo in G:\n",
    "    if(G[nodo]):\n",
    "      for nodo_hijo in G[nodo]:\n",
    "        nodoGrado[nodo_hijo] += 1\n",
    "\n",
    "  for nodo in nodoGrado.keys():\n",
    "    if nodoGrado[nodo] == 0:\n",
    "      cola.append(nodo)\n",
    "\n",
    "  ordenTopologicoFinal = []\n",
    "  \n",
    "  while cola:\n",
    "    nodo = cola.pop()\n",
    "    ordenTopologicoFinal.append(nodo)\n",
    "    \n",
    "    for nodo_hijo in G[nodo]:\n",
    "      nodoGrado[nodo_hijo] -= 1\n",
    "      \n",
    "      if nodoGrado[nodo_hijo] == 0:\n",
    "        cola.append(nodo_hijo)\n",
    "\n",
    "  return ordenTopologicoFinal"
   ]
  },
  {
   "cell_type": "code",
   "execution_count": 40,
   "metadata": {},
   "outputs": [
    {
     "data": {
      "text/plain": [
       "['manzana', 'acai', 'platano']"
      ]
     },
     "execution_count": 40,
     "metadata": {},
     "output_type": "execute_result"
    }
   ],
   "source": [
    "# CASO 1\n",
    "\n",
    "grafoBebidas1 = {\n",
    "  \"platano\" : [],\n",
    "  \"acai\" : [\"platano\"],\n",
    "  \"manzana\" : [\"acai\"]\n",
    "}\n",
    "\n",
    "ordenamientoTopologico(grafoBebidas1)  "
   ]
  },
  {
   "cell_type": "code",
   "execution_count": 41,
   "metadata": {},
   "outputs": [
    {
     "data": {
      "text/plain": [
       "['melon', 'manzana', 'acai', 'papaya', 'cereza']"
      ]
     },
     "execution_count": 41,
     "metadata": {},
     "output_type": "execute_result"
    }
   ],
   "source": [
    "# CASO 2\n",
    "\n",
    "grafoBebidas2 = {\n",
    "  \"acai\" : [\"papaya\"],\n",
    "  \"manzana\" : [\"papaya\", \"cereza\", \"acai\"],\n",
    "  \"cereza\" : [],\n",
    "  \"melon\" : [\"manzana\", \"cereza\"],\n",
    "  \"papaya\" : []\n",
    "}\n",
    "\n",
    "ordenamientoTopologico(grafoBebidas2)  "
   ]
  },
  {
   "cell_type": "code",
   "execution_count": 42,
   "metadata": {},
   "outputs": [
    {
     "data": {
      "text/plain": [
       "['acai',\n",
       " 'platano',\n",
       " 'melon',\n",
       " 'manzana',\n",
       " 'mango',\n",
       " 'cereza',\n",
       " 'durazno',\n",
       " 'papaya',\n",
       " 'cocona',\n",
       " 'capuli']"
      ]
     },
     "execution_count": 42,
     "metadata": {},
     "output_type": "execute_result"
    }
   ],
   "source": [
    "# CASO 3\n",
    "\n",
    "grafoBebidas3 = {\n",
    "  \"papaya\" : [],\n",
    "  \"cereza\" : [\"papaya\", \"durazno\"],\n",
    "  \"melon\" : [\"durazno\", \"capuli\", \"manzana\"],\n",
    "  \"mango\" : [],\n",
    "  \"cocona\" : [],\n",
    "  \"acai\" : [\"cocona\", \"platano\"],\n",
    "  \"platano\" : [\"mango\"],\n",
    "  \"manzana\" : [\"cocona\", \"cereza\", \"mango\"],\n",
    "  \"capuli\" : [],\n",
    "  \"durazno\" : [],\n",
    "}\n",
    "\n",
    "ordenamientoTopologico(grafoBebidas3)  "
   ]
  },
  {
   "attachments": {},
   "cell_type": "markdown",
   "metadata": {},
   "source": [
    "## PARTE II\n",
    "(8 puntos)\n",
    "\n",
    "### ELECTIVA 1: Comprobar si un grafo está fuertemente conectado o no\n",
    "\n",
    "Dado un grafo dirigido, comprueba si es fuertemente conexo o no. Se dice que un grafo dirigido es\n",
    "\n",
    "fuertemente conexo si todos los vértices son accesibles desde todos los demás vértices.\n",
    "\n",
    "Por ejemplo, el siguiente gráfico está fuertemente conectado ya que existe un camino entre todos los\n",
    "\n",
    "pares de vértices:\n",
    "\n",
    "Explique a través de un ejemplo utilizando los algoritmos: búsqueda primero en profundidad (DFS) o\n",
    "\n",
    "una búsqueda primero en amplitud (BFS) y guárdelo como archivo Pregunta1.py\n",
    "\n",
    "\n",
    "\n",
    "Datos de entrada del programa:\n",
    "\n",
    "- Lista de aristas según el grafo\n",
    "\n",
    "aristas = [(0, 4), (1, 0), (1, 2), (2, 1), (2, 4), (3, 1), (3, 2), (4, 3)]\n",
    "\n",
    "- total de nodos en el grafo\n",
    "\n",
    "n = 5\n",
    "\n",
    "Salida del programa:\n",
    "\n",
    "1 (si es fuertemente conectado SCC)\n",
    "\n",
    "0 (si no lo es)\n",
    "\n",
    "\n",
    "\n",
    "\n"
   ]
  },
  {
   "cell_type": "code",
   "execution_count": 80,
   "metadata": {},
   "outputs": [
    {
     "name": "stdout",
     "output_type": "stream",
     "text": [
      "(1) - El grafo esta fuertemente conectado\n"
     ]
    }
   ],
   "source": [
    "class Grafo:\n",
    "    def __init__(self, aristas, n):\n",
    "        self.listAdyacencia = [[] for x in range(n)]\n",
    " \n",
    "        for (nodo1, nodo2) in aristas:\n",
    "            self.listAdyacencia[nodo1].append(nodo2)\n",
    "\n",
    "\n",
    "def DFS(grafo, nodo, visitado):\n",
    "    visitado[nodo] = True\n",
    " \n",
    "    for nodo_hijo in grafo.listAdyacencia[nodo]:\n",
    "        if not visitado[nodo_hijo]:\n",
    "            DFS(grafo, nodo_hijo, visitado)\n",
    " \n",
    " \n",
    "def esFuertementeConectado(grafo, n):\n",
    "    visitado = [False] * n\n",
    "    nodo = 0                                            # el algoritmo empieza a partir de este nodo\n",
    "    DFS(grafo, nodo, visitado)\n",
    " \n",
    "    # Todos los nodos deben haber sido visitados del grafo original, sino no está fuertemente conectado\n",
    "    for nodoTemp in visitado:\n",
    "        if not nodoTemp: \n",
    "            return False\n",
    " \n",
    "    visitado = [False] * n\n",
    " \n",
    "    # Invertir la direccion de las aristas del grafo\n",
    "    aristas = [(j, i) for i in range(n) for j in grafo.listAdyacencia[i]]\n",
    "    gr = Grafo(aristas, n)\n",
    "    DFS(gr, nodo, visitado)\n",
    " \n",
    "    # Todos los nodos deben haber sido visitados del grafo invertido, sino no está fuertemente conectado\n",
    "    for nodoTemp in visitado:\n",
    "        if not nodoTemp:\n",
    "            return False\n",
    " \n",
    "    # si el graph es fuertemente conectado en ambos DFS\n",
    "    return True\n",
    " \n",
    "def main():\n",
    "    aristas = [(0, 4), (1, 0), (1, 2), (2, 1), (2, 4), (3, 1), (3, 2), (4, 3)]\n",
    "    n = 5                   \n",
    " \n",
    "    grafo = Grafo(aristas, n)\n",
    " \n",
    "    if esFuertementeConectado(grafo, n): print('(1) - El grafo esta fuertemente conectado')\n",
    "    else: print('(0) - El grafo no esta fuertemente conectado')\n",
    "        \n",
    "main()"
   ]
  },
  {
   "attachments": {},
   "cell_type": "markdown",
   "metadata": {},
   "source": [
    "### ELECTIVA 2: Encontrar el vértice raíz de un grafo\n",
    "\n",
    "Un vértice raíz de un gráfico dirigido es un vértice u con un camino dirigido de **u** hacia **v**\n",
    "\n",
    "para cada par de vértices (u, v) en el grafo. En otras palabras, todos los demás vértices del gráfico \n",
    "\n",
    "se pueden alcanzar desde el vértice raíz.\n",
    "\n",
    "Un grafo puede tener múltiples vértices de raíz. Por ejemplo, cada vértice en un componente\n",
    "\n",
    "fuertemente conectado es un vértice raíz. En tales casos, la solución debería devolver cualquiera de\n",
    "\n",
    "ellos. Si el grafo no tiene vértices de raíz, la solución debería devolver -1. Presentar su solución en el\n",
    "\n",
    "archivo Pregunta2.py\n",
    "\n",
    "El vértice raíz es 4 porque tiene una ruta a cada otro vértice en el siguiente gráfico:\n",
    "\n",
    "Datos de entrada del programa:\n",
    "\n",
    "-  Lista de aristas del grafo\n",
    "\n",
    "aristas = [(0, 1), (1, 2), (2, 3), (3, 0), (4, 3), (4, 5), (5, 0)]\n",
    "\n",
    "-  Número total de nodos en el grafo (0 a 5)\n",
    "\n",
    "n = 6\n",
    "\n",
    "Salida del programa:\n",
    "\n",
    "4\n",
    "\n",
    "(-1 si no encuentra un nodo raíz).\n"
   ]
  },
  {
   "cell_type": "code",
   "execution_count": 37,
   "metadata": {},
   "outputs": [
    {
     "name": "stdout",
     "output_type": "stream",
     "text": [
      "El vertice raiz es:  4\n"
     ]
    }
   ],
   "source": [
    "class Grafo:\n",
    "    def __init__(self, aristas, n):\n",
    "        self.listAdyacencia = [[] for x in range(n)]\n",
    " \n",
    "        for (nodo1, nodo2) in aristas:\n",
    "            self.listAdyacencia[nodo1].append(nodo2)\n",
    "\n",
    "\n",
    "def DFS(grafo, nodo, visitado):\n",
    "    visitado[nodo] = True\n",
    " \n",
    "    for nodo_hijo in grafo.listAdyacencia[nodo]:\n",
    "        if not visitado[nodo_hijo]:\n",
    "            DFS(grafo, nodo_hijo, visitado)\n",
    " \n",
    " \n",
    "def encontrarVerticeRaiz(grafo, n):\n",
    "    visitado = [False] * n\n",
    " \n",
    "    nodo = 0\n",
    "    for i in range(n):\n",
    "        if not visitado[i]:\n",
    "            DFS(grafo, i, visitado)\n",
    "            nodo = i\n",
    " \n",
    "    # resetear los vértices visitados\n",
    "    for i in range(n):\n",
    "        visitado[i] = False\n",
    " \n",
    "    # Desde el ultimo nodo que se ha iniciado el DFS y era visitado (Este nodo es candidato a ser vertice raiz)\n",
    "    # Verificar si este nodo esta conectado a todos los nodos del grafo\n",
    "    DFS(grafo, nodo, visitado)\n",
    " \n",
    "    for i in range(n):\n",
    "        if not visitado[i]:\n",
    "            return -1\n",
    " \n",
    "    # nodo si es vertice raiz\n",
    "    return nodo\n",
    " \n",
    " \n",
    "def main():\n",
    "    aristas = [(0, 1), (1, 2), (2, 3), (3, 0), (4, 3), (4, 5), (5, 0)]\n",
    "    n = 6\n",
    " \n",
    "    grafo = Grafo(aristas, n)\n",
    " \n",
    "    root = encontrarVerticeRaiz(grafo, n)\n",
    " \n",
    "    if root == -1: print('El vertice raiz no existe')\n",
    "    else: print('El vertice raiz es: ', root)\n",
    "\n",
    "main()\n",
    " "
   ]
  },
  {
   "attachments": {},
   "cell_type": "markdown",
   "metadata": {},
   "source": [
    "### Electiva 3: Encuentra el camino entre los vértices dados en un grafo dirigido\n",
    "\n",
    "Dado un grafo dirigido y dos vértices (por ejemplo, vértice de origen y de destino), determine si el\n",
    "\n",
    "vértice de destino es accesible desde el vértice de origen o no. Si existe una ruta desde el vértice de\n",
    "\n",
    "origen hasta el vértice de destino, imprímala. Implemente su respuesta en Pregunta3.py\n",
    "\n",
    "Por ejemplo, existen dos caminos [0—3—4—6—7] y [0—3—5—6—7] de vértice 0 a vértice 7 en el\n",
    "\n",
    "siguiente grafo. Por el contrario, no hay camino desde el vértice 7 a ningún otro vértice.\n",
    "\n",
    "Datos de entrada del programa:\n",
    "\n",
    "- Lista de aristas del grafo\n",
    "\n",
    "aristas = [ (0, 3), (1, 0), (1, 2), (1, 4), (2, 7), (3, 4), (3, 5), (4, 3), (4, 6), (5, 6), (6, 7)]\n",
    "\n",
    "- Número total de nodos en el grafo (etiquetados de 0 a 7)\n",
    "\n",
    "n = 8\n",
    "\n",
    "nodo_inicial = 0\n",
    "\n",
    "nodo_final = 7\n",
    "\n",
    "Salida del programa:\n",
    "\n",
    "1 (si existe un camino desde el nodo_inicial al nodo_final)\n",
    "\n",
    "0 (si no existe un camino desde el nodo_inicial al nodo_final)"
   ]
  },
  {
   "cell_type": "code",
   "execution_count": 54,
   "metadata": {},
   "outputs": [
    {
     "name": "stdout",
     "output_type": "stream",
     "text": [
      "El camino desde el nodo 0 al nodo 7\n",
      "El camino es:  [0, 3, 4, 6, 7]\n"
     ]
    }
   ],
   "source": [
    "class Grafo:\n",
    "    def __init__(self, aristas, n):\n",
    "        self.listAdyacencia = [[] for x in range(n)]\n",
    " \n",
    "        for (nodo1, nodo2) in aristas:\n",
    "            self.listAdyacencia[nodo1].append(nodo2)\n",
    " \n",
    " \n",
    "def isReachable(grafo, nodoOrigen, nodoDestino, visitado, camino):\n",
    "    \n",
    "    visitado[nodoOrigen] = True\n",
    "    camino.append(nodoOrigen)\n",
    " \n",
    "    # funcion parada: si se encuentra el vértice de destino\n",
    "    if nodoOrigen == nodoDestino:\n",
    "        return True\n",
    "\n",
    "    # DFS\n",
    "    for nodo_hijo in grafo.listAdyacencia[nodoOrigen]:\n",
    "        \n",
    "        if not visitado[nodo_hijo]:\n",
    "            if isReachable(grafo, nodo_hijo, nodoDestino, visitado, camino):\n",
    "                return True\n",
    " \n",
    "    # eliminar el nodo actual\n",
    "    camino.pop()\n",
    " \n",
    "    # no existe camino entre nodoOrigen y nodoDestino\n",
    "    return False\n",
    " \n",
    " \n",
    "def main():\n",
    " \n",
    "    edges = [ (0, 3), (1, 0), (1, 2), (1, 4), (2, 7), (3, 4),\n",
    "              (3, 5), (4, 3), (4, 6), (5, 6), (6, 7) ]\n",
    "    n = 8\n",
    "    grafo = Grafo(edges, n)\n",
    "    \n",
    "    visitados = [False] * n\n",
    "    nodoOrigen = 0\n",
    "    nodoDestino = 7\n",
    " \n",
    "    camino = []\n",
    "\n",
    "    if isReachable(grafo, nodoOrigen, nodoDestino, visitados, camino):\n",
    "        print(f'El camino desde el nodo {nodoOrigen} al nodo {nodoDestino}')\n",
    "        print(f'El camino es: ', list(camino))\n",
    "    else:\n",
    "        print(f'No existe ningun camino que conecte el nodo {nodoOrigen} al {nodoDestino}')\n",
    "        \n",
    "main()"
   ]
  },
  {
   "attachments": {},
   "cell_type": "markdown",
   "metadata": {},
   "source": [
    "### ALGORITMO KOSARAJU"
   ]
  },
  {
   "cell_type": "code",
   "execution_count": 6,
   "metadata": {},
   "outputs": [
    {
     "name": "stdout",
     "output_type": "stream",
     "text": [
      "Strongly Connected Components: \n",
      "0 3 2 1 \n",
      "4 6 5 \n",
      "7 \n"
     ]
    }
   ],
   "source": [
    "from collections import defaultdict\n",
    "\n",
    "class Grafo:\n",
    "\n",
    "    def __init__(self, n):\n",
    "        self.n = n\n",
    "        self.grafo = defaultdict(list)\n",
    "\n",
    "    def agregar_arista(self, nodo1, nodo2):\n",
    "        self.grafo[nodo1].append(nodo2)\n",
    "\n",
    "    def DFS(self, nodo, visitados):\n",
    "        visitados[nodo] = True\n",
    "        print(nodo, end=' ')\n",
    "        \n",
    "        for nodo_hijo in self.grafo[nodo]:\n",
    "            if not visitados[nodo_hijo]:\n",
    "                self.DFS(nodo_hijo, visitados)\n",
    "\n",
    "    def usandoPila(self, nodo, visitados, pila):\n",
    "        visitados[nodo] = True\n",
    "        for nodo_hijo in self.grafo[nodo]:\n",
    "            if not visitados[nodo_hijo]:\n",
    "                self.usandoPila(nodo_hijo, visitados, pila)\n",
    "        pila = pila.append(nodo)\n",
    "\n",
    "    def invertirGrafo(self):\n",
    "        grafoInvertido = Grafo(self.n)\n",
    "\n",
    "        for i in self.grafo:\n",
    "            for j in self.grafo[i]:\n",
    "                grafoInvertido.agregar_arista(j, i)\n",
    "        return grafoInvertido\n",
    "\n",
    "\n",
    "    def kosaraju(self):\n",
    "        pila = []\n",
    "        visitados = [False] * (self.n)\n",
    "\n",
    "        # Agregamos a la pila los nodos que conducen a un nodo ya visitado, y tambien sus nodos secundarios\n",
    "        for i in range(self.n):\n",
    "            if not visitados[i]:\n",
    "                self.usandoPila(i, visitados, pila)\n",
    "\n",
    "        grafoInvertido = self.invertirGrafo()\n",
    "\n",
    "        visitados = [False] * (self.n)\n",
    "\n",
    "        # Comienza desde el nodo superior de la pila y se aplica el DFS  para hallar todos sus nodos conectados\n",
    "        # Se imprime el componente fuertemente conectado cuando alcance el nodo ya ha sido visitado\n",
    "        while pila:\n",
    "            nodoVisitado = pila.pop()\n",
    "            if not visitados[nodoVisitado]:\n",
    "                grafoInvertido.DFS(nodoVisitado, visitados)\n",
    "                print(\"\")\n",
    "\n",
    "\n",
    "g = Grafo(8)\n",
    "g.agregar_arista(0, 1)\n",
    "g.agregar_arista(1, 2)\n",
    "g.agregar_arista(2, 3)\n",
    "g.agregar_arista(2, 4)\n",
    "g.agregar_arista(3, 0)\n",
    "g.agregar_arista(4, 5)\n",
    "g.agregar_arista(5, 6)\n",
    "g.agregar_arista(6, 4)\n",
    "g.agregar_arista(6, 7)\n",
    "\n",
    "print(\"Strongly Connected Components: \")\n",
    "g.kosaraju()"
   ]
  },
  {
   "cell_type": "code",
   "execution_count": 9,
   "metadata": {},
   "outputs": [
    {
     "name": "stdout",
     "output_type": "stream",
     "text": [
      "Strongly Connected Components:\n",
      "0 3 2 1 \n",
      "4 6 5 \n",
      "7 \n"
     ]
    }
   ],
   "source": [
    "from collections import defaultdict\n",
    "\n",
    "class Grafo:\n",
    "    def __init__(self, aristas, n):\n",
    "        self.listAdyacencia = [[] for x in range(n)]\n",
    " \n",
    "        for (nodo1, nodo2) in aristas:\n",
    "            self.listAdyacencia[nodo1].append(nodo2)\n",
    "                \n",
    "def DFS(grafo, nodo, visitado):\n",
    "    visitado[nodo] = True\n",
    "    print(nodo, end=' ')\n",
    "    \n",
    "    for nodo_hijo in grafo.listAdyacencia[nodo]:\n",
    "        if not visitado[nodo_hijo]:\n",
    "            DFS(grafo, nodo_hijo, visitado)\n",
    "\n",
    "def usandoPila(grafo, nodo, visitados, pila):\n",
    "    visitados[nodo] = True\n",
    "    for nodo_hijo in grafo.listAdyacencia[nodo]:\n",
    "        if not visitados[nodo_hijo]:\n",
    "            usandoPila(grafo, nodo_hijo, visitados, pila)\n",
    "    pila = pila.append(nodo)\n",
    "\n",
    "def invertirGrafo(grafo, n):\n",
    "    aristas = [(j, i) for i in range(n) for j in grafo.listAdyacencia[i]]\n",
    "    \n",
    "    grafoInvertido = Grafo(aristas, n)\n",
    "    \n",
    "    return grafoInvertido\n",
    "\n",
    "\n",
    "def kosaraju(grafo, n):\n",
    "    pila = []\n",
    "    visitados = [False] * (n)\n",
    "\n",
    "    # Agregamos a la pila los nodos que conducen a un nodo ya visitado, y tambien sus nodos secundarios\n",
    "    for i in range(n):\n",
    "        if not visitados[i]:\n",
    "            usandoPila(grafo, i, visitados, pila)\n",
    "\n",
    "    grafoInvertido = invertirGrafo(grafo, n)\n",
    "\n",
    "    visitados = [False] * (n)\n",
    "\n",
    "    # Comienza desde el nodo superior de la pila y se aplica el DFS  para hallar todos sus nodos conectados\n",
    "    # Se imprime el componente fuertemente conectado cuando alcance el nodo ya ha sido visitado\n",
    "    while pila:\n",
    "        nodoVisitado = pila.pop()\n",
    "        if not visitados[nodoVisitado]:\n",
    "            DFS(grafoInvertido, nodoVisitado, visitados)\n",
    "            print(\"\")\n",
    "\n",
    "def main():\n",
    "    aristas = [(0, 1), (1, 2), (2, 3), (2, 4), (3, 0), (4, 5), (5, 6), (6, 4), (6, 7)]\n",
    "    n = 8        \n",
    "\n",
    "    grafo = Grafo(aristas, n)\n",
    "\n",
    "    print(\"Strongly Connected Components:\")\n",
    "    kosaraju(grafo, n)\n",
    "    \n",
    "main()"
   ]
  },
  {
   "attachments": {},
   "cell_type": "markdown",
   "metadata": {},
   "source": [
    "### Tamanos de las CFC"
   ]
  },
  {
   "attachments": {},
   "cell_type": "markdown",
   "metadata": {},
   "source": [
    "Escriba una funcion que calculer los tamanos (numero de nodos) de las CFC. Escriba una funcion\n",
    "\n",
    "que calcula el numero de CFC de talla i y que la muestra.\n",
    "\n",
    "Ejemplo del resultado:\n",
    "\n",
    "Hay 389 nodos isolados\n",
    "\n",
    "Hay 50 CFC de tamano 2\n",
    "\n",
    "Hay 11 CFC de tamano 3\n",
    "\n",
    "Hay 6 CFC de tamano 4\n",
    "\n",
    "Hay 1 CFC de tamano 4447"
   ]
  },
  {
   "cell_type": "code",
   "execution_count": 28,
   "metadata": {},
   "outputs": [
    {
     "name": "stdout",
     "output_type": "stream",
     "text": [
      "Compenentes Fuertemente Conexas: \n",
      "0 3 2 1 \n",
      "4 6 5 \n",
      "7 \n",
      "\n",
      "Tamannos (numero de nodos) de las Componentes Fuertemente conexas: \n",
      "Hay 1 CFC de tamano 4\n",
      "Hay 1 CFC de tamano 3\n",
      "Hay 1 nodo(s) isolado(s) de tamano 1\n"
     ]
    }
   ],
   "source": [
    "from collections import defaultdict\n",
    "\n",
    "class Grafo:\n",
    "    def __init__(self, aristas, n):\n",
    "        self.listAdyacencia = [[] for x in range(n)]\n",
    " \n",
    "        for (nodo1, nodo2) in aristas:\n",
    "            self.listAdyacencia[nodo1].append(nodo2)\n",
    "                \n",
    "def DFS(grafo, nodo, visitado, lsttamannoCFC):\n",
    "    \n",
    "    visitado[nodo] = True\n",
    "    print(nodo, end=' ')\n",
    "    lsttamannoCFC.append(nodo)\n",
    "    \n",
    "    for nodo_hijo in grafo.listAdyacencia[nodo]:\n",
    "        if not visitado[nodo_hijo]:\n",
    "            DFS(grafo, nodo_hijo, visitado, lsttamannoCFC)\n",
    "    \n",
    "    return lsttamannoCFC\n",
    "\n",
    "def usandoPila(grafo, nodo, visitados, pila):\n",
    "    visitados[nodo] = True\n",
    "    for nodo_hijo in grafo.listAdyacencia[nodo]:\n",
    "        if not visitados[nodo_hijo]:\n",
    "            usandoPila(grafo, nodo_hijo, visitados, pila)\n",
    "    pila = pila.append(nodo)\n",
    "\n",
    "def invertirGrafo(grafo, n):\n",
    "    aristas = [(j, i) for i in range(n) for j in grafo.listAdyacencia[i]]\n",
    "    \n",
    "    grafoInvertido = Grafo(aristas, n)\n",
    "    \n",
    "    return grafoInvertido\n",
    "\n",
    "\n",
    "def tamannoCFC(grafo, n):\n",
    "    pila = []\n",
    "    visitados = [False] * (n)\n",
    "\n",
    "    # Agregamos a la pila los nodos que conducen a un nodo ya visitado, y tambien sus nodos secundarios\n",
    "    for i in range(n):\n",
    "        if not visitados[i]:\n",
    "            usandoPila(grafo, i, visitados, pila)\n",
    "\n",
    "    grafoInvertido = invertirGrafo(grafo, n)\n",
    "\n",
    "    visitados = [False] * (n)\n",
    "    tamanos = {}\n",
    "    # Comienza desde el nodo superior de la pila y se aplica el DFS  para hallar todos sus nodos conectados\n",
    "    # Se imprime el componente fuertemente conectado cuando alcance el nodo ya ha sido visitado\n",
    "    while pila:\n",
    "        nodoVisitado = pila.pop()\n",
    "        lst = []\n",
    "        if not visitados[nodoVisitado]:\n",
    "            lsttamanosCFC = DFS(grafoInvertido, nodoVisitado, visitados, lst)\n",
    "            key = len(lsttamanosCFC)\n",
    "            if key in tamanos:\n",
    "                tamanos[key] = tamanos[key] + 1\n",
    "            else:\n",
    "                tamanos[key] = 1\n",
    "            \n",
    "            print(\"\")\n",
    "    \n",
    "    print(\"\\nTamannos (numero de nodos) de las Componentes Fuertemente conexas: \")\n",
    "    for i in tamanos:\n",
    "        if(i==1):\n",
    "            print(f\"Hay {tamanos[i]} nodo(s) isolado(s) de tamano {i}\")\n",
    "        else:\n",
    "            print(f\"Hay {tamanos[i]} CFC de tamano {i}\")\n",
    "\n",
    "def main():\n",
    "    aristas = [(0, 1), (1, 2), (2, 3), (2, 4), (3, 0), (4, 5), (5, 6), (6, 4), (6, 7)]\n",
    "    n = 8        \n",
    "\n",
    "    grafo = Grafo(aristas, n)\n",
    "\n",
    "    print(\"Compenentes Fuertemente Conexas: \")\n",
    "    tamannoCFC(grafo, n)\n",
    "    \n",
    "    \n",
    "main()"
   ]
  },
  {
   "attachments": {},
   "cell_type": "markdown",
   "metadata": {},
   "source": [
    "# ALGORITMO A STAR"
   ]
  },
  {
   "cell_type": "code",
   "execution_count": 36,
   "metadata": {},
   "outputs": [],
   "source": [
    "from collections import deque\n",
    "\n",
    "class Grafo:\n",
    "    def __init__(self, lista_adyacencia):\n",
    "        self.lista_adyacencia = lista_adyacencia\n",
    "\n",
    "    def get_nodosAdyacentes(self, nodo):\n",
    "        return self.lista_adyacencia[nodo]\n",
    "\n",
    "    def heuristica(self, n):\n",
    "        H = {\n",
    "            'A': 0,\n",
    "            'B': 1,\n",
    "            'C': 1,\n",
    "            'D': 1\n",
    "        }\n",
    "\n",
    "        return H[n]\n",
    "\n",
    "def a_star(grafo, nodoOrigen, nodoDestino):\n",
    "    nodos_a_evaluar = set([nodoOrigen])\n",
    "    visitados = set([])\n",
    "\n",
    "    costos = {}\n",
    "    costos[nodoOrigen] = 0\n",
    "\n",
    "    previo = {}\n",
    "    previo[nodoOrigen] = nodoOrigen\n",
    "\n",
    "    while len(nodos_a_evaluar) > 0:\n",
    "        nodo = None\n",
    "\n",
    "        # ENCONTRAR EL NODO CON EL MENOR COSTO TOTAL = PESO ARISTA + HEURISTICA\n",
    "        for nodoEvaluado in nodos_a_evaluar:\n",
    "                \n",
    "            if nodo == None or (costos[nodoEvaluado] + grafo.heuristica(nodoEvaluado) < costos[nodo] + grafo.heuristica(nodo)):\n",
    "                nodo = nodoEvaluado;\n",
    "            \n",
    "        # funcion parada: si no hay caminos\n",
    "        if nodo == None:\n",
    "            print(\"No existe ningun camino\")\n",
    "            return None\n",
    "\n",
    "        # funcion parada: si el nodo actual es el nodoDestino\n",
    "        if nodo == nodoDestino:\n",
    "            camino = []\n",
    "\n",
    "            while previo[nodo] != nodo:\n",
    "                camino.append(nodo)\n",
    "                nodo = previo[nodo]\n",
    "\n",
    "            camino.append(nodoOrigen)\n",
    "            camino.reverse()\n",
    "            \n",
    "            print(\"Costo del camino: \\n\")\n",
    "            costoTotal = 0\n",
    "            for i in costos: \n",
    "                if(i in camino and i != nodoOrigen): \n",
    "                    costoViaje = (costos[i] + grafo.heuristica(i)) - costos[previo[i]]\n",
    "                    costoTotal = costoTotal + costoViaje\n",
    "                    print(f\"Costo del nodo '{previo[i]}' al nodo '{i}' =  {costoViaje}\")\n",
    "            \n",
    "            print(f\"\\nCosto total del camino: {costoTotal}\")\n",
    "            print(\"\\nCamino encontrado: \")\n",
    "            return camino\n",
    "\n",
    "        # ALGORITMO PARA LOS NODOS ADYACENTES DEL NODO ACTUAL\n",
    "        for (nodo2, pesoArista) in grafo.get_nodosAdyacentes(nodo):\n",
    "            if nodo2 not in nodos_a_evaluar and nodo2 not in visitados:\n",
    "                nodos_a_evaluar.add(nodo2)\n",
    "                previo[nodo2] = nodo\n",
    "                costos[nodo2] = costos[nodo] + pesoArista\n",
    "            else:\n",
    "                if costos[nodo2] > costos[nodo] + pesoArista:\n",
    "                    costos[nodo2] = costos[nodo] + pesoArista\n",
    "                    previo[nodo2] = nodo\n",
    "\n",
    "                    if nodo2 in visitados:\n",
    "                        visitados.remove(nodo2)\n",
    "                        nodos_a_evaluar.add(nodo2)\n",
    "\n",
    "        # TODOS LOS NODOS ADYACENTES DEL NODO ACTUAL YA HAN SIDO VISITADOS\n",
    "        nodos_a_evaluar.remove(nodo)\n",
    "        visitados.add(nodo)\n",
    "\n",
    "    print('No existe ningun camino')\n",
    "    return None\n"
   ]
  },
  {
   "cell_type": "code",
   "execution_count": 37,
   "metadata": {},
   "outputs": [
    {
     "name": "stdout",
     "output_type": "stream",
     "text": [
      "Costo del camino: \n",
      "\n",
      "Costo del nodo 'A' al nodo 'B' =  2\n",
      "Costo del nodo 'B' al nodo 'D' =  6\n",
      "\n",
      "Costo total del camino: 8\n",
      "\n",
      "Camino encontrado: \n"
     ]
    },
    {
     "data": {
      "text/plain": [
       "['A', 'B', 'D']"
      ]
     },
     "execution_count": 37,
     "metadata": {},
     "output_type": "execute_result"
    }
   ],
   "source": [
    "lista_adyacencia = {\n",
    "    'A': [('B', 1), ('C', 3), ('D', 7)],\n",
    "    'B': [('D', 5)],\n",
    "    'C': [('D', 12)]\n",
    "}\n",
    "grafo = Grafo(lista_adyacencia)\n",
    "\n",
    "a_star(grafo, 'A', 'D')"
   ]
  },
  {
   "attachments": {},
   "cell_type": "markdown",
   "metadata": {},
   "source": [
    "# ALGORITMO DIJIKSTRA"
   ]
  },
  {
   "attachments": {},
   "cell_type": "markdown",
   "metadata": {},
   "source": [
    "- CAMINO MAS CORTO QUE ESTE CONECTADO A TODOS LOS NODOS A PARTIR DE UN NODO ORIGEN\n",
    "\n",
    "- CAMINO MAS CORTO ENTRE DOS NODOS"
   ]
  },
  {
   "cell_type": "code",
   "execution_count": 144,
   "metadata": {},
   "outputs": [],
   "source": [
    "def dijkstraGrafoDirigido(Grafo, nodoOrigen):\n",
    "    n = len(Grafo)\n",
    "    costos, camino, visitado = {}, {}, {}\n",
    "    result = []\n",
    "\n",
    "    for nodo in Grafo:\n",
    "        costos[nodo] = math.inf\n",
    "        camino[nodo] = -1\n",
    "        visitado[nodo] = False\n",
    "        \n",
    "    cola = [nodo for nodo in Grafo]\n",
    "    costos[nodoOrigen] = 0\n",
    "\n",
    "    while cola:\n",
    "        nodo = min(cola, key=costos.get)\n",
    "        cola.remove(nodo)\n",
    "        result.append(nodo)\n",
    "        \n",
    "        if not visitado[nodo]:\n",
    "            visitado[nodo] = True\n",
    "            \n",
    "            for nodo_adyacente in Grafo[nodo]:\n",
    "                costoNuevo = costos[nodo] + Grafo[nodo][nodo_adyacente]\n",
    "        \n",
    "                if  costos[nodo_adyacente] > costoNuevo:\n",
    "                    costos[nodo_adyacente] = costoNuevo\n",
    "                    camino[nodo_adyacente] = nodo\n",
    "\n",
    "    return result, costos, camino"
   ]
  },
  {
   "cell_type": "code",
   "execution_count": 151,
   "metadata": {},
   "outputs": [
    {
     "name": "stdout",
     "output_type": "stream",
     "text": [
      "\n",
      "nodos = ['c', 'b', 'd', 'e', 'f', 'g', 'z', 'a']\n",
      "\n",
      "distancia desde el nodo 'c' al nodo = {'a': inf, 'b': 2, 'c': 0, 'd': 3, 'e': 4, 'g': 9, 'f': 8, 'z': 13}\n",
      "\n",
      "caminos: \n",
      "\n",
      "'c' -> 'b'\n",
      "'c' -> 'd'\n",
      "'d' -> 'e'\n",
      "'e' -> 'g'\n",
      "'d' -> 'f'\n",
      "'g' -> 'z'\n",
      "\n",
      "La distancia mas corta entre el nodo 'c' y el nodo 'e' es 4\n"
     ]
    }
   ],
   "source": [
    "grafoPrueba = {\n",
    "    'a': {'b': 4, 'c': 3},\n",
    "    'b': {'d': 5},\n",
    "    'c': {'b': 2, 'd': 3, 'e': 6},\n",
    "    'd': {'f': 5, 'e': 1},\n",
    "    'e': {'g': 5},\n",
    "    'g': {'z': 4},\n",
    "    'f': {'g': 2, 'z': 7},\n",
    "    'z': {}\n",
    "}\n",
    "\n",
    "\n",
    "\n",
    "### El camino mas corto desde el nodoOrigen a todos los nodos del Grafo\n",
    "\n",
    "nodoOrigen = 'c'\n",
    "nodos, distancia, camino = dijkstraGrafoDirigido(grafoPrueba, nodoOrigen)\n",
    "print(f\"\\nnodos = {nodos}\")\n",
    "print(f\"\\ndistancia desde el nodo '{nodoOrigen}' al nodo = {distancia}\")\n",
    "#print(f\"camino = {camino}\")\n",
    "\n",
    "print(\"\\ncaminos: \\n\")\n",
    "for nodo in camino:\n",
    "    if(camino[nodo] != -1):\n",
    "        print(f\"'{camino[nodo]}' -> '{nodo}'\")\n",
    "        \n",
    "        \n",
    "        \n",
    "## El camino camino mas corto entre 2 nodos:\n",
    "\n",
    "nodoDestino = 'e'\n",
    "print(f\"\\nLa distancia mas corto entre el nodo '{nodoOrigen}' y el nodo '{nodoDestino}' es {distancia[nodoDestino]}\")\n",
    "        \n"
   ]
  },
  {
   "attachments": {},
   "cell_type": "markdown",
   "metadata": {},
   "source": [
    "#### 1. MATRIZ"
   ]
  },
  {
   "cell_type": "code",
   "execution_count": 74,
   "metadata": {},
   "outputs": [],
   "source": [
    "def dijkstraMatriz(G, nodoOrigen):\n",
    "  n = len(G)\n",
    "  visitado = [False]*n\n",
    "  camino = [-1]*n\n",
    "  costos = [math.inf]*n\n",
    "\n",
    "  costos[nodoOrigen] = 0\n",
    "  pqueue = [(0, nodoOrigen)]\n",
    "  while pqueue:\n",
    "    costoActual, nodo1 = hq.heappop(pqueue)\n",
    "    \n",
    "    if not visitado[nodo1]:\n",
    "      visitado[nodo1] = True\n",
    "      \n",
    "      for nodo2 in range(n):\n",
    "        if G[nodo1, nodo2] > 0 and not visitado[nodo2]:\n",
    "          costoNuevo = costoActual + G[nodo1, nodo2]\n",
    "          \n",
    "          if costoNuevo < costos[nodo2]:\n",
    "            costos[nodo2] = costoNuevo\n",
    "            camino[nodo2] = nodo1\n",
    "            \n",
    "            hq.heappush(pqueue, (costoNuevo, nodo2))\n",
    "\n",
    "  return camino, costos"
   ]
  },
  {
   "attachments": {},
   "cell_type": "markdown",
   "metadata": {},
   "source": [
    "LEER ARCHIVO Y PASARLO A MATRIX"
   ]
  },
  {
   "cell_type": "code",
   "execution_count": 35,
   "metadata": {},
   "outputs": [
    {
     "name": "stdout",
     "output_type": "stream",
     "text": [
      "Writing 0501.am\n"
     ]
    }
   ],
   "source": [
    "%%file 0501.am\n",
    "0 2 0 2 9 0 0 0\n",
    "2 0 1 2 0 2 0 0\n",
    "0 1 0 0 2 0 2 0\n",
    "2 2 0 0 0 9 0 3\n",
    "9 0 2 0 0 0 0 8\n",
    "0 2 0 9 0 0 7 0\n",
    "0 0 2 0 0 7 0 3\n",
    "0 0 0 3 8 0 3 0"
   ]
  },
  {
   "cell_type": "code",
   "execution_count": 56,
   "metadata": {},
   "outputs": [
    {
     "name": "stdout",
     "output_type": "stream",
     "text": [
      "[[0. 2. 0. 2. 9. 0. 0. 0.]\n",
      " [2. 0. 1. 2. 0. 2. 0. 0.]\n",
      " [0. 1. 0. 0. 2. 0. 2. 0.]\n",
      " [2. 2. 0. 0. 0. 9. 0. 3.]\n",
      " [9. 0. 2. 0. 0. 0. 0. 8.]\n",
      " [0. 2. 0. 9. 0. 0. 7. 0.]\n",
      " [0. 0. 2. 0. 0. 7. 0. 3.]\n",
      " [0. 0. 0. 3. 8. 0. 3. 0.]]\n"
     ]
    }
   ],
   "source": [
    "GrafoDijikstraMatriz = np.loadtxt(\"0501.am\")\n",
    "print(GrafoDijikstraMatriz)"
   ]
  },
  {
   "cell_type": "code",
   "execution_count": 75,
   "metadata": {},
   "outputs": [
    {
     "name": "stdout",
     "output_type": "stream",
     "text": [
      "[3, 3, 1, -1, 2, 1, 2, 3]\n",
      "[2.0, 2.0, 3.0, 0, 5.0, 4.0, 5.0, 3.0]\n"
     ]
    }
   ],
   "source": [
    "camino, coste = dijkstraMatriz(GrafoDijikstraMatriz, 3)\n",
    "print(camino)\n",
    "print(coste)"
   ]
  },
  {
   "attachments": {},
   "cell_type": "markdown",
   "metadata": {},
   "source": [
    "#### 2. LISTA DE ADYACENCIA"
   ]
  },
  {
   "cell_type": "code",
   "execution_count": 33,
   "metadata": {},
   "outputs": [],
   "source": [
    "def dijkstraListaAdyacencia(G, nodoOrigen):\n",
    "  n = len(G)\n",
    "  visitados = [False]*n\n",
    "  camino = [-1]*n\n",
    "  costo = [math.inf]*n\n",
    "\n",
    "  costo[nodoOrigen] = 0\n",
    "  pqueue = [(0, nodoOrigen)]\n",
    "  \n",
    "  while pqueue:\n",
    "    costoActual, nodo = hq.heappop(pqueue)\n",
    "    \n",
    "    if not visitados[nodo]:\n",
    "      visitados[nodo] = True\n",
    "      \n",
    "      for nodo1, nodo2 in G[nodo]:\n",
    "        if not visitados[nodo1]:\n",
    "          costoNuevo = costoActual + nodo2\n",
    "          \n",
    "          if costoNuevo < costo[nodo1]:\n",
    "            costo[nodo1] = costoNuevo\n",
    "            camino[nodo1] = nodo\n",
    "            hq.heappush(pqueue, (costoNuevo, nodo1))\n",
    "\n",
    "  return camino, costo"
   ]
  },
  {
   "attachments": {},
   "cell_type": "markdown",
   "metadata": {},
   "source": [
    "LEER ARCHIVO Y PASARLO A LISTA DE ADYACENCIA"
   ]
  },
  {
   "cell_type": "code",
   "execution_count": 1,
   "metadata": {},
   "outputs": [
    {
     "name": "stdout",
     "output_type": "stream",
     "text": [
      "Writing 0502.al\n"
     ]
    }
   ],
   "source": [
    "%%file 0502.al\n",
    "1 2 3 2 4 9\n",
    "0 2 2 1 3 2 5 2\n",
    "1 1 4 2 6 2\n",
    "0 2 1 2 5 9 7 3\n",
    "0 9 2 2 7 8\n",
    "1 2 3 9 6 7\n",
    "2 2 5 7 7 3\n",
    "3 3 4 8 6 3"
   ]
  },
  {
   "cell_type": "code",
   "execution_count": 3,
   "metadata": {},
   "outputs": [
    {
     "name": "stdout",
     "output_type": "stream",
     "text": [
      "[(1, 2), (3, 2), (4, 9)]\n",
      "[(0, 2), (2, 1), (3, 2), (5, 2)]\n",
      "[(1, 1), (4, 2), (6, 2)]\n",
      "[(0, 2), (1, 2), (5, 9), (7, 3)]\n",
      "[(0, 9), (2, 2), (7, 8)]\n",
      "[(1, 2), (3, 9), (6, 7)]\n",
      "[(2, 2), (5, 7), (7, 3)]\n",
      "[(3, 3), (4, 8), (6, 3)]\n"
     ]
    }
   ],
   "source": [
    "with open(\"0502.al\") as fileListaAdyacencia:\n",
    "  GrafoLA = []\n",
    "  \n",
    "  for linea in fileListaAdyacencia:\n",
    "    lista = [int(x) for x in linea.split()]\n",
    "    GrafoLA.append([])\n",
    "    \n",
    "    for i in range(0, len(lista), 2):\n",
    "      GrafoLA[-1].append((lista[i], lista[i+1]))\n",
    "\n",
    "for arista in GrafoLA:\n",
    "  print(arista)\n"
   ]
  },
  {
   "cell_type": "code",
   "execution_count": 34,
   "metadata": {},
   "outputs": [
    {
     "name": "stdout",
     "output_type": "stream",
     "text": [
      "[3, 3, 1, -1, 2, 1, 2, 3]\n",
      "[2, 2, 3, 0, 5, 4, 5, 3]\n"
     ]
    }
   ],
   "source": [
    "path, cost = dijkstraListaAdyacencia(GrafoLA, 3)\n",
    "print(path)\n",
    "print(cost)"
   ]
  },
  {
   "attachments": {},
   "cell_type": "markdown",
   "metadata": {},
   "source": [
    "### ESCRIBIR ARCHIVOS TEXTO"
   ]
  },
  {
   "cell_type": "code",
   "execution_count": 38,
   "metadata": {},
   "outputs": [
    {
     "name": "stdout",
     "output_type": "stream",
     "text": [
      "Writing lorem.txt\n"
     ]
    }
   ],
   "source": [
    "## ARISTAS\n",
    "%%file lorem.txt\n",
    "1 2\n",
    "1 4\n",
    "2 5\n",
    "3 4\n",
    "3 5"
   ]
  },
  {
   "cell_type": "code",
   "execution_count": 15,
   "metadata": {},
   "outputs": [
    {
     "name": "stdout",
     "output_type": "stream",
     "text": [
      "Overwriting matrizFile.txt\n"
     ]
    }
   ],
   "source": [
    "%%file matrizFile.txt\n",
    "1 0 1\n",
    "1 1 1\n",
    "1 0 1"
   ]
  },
  {
   "attachments": {},
   "cell_type": "markdown",
   "metadata": {},
   "source": [
    "### LEER ARCHIVOS TEXTO"
   ]
  },
  {
   "cell_type": "code",
   "execution_count": 56,
   "metadata": {},
   "outputs": [
    {
     "name": "stdout",
     "output_type": "stream",
     "text": [
      "1: [2, 4]\n",
      "2: [5]\n",
      "3: [4, 5]\n"
     ]
    }
   ],
   "source": [
    "## ARISTAS\n",
    "\n",
    "with open(\"lorem.txt\") as fileListaAdyacencia:\n",
    "  GrafoLA = defaultdict(list)\n",
    "  \n",
    "  for linea in fileListaAdyacencia:\n",
    "    lista = [int(x) for x in linea.split()]\n",
    "    \n",
    "    for i in range(0, len(lista), 2):\n",
    "      GrafoLA[lista[i]].append(lista[i+1])\n",
    "      \n",
    "### DICCIONARIO DE LISTAS - LISTA DE ADYACENCIA\n",
    "for nodo in GrafoLA:\n",
    "  print(f\"{nodo}: {GrafoLA[nodo]}\")"
   ]
  },
  {
   "cell_type": "code",
   "execution_count": 44,
   "metadata": {},
   "outputs": [
    {
     "name": "stdout",
     "output_type": "stream",
     "text": [
      "[[1 0 1]\n",
      " [1 1 1]\n",
      " [1 0 1]] \n",
      "\n",
      "Arista entre el nodo 0 y el nodo 0 es de peso: 1\n",
      "Arista entre el nodo 0 y el nodo 1 es de peso: 0\n",
      "Arista entre el nodo 0 y el nodo 2 es de peso: 1\n",
      "Arista entre el nodo 1 y el nodo 0 es de peso: 1\n",
      "Arista entre el nodo 1 y el nodo 1 es de peso: 1\n",
      "Arista entre el nodo 1 y el nodo 2 es de peso: 1\n",
      "Arista entre el nodo 2 y el nodo 0 es de peso: 1\n",
      "Arista entre el nodo 2 y el nodo 1 es de peso: 0\n",
      "Arista entre el nodo 2 y el nodo 2 es de peso: 1\n",
      "\n",
      "lista de adyacencia sin peso en las aristas\n",
      "0: [0, 2]\n",
      "1: [0, 1, 2]\n",
      "2: [0, 2]\n",
      "\n",
      "lista de adyacencia con peso en las aristas\n",
      "0: [{0: 1}, {2: 1}]\n",
      "1: [{0: 1}, {1: 1}, {2: 1}]\n",
      "2: [{0: 1}, {2: 1}]\n"
     ]
    }
   ],
   "source": [
    "import numpy as np\n",
    "\n",
    "## MATRIZ\n",
    "m = np.loadtxt(\"matrizFile.txt\", dtype = int)\n",
    "print(m, \"\\n\")\n",
    "\n",
    "## ENTENDIENDO LOS DATOS DE LA MATRIZ\n",
    "conti = 0;\n",
    "for i in m:\n",
    "    contj=0\n",
    "    for j in i:\n",
    "        print(f\"Arista entre el nodo {conti} y el nodo {contj} es de peso: {j}\")\n",
    "        contj+=1\n",
    "    conti+=1\n",
    "\n",
    "## AGREGANDOLOS A UNA LISTA DE ADYACENCIA\n",
    "print(\"\\nlista de adyacencia sin peso en las aristas\")\n",
    "lista_adyacencia = defaultdict(list)\n",
    "\n",
    "conti = 0;\n",
    "for i in m:\n",
    "    contj=0\n",
    "    for j in i:\n",
    "        if(j==1): lista_adyacencia[conti].append(contj)\n",
    "        contj+=1\n",
    "    conti+=1\n",
    "\n",
    "for nodo in lista_adyacencia:\n",
    "    print(f\"{nodo}: {lista_adyacencia[nodo]}\")\n",
    "\n",
    "## AGREGANDOLOS A UNA LISTA DE ADYACENCIA CON PESO EN LAS ARISTASSSSS\n",
    "print(\"\\nlista de adyacencia con peso en las aristas\")\n",
    "\n",
    "lista_adyacencia2 = defaultdict(list)\n",
    "\n",
    "conti = 0;\n",
    "for i in m:\n",
    "    contj=0\n",
    "    for j in i:\n",
    "        if(j==1): \n",
    "            aristaYpeso={}\n",
    "            aristaYpeso[contj] = j\n",
    "            lista_adyacencia2[conti].append(aristaYpeso)\n",
    "        contj+=1\n",
    "    conti+=1\n",
    "\n",
    "for nodo in lista_adyacencia:\n",
    "    print(f\"{nodo}: {lista_adyacencia2[nodo]}\")"
   ]
  },
  {
   "cell_type": "code",
   "execution_count": 49,
   "metadata": {},
   "outputs": [
    {
     "name": "stdout",
     "output_type": "stream",
     "text": [
      "defaultdict(<class 'list'>, {'A': [{'B': 2}, {'C': 4}]})\n"
     ]
    }
   ],
   "source": [
    "from collections import defaultdict\n",
    "mi_dict = defaultdict(list)\n",
    "dicArista = {}\n",
    "dicArista2 = {}\n",
    "dicArista['B'] =2 \n",
    "dicArista2['C'] =4 \n",
    "mi_dict[\"A\"].append(dicArista)\n",
    "mi_dict[\"A\"].append(dicArista2)\n",
    "\n",
    "\n",
    "print(mi_dict)"
   ]
  }
 ],
 "metadata": {
  "kernelspec": {
   "display_name": "Python 3",
   "language": "python",
   "name": "python3"
  },
  "language_info": {
   "codemirror_mode": {
    "name": "ipython",
    "version": 3
   },
   "file_extension": ".py",
   "mimetype": "text/x-python",
   "name": "python",
   "nbconvert_exporter": "python",
   "pygments_lexer": "ipython3",
   "version": "3.11.2"
  },
  "orig_nbformat": 4
 },
 "nbformat": 4,
 "nbformat_minor": 2
}
