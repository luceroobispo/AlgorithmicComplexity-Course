{
 "cells": [
  {
   "attachments": {},
   "cell_type": "markdown",
   "metadata": {},
   "source": [
    "# AYUDA A MARICIELO\n",
    "Algoritmo: Orden Topologico\n"
   ]
  },
  {
   "cell_type": "code",
   "execution_count": 1,
   "metadata": {},
   "outputs": [
    {
     "name": "stdout",
     "output_type": "stream",
     "text": [
      "Writing ayuda_maricielo.txt\n"
     ]
    }
   ],
   "source": [
    "%%file ayuda_maricielo.txt\n",
    "5 4 \n",
    "1 4 \n",
    "2 3 \n",
    "1 3 \n",
    "1 5 \n",
    "0 0 "
   ]
  },
  {
   "cell_type": "code",
   "execution_count": 49,
   "metadata": {},
   "outputs": [
    {
     "name": "stdout",
     "output_type": "stream",
     "text": [
      "Cantidad de nodos: 5 \n",
      "Cantidad de aristas: 4\n",
      "1: [4, 3, 5]\n",
      "2: [3]\n",
      "3: []\n",
      "4: []\n",
      "5: []\n"
     ]
    }
   ],
   "source": [
    "## LEER EL ARCHIVO Y PASARLO A LISTA DE ADYACENCIA\n",
    "\n",
    "from collections import defaultdict\n",
    "import math\n",
    "\n",
    "with open(\"ayuda_maricielo.txt\") as fileListaAdyacencia:\n",
    "  Grafo = defaultdict(list)\n",
    "  \n",
    "  #PRIMERA LINEA\n",
    "  datos = [int(x) for x in fileListaAdyacencia.readline().split()]\n",
    "  \n",
    "  n = datos[0]\n",
    "  m = datos[1]\n",
    "  \n",
    "  print(f\"Cantidad de nodos: {n} \\nCantidad de aristas: {m}\")\n",
    "  \n",
    "  #A PARTIR DE LA SEGUNDA LINEA\n",
    "  for linea in fileListaAdyacencia:\n",
    "    lista = [int(x) for x in linea.split()]\n",
    "    \n",
    "    for i in range(0, len(lista), 2):\n",
    "      if(lista[i]!=0 and lista[i+1]!=0):\n",
    "        Grafo[lista[i]].append(lista[i+1])\n",
    "  \n",
    "  #COMPLETAR EL GRAFO CON LOS NODOS FALTANTES\n",
    "  for tarea in range(1, n+1):\n",
    "    if(tarea not in Grafo):\n",
    "      Grafo[tarea]=[]\n",
    "  \n",
    "### DICCIONARIO DE LISTAS - LISTA DE ADYACENCIA\n",
    "for nodo in Grafo:\n",
    "  print(f\"{nodo}: {Grafo[nodo]}\")"
   ]
  },
  {
   "cell_type": "code",
   "execution_count": 72,
   "metadata": {},
   "outputs": [],
   "source": [
    "from collections import defaultdict\n",
    "\n",
    "def ordenamientoTopologico(G):\n",
    "  #Creamos estructuras de datos auxiliares\n",
    "  grados_entrada = {}\n",
    "  cola = []\n",
    "  ordenTopologicoFinal = []\n",
    "  \n",
    "  #Inicializamos todos los grados del nodo en 0\n",
    "  for nodo in G:\n",
    "    grados_entrada[nodo] = 0\n",
    "  \n",
    "  #Se aumenta el grado de entrada de cada tarea(nodo), en base a sus dependencias a otros nodos\n",
    "  for nodo in G:\n",
    "    if(G[nodo]):\n",
    "      for nodo_dependiente in G[nodo]:\n",
    "        grados_entrada[nodo_dependiente] += 1\n",
    "  \n",
    "  #Agregamos a la cola, todos las tareas(nodo) con grado de entrada 0, \n",
    "  #Pues seran los primeros en guardarse en lista final del orden topologico\n",
    "  for nodo in grados_entrada.keys():\n",
    "    if grados_entrada[nodo] == 0:\n",
    "      cola.append(nodo)\n",
    "  \n",
    "  #Se agregar a la lista ordenTopologicoFinal todos los nodos con grado 0\n",
    "  #Los otros nodos van disminuyendo su grado de entrada en -1\n",
    "  #Ya que los que ahora estan en ordenTopologicoFinal ya no forman parte de la cola\n",
    "  while cola:\n",
    "    nodo = cola.pop(0)\n",
    "    ordenTopologicoFinal.append(nodo)\n",
    "    \n",
    "    for nodo_dependiente in G[nodo]:\n",
    "      grados_entrada[nodo_dependiente] -= 1\n",
    "      if grados_entrada[nodo_dependiente] == 0: \n",
    "        cola.append(nodo_dependiente)\n",
    "\n",
    "  return ordenTopologicoFinal"
   ]
  },
  {
   "cell_type": "code",
   "execution_count": 73,
   "metadata": {},
   "outputs": [
    {
     "name": "stdout",
     "output_type": "stream",
     "text": [
      "Lista de tareas a ejecutar por Maricielo:  1 2 4 5 3 "
     ]
    }
   ],
   "source": [
    "print(\"Lista de tareas a ejecutar por Maricielo: \", end=\" \")\n",
    "\n",
    "for tarea in ordenamientoTopologico(Grafo):\n",
    "    print(tarea, end=\" \")"
   ]
  },
  {
   "attachments": {},
   "cell_type": "markdown",
   "metadata": {},
   "source": [
    "### EXPLICACION\n",
    "\n",
    "Se ha escogido el algoritmo Orden Topologico porque ayuda a ordenar los pasos de un proceso, \n",
    "\n",
    "en este caso seria para ayudar a Maricielo a elegir en que orden debe realizar sus tareas.\n",
    "\n",
    "Puesto que, este algoritmo los ordena en base a las dependencias de unos pasos con otros\n",
    "\n",
    "y, efectivamente, este algoritmo le ayuda a Maricielo porque algunas de sus tareas depende de\n",
    "\n",
    "otras para poder recien ser desarrolladas\n",
    "\n"
   ]
  }
 ],
 "metadata": {
  "kernelspec": {
   "display_name": "Python 3",
   "language": "python",
   "name": "python3"
  },
  "language_info": {
   "codemirror_mode": {
    "name": "ipython",
    "version": 3
   },
   "file_extension": ".py",
   "mimetype": "text/x-python",
   "name": "python",
   "nbconvert_exporter": "python",
   "pygments_lexer": "ipython3",
   "version": "3.11.2"
  },
  "orig_nbformat": 4
 },
 "nbformat": 4,
 "nbformat_minor": 2
}
