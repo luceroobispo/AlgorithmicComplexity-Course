{
 "cells": [
  {
   "attachments": {},
   "cell_type": "markdown",
   "metadata": {},
   "source": [
    "# LABERINTO\n",
    "Algoritmo: DFS"
   ]
  },
  {
   "cell_type": "code",
   "execution_count": 34,
   "metadata": {},
   "outputs": [],
   "source": [
    "from collections import deque\n",
    "\n",
    "def laberintoGrafo(laberinto):\n",
    "    altura = len(laberinto)\n",
    "    if(altura>0):\n",
    "        ancho = len(laberinto[0])\n",
    "        \n",
    "    grafo = {(i, j): [] for j in range(ancho) for i in range(altura) if not laberinto[i][j]}\n",
    "    \n",
    "    for fila, columna in grafo.keys():\n",
    "        \n",
    "        if fila < altura - 1 and not laberinto[fila + 1][columna]:\n",
    "            grafo[(fila, columna)].append((\"S\", (fila + 1, columna)))\n",
    "            grafo[(fila + 1, columna)].append((\"N\", (fila, columna)))\n",
    "            \n",
    "        if columna < ancho - 1 and not laberinto[fila][columna + 1]:\n",
    "            grafo[(fila, columna)].append((\"E\", (fila, columna + 1)))\n",
    "            grafo[(fila, columna + 1)].append((\"W\", (fila, columna)))\n",
    "            \n",
    "    return grafo"
   ]
  },
  {
   "cell_type": "code",
   "execution_count": 41,
   "metadata": {},
   "outputs": [],
   "source": [
    "from collections import defaultdict\n",
    "\n",
    "def encontrarCaminoDFS(maze):\n",
    "    grafo = laberintoGrafo(maze)\n",
    "    principio, salida = (3, 5), (len(maze) - 2, len(maze[0]) - 1)\n",
    "    pila = deque([(\"\", principio)])\n",
    "    recuadrosVisitados = set() \n",
    "    grafoFinal = defaultdict(list)\n",
    "    \n",
    "    #ALGORITMO DFS\n",
    "    while pila:\n",
    "        camino, recuadroActual = pila.pop()\n",
    "\n",
    "        if recuadroActual == salida:\n",
    "            recuadrosVisitados.add(recuadroActual)\n",
    "            \n",
    "            #Para la visualizacion del grafo final -----\n",
    "            for visitado in recuadrosVisitados:\n",
    "                for visitado2 in grafo[visitado]:\n",
    "                    if((visitado2[1] in recuadrosVisitados) and visitado2[0] in camino):\n",
    "                        grafoFinal[visitado].append(visitado2)\n",
    "            \n",
    "            print(\"\\nVisualizacion del grafo final: \\n\")\n",
    "            for nodo in grafoFinal:\n",
    "                print(f\"{nodo}: {grafoFinal[nodo]}\")\n",
    "            # ------------------------------------------\n",
    "                \n",
    "            return camino\n",
    "        \n",
    "        if recuadroActual in recuadrosVisitados:\n",
    "            continue\n",
    "        \n",
    "        recuadrosVisitados.add(recuadroActual)\n",
    "        \n",
    "        for direccion, recuadroSiguiente in grafo[recuadroActual]:\n",
    "            pila.append((camino + direccion, recuadroSiguiente))\n",
    "            \n",
    "    return \"NO existe ningun camino que conecte el principio y salida del laberinto\""
   ]
  },
  {
   "cell_type": "code",
   "execution_count": 43,
   "metadata": {},
   "outputs": [
    {
     "name": "stdout",
     "output_type": "stream",
     "text": [
      "\n",
      "Visualizacion del grafo final: \n",
      "\n",
      "(3, 8): [('E', (3, 9))]\n",
      "(4, 9): [('S', (5, 9))]\n",
      "(3, 7): [('E', (3, 8))]\n",
      "(7, 9): [('E', (7, 10))]\n",
      "(3, 9): [('S', (4, 9))]\n",
      "(3, 6): [('E', (3, 7))]\n",
      "(5, 9): [('S', (6, 9))]\n",
      "(6, 9): [('S', (7, 9))]\n",
      "(3, 5): [('E', (3, 6))]\n",
      "\n",
      "Visualizacion del Grafo inicial: \n",
      "\n",
      "(1, 1): [('E', (1, 2))]\n",
      "(3, 1): [('E', (3, 2))]\n",
      "(5, 1): [('S', (6, 1)), ('E', (5, 2))]\n",
      "(6, 1): [('N', (5, 1)), ('S', (7, 1))]\n",
      "(7, 1): [('N', (6, 1))]\n",
      "(1, 2): [('W', (1, 1)), ('E', (1, 3))]\n",
      "(3, 2): [('W', (3, 1)), ('E', (3, 3))]\n",
      "(5, 2): [('W', (5, 1)), ('E', (5, 3))]\n",
      "(1, 3): [('W', (1, 2)), ('S', (2, 3)), ('E', (1, 4))]\n",
      "(2, 3): [('N', (1, 3)), ('S', (3, 3))]\n",
      "(3, 3): [('W', (3, 2)), ('N', (2, 3))]\n",
      "(5, 3): [('W', (5, 2)), ('S', (6, 3))]\n",
      "(6, 3): [('N', (5, 3)), ('S', (7, 3))]\n",
      "(7, 3): [('N', (6, 3)), ('E', (7, 4))]\n",
      "(1, 4): [('W', (1, 3)), ('E', (1, 5))]\n",
      "(7, 4): [('W', (7, 3)), ('E', (7, 5))]\n",
      "(1, 5): [('W', (1, 4)), ('S', (2, 5)), ('E', (1, 6))]\n",
      "(2, 5): [('N', (1, 5)), ('S', (3, 5))]\n",
      "(3, 5): [('N', (2, 5)), ('S', (4, 5)), ('E', (3, 6))]\n",
      "(4, 5): [('N', (3, 5)), ('S', (5, 5))]\n",
      "(5, 5): [('N', (4, 5))]\n",
      "(7, 5): [('W', (7, 4)), ('E', (7, 6))]\n",
      "(1, 6): [('W', (1, 5)), ('E', (1, 7))]\n",
      "(3, 6): [('W', (3, 5)), ('E', (3, 7))]\n",
      "(7, 6): [('W', (7, 5)), ('E', (7, 7))]\n",
      "(1, 7): [('W', (1, 6)), ('E', (1, 8))]\n",
      "(3, 7): [('W', (3, 6)), ('S', (4, 7)), ('E', (3, 8))]\n",
      "(4, 7): [('N', (3, 7)), ('S', (5, 7))]\n",
      "(5, 7): [('N', (4, 7))]\n",
      "(7, 7): [('W', (7, 6)), ('E', (7, 8))]\n",
      "(1, 8): [('W', (1, 7)), ('E', (1, 9))]\n",
      "(3, 8): [('W', (3, 7)), ('E', (3, 9))]\n",
      "(7, 8): [('W', (7, 7)), ('E', (7, 9))]\n",
      "(1, 9): [('W', (1, 8))]\n",
      "(3, 9): [('W', (3, 8)), ('S', (4, 9))]\n",
      "(4, 9): [('N', (3, 9)), ('S', (5, 9))]\n",
      "(5, 9): [('N', (4, 9)), ('S', (6, 9))]\n",
      "(6, 9): [('N', (5, 9)), ('S', (7, 9))]\n",
      "(7, 9): [('W', (7, 8)), ('N', (6, 9)), ('E', (7, 10))]\n",
      "(7, 10): [('W', (7, 9))]\n"
     ]
    }
   ],
   "source": [
    "# Informacion de la matriz de adyacencia:\n",
    "    # 0: Disponible (morado)\n",
    "    # 1: Bloqueado (negro)\n",
    "    # Principio = (3,5) (amarillo)\n",
    "    # Salida =   (7,10) (amarillo)\n",
    "    # tamanno de la matriz = 9 x 11\n",
    "    \n",
    "laberinto = [[1, 1, 1, 1, 1, 1, 1, 1, 1, 1, 1],\n",
    "            [1, 0, 0, 0, 0, 0, 0, 0, 0, 0, 1],\n",
    "            [1, 1, 1, 0, 1, 0, 1, 1, 1, 1, 1],\n",
    "            [1, 0, 0, 0, 1, 0, 0, 0, 0, 0, 1],\n",
    "            [1, 1, 1, 1, 1, 0, 1, 0, 1, 0, 1],\n",
    "            [1, 0, 0, 0, 1, 0, 1, 0, 1, 0, 1],\n",
    "            [1, 0, 1, 0, 1, 1, 1, 1, 1, 0, 1],\n",
    "            [1, 0, 1, 0, 0, 0, 0, 0, 0, 0, 0],\n",
    "            [1, 1, 1, 1, 1, 1, 1, 1, 1, 1, 1]]\n",
    "\n",
    "\n",
    "camino = encontrarCaminoDFS(laberinto)\n",
    "grafo = laberintoGrafo(laberinto)\n",
    "cantidad_total_recuadros = len(camino) -1 #sin contar la salida\n",
    "\n",
    "print(f\"\\nVisualizacion del Grafo inicial: \\n\")\n",
    "\n",
    "for nodo in grafo:\n",
    "    print(f\"{nodo}: {grafo[nodo]}\")\n",
    "    "
   ]
  },
  {
   "cell_type": "code",
   "execution_count": 44,
   "metadata": {},
   "outputs": [
    {
     "name": "stdout",
     "output_type": "stream",
     "text": [
      "\n",
      "Visualizacion del camino recorrido: EEEESSSSE\n",
      "Cantidad total de recuadros que serian recorridos es: 8\n"
     ]
    }
   ],
   "source": [
    "print(f\"\\nVisualizacion del camino recorrido: {camino}\")\n",
    "\n",
    "print(f\"Cantidad total de recuadros que serian recorridos es: {cantidad_total_recuadros}\")"
   ]
  }
 ],
 "metadata": {
  "kernelspec": {
   "display_name": "Python 3",
   "language": "python",
   "name": "python3"
  },
  "language_info": {
   "codemirror_mode": {
    "name": "ipython",
    "version": 3
   },
   "file_extension": ".py",
   "mimetype": "text/x-python",
   "name": "python",
   "nbconvert_exporter": "python",
   "pygments_lexer": "ipython3",
   "version": "3.11.2"
  },
  "orig_nbformat": 4
 },
 "nbformat": 4,
 "nbformat_minor": 2
}
