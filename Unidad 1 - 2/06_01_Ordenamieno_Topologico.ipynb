{
  "cells": [
    {
      "attachments": {},
      "cell_type": "markdown",
      "metadata": {
        "id": "P0S_UaYIvQsC"
      },
      "source": [
        "###Ordenamiento Topológico\n"
      ]
    },
    {
      "cell_type": "code",
      "execution_count": 1,
      "metadata": {
        "id": "2PCgY7WXvPDy"
      },
      "outputs": [],
      "source": [
        "import graphviz as gv"
      ]
    },
    {
      "cell_type": "code",
      "execution_count": 14,
      "metadata": {
        "colab": {
          "base_uri": "https://localhost:8080/"
        },
        "id": "9xKehsBsvvvR",
        "outputId": "44a9a264-e09a-4242-92c2-12a38b62285e"
      },
      "outputs": [
        {
          "name": "stdout",
          "output_type": "stream",
          "text": [
            "Overwriting 06vesturario.txt\n"
          ]
        }
      ],
      "source": [
        "%%file 06vesturario.txt\n",
        "reloj:\n",
        "ropa_interior: pantalones zapatos\n",
        "medias: zapatos\n",
        "pantalones: zapatos correa\n",
        "camiseta: correa corbata\n",
        "zapatos:\n",
        "correa: chaqueta\n",
        "corbata: chaqueta\n",
        "chaqueta:"
      ]
    },
    {
      "cell_type": "code",
      "execution_count": 15,
      "metadata": {
        "id": "RLFIyfEIwhbs"
      },
      "outputs": [],
      "source": [
        "with open(\"06vesturario.txt\") as f:\n",
        "  labels = []\n",
        "  w2i = dict()\n",
        "  info = []\n",
        "  for line in f:\n",
        "    node, neighbours = [elem.strip() for elem in line.split(\":\")]\n",
        "    neighbours = neighbours.split()\n",
        "    w2i[node] = len(labels)\n",
        "    labels.append(node)\n",
        "    info.append(neighbours)\n",
        "\n",
        " "
      ]
    },
    {
      "cell_type": "code",
      "execution_count": 16,
      "metadata": {
        "colab": {
          "base_uri": "https://localhost:8080/"
        },
        "id": "-kGUJfiExLjI",
        "outputId": "2c7a1e6d-d290-4539-cab8-7663200d2f03"
      },
      "outputs": [
        {
          "name": "stdout",
          "output_type": "stream",
          "text": [
            "{'reloj': 0, 'ropa_interior': 1, 'medias': 2, 'pantalones': 3, 'camiseta': 4, 'zapatos': 5, 'correa': 6, 'corbata': 7, 'chaqueta': 8}\n",
            "['reloj', 'ropa_interior', 'medias', 'pantalones', 'camiseta', 'zapatos', 'correa', 'corbata', 'chaqueta']\n",
            "[[], [3, 5], [5], [5, 6], [6, 7], [], [8], [8], []]\n"
          ]
        }
      ],
      "source": [
        "G = []\n",
        "for neighbours in info:\n",
        "  G.append([w2i[node] for node in neighbours])\n",
        "    \n",
        "print(w2i)\n",
        "print(labels)\n",
        "print(G)"
      ]
    },
    {
      "cell_type": "code",
      "execution_count": 17,
      "metadata": {
        "id": "vk_X8_4Bw3lv"
      },
      "outputs": [],
      "source": [
        "def show(G, labels=None, directed=False, weighted=False, path=[], layout=\"sfdp\"):\n",
        "  g = gv.Digraph(\"direccionado\") if directed else gv.Graph(\"no-direccionado\")\n",
        "  g.graph_attr[\"layout\"] = layout\n",
        "  g.edge_attr[\"color\"] = \"gray\"\n",
        "  g.edge_attr[\"fontsize\"] = \"8\"\n",
        "  g.node_attr[\"color\"] = \"orangered\"\n",
        "  g.node_attr[\"width\"] = \"0.1\"\n",
        "  g.node_attr[\"height\"] = \"0.1\"\n",
        "  g.node_attr[\"fontsize\"] = \"8\"\n",
        "  g.node_attr[\"fontcolor\"] = \"mediumslateblue\"\n",
        "  n = len(G)\n",
        "\n",
        "  for u in range(n):\n",
        "    g.node(str(u), labels[u] if labels else str(u))\n",
        "\n",
        "  added = set()\n",
        "  for v, u in enumerate(path):\n",
        "    if u >= 0:\n",
        "      if weighted:\n",
        "        for vi, w in G[u]:\n",
        "          if vi == v:\n",
        "            break\n",
        "\n",
        "        g.edge(str(u), str(v), str(w), dir=\"forward\", penwidt=\"2\", color=\"orange\")\n",
        "      else:\n",
        "        g.edge(str(u), str(v), dir=\"forward\", penwidt=\"2\", color=\"orange\")\n",
        "\n",
        "      added.add(f\"{u}->{v}\")\n",
        "      added.add(f\"{v}->{u}\")\n",
        "  if weighted:\n",
        "    for u in range(n):\n",
        "      for v, w in G[u]:\n",
        "        if not directed and not f\"{u}->{v}\" in added:\n",
        "          added.add(f\"{u}->{v}\")\n",
        "          added.add(f\"{v}->{u}\")\n",
        "          g.edge(str(u), str(v), str(w))\n",
        "        elif directed:\n",
        "          g.edge(str(u), str(v), str(w))\n",
        "  else:\n",
        "    for u in range(n):\n",
        "      for v in G[u]:\n",
        "        if not directed and not f\"{u}->{v}\" in added:\n",
        "          added.add(f\"{u}->{v}\")\n",
        "          added.add(f\"{v}->{u}\")\n",
        "          g.edge(str(u), str(v))\n",
        "        elif directed:\n",
        "          g.edge(str(u), str(v))\n",
        "  return g"
      ]
    },
    {
      "cell_type": "code",
      "execution_count": 18,
      "metadata": {
        "colab": {
          "base_uri": "https://localhost:8080/",
          "height": 304
        },
        "id": "kGl3rVm5w_QA",
        "outputId": "b19bad76-9eb5-4f76-fc60-d132a3193270"
      },
      "outputs": [
        {
          "data": {
            "image/svg+xml": [
              "<?xml version=\"1.0\" encoding=\"UTF-8\" standalone=\"no\"?>\n",
              "<!DOCTYPE svg PUBLIC \"-//W3C//DTD SVG 1.1//EN\"\n",
              " \"http://www.w3.org/Graphics/SVG/1.1/DTD/svg11.dtd\">\n",
              "<!-- Generated by graphviz version 2.40.1 (20161225.0304)\n",
              " -->\n",
              "<!-- Title: direccionado Pages: 1 -->\n",
              "<svg width=\"306pt\" height=\"212pt\"\n",
              " viewBox=\"0.00 0.00 306.15 212.17\" xmlns=\"http://www.w3.org/2000/svg\" xmlns:xlink=\"http://www.w3.org/1999/xlink\">\n",
              "<g id=\"graph0\" class=\"graph\" transform=\"scale(1 1) rotate(0) translate(4 208.1665)\">\n",
              "<title>direccionado</title>\n",
              "<polygon fill=\"#ffffff\" stroke=\"transparent\" points=\"-4,4 -4,-208.1665 302.1543,-208.1665 302.1543,4 -4,4\"/>\n",
              "<!-- 0 -->\n",
              "<g id=\"node1\" class=\"node\">\n",
              "<title>0</title>\n",
              "<ellipse fill=\"none\" stroke=\"#ff4500\" cx=\"22.6274\" cy=\"-192.1457\" rx=\"22.7556\" ry=\"12.0417\"/>\n",
              "<text text-anchor=\"middle\" x=\"22.6274\" y=\"-190.2457\" font-family=\"Times,serif\" font-size=\"8.00\" fill=\"#7b68ee\">reloj</text>\n",
              "</g>\n",
              "<!-- 1 -->\n",
              "<g id=\"node2\" class=\"node\">\n",
              "<title>1</title>\n",
              "<ellipse fill=\"none\" stroke=\"#ff4500\" cx=\"106.6274\" cy=\"-192.1457\" rx=\"43.6818\" ry=\"12.0417\"/>\n",
              "<text text-anchor=\"middle\" x=\"106.6274\" y=\"-190.2457\" font-family=\"Times,serif\" font-size=\"8.00\" fill=\"#7b68ee\">ropa_interior</text>\n",
              "</g>\n",
              "<!-- 3 -->\n",
              "<g id=\"node4\" class=\"node\">\n",
              "<title>3</title>\n",
              "<ellipse fill=\"none\" stroke=\"#ff4500\" cx=\"177.6274\" cy=\"-132.1041\" rx=\"37.4533\" ry=\"12.0417\"/>\n",
              "<text text-anchor=\"middle\" x=\"177.6274\" y=\"-130.2041\" font-family=\"Times,serif\" font-size=\"8.00\" fill=\"#7b68ee\">pantalones</text>\n",
              "</g>\n",
              "<!-- 1&#45;&gt;3 -->\n",
              "<g id=\"edge1\" class=\"edge\">\n",
              "<title>1&#45;&gt;3</title>\n",
              "<path fill=\"none\" stroke=\"#c0c0c0\" d=\"M120.3169,-180.5691C130.4339,-172.0136 144.4093,-160.1952 156.0265,-150.3711\"/>\n",
              "<polygon fill=\"#c0c0c0\" stroke=\"#c0c0c0\" points=\"158.6042,-152.7749 163.9799,-143.6452 154.0841,-147.4299 158.6042,-152.7749\"/>\n",
              "</g>\n",
              "<!-- 5 -->\n",
              "<g id=\"node6\" class=\"node\">\n",
              "<title>5</title>\n",
              "<ellipse fill=\"none\" stroke=\"#ff4500\" cx=\"93.6274\" cy=\"-72.0624\" rx=\"29.8983\" ry=\"12.0417\"/>\n",
              "<text text-anchor=\"middle\" x=\"93.6274\" y=\"-70.1624\" font-family=\"Times,serif\" font-size=\"8.00\" fill=\"#7b68ee\">zapatos</text>\n",
              "</g>\n",
              "<!-- 1&#45;&gt;5 -->\n",
              "<g id=\"edge2\" class=\"edge\">\n",
              "<title>1&#45;&gt;5</title>\n",
              "<path fill=\"none\" stroke=\"#c0c0c0\" d=\"M88.8615,-181.1296C76.9986,-172.6515 62.3788,-159.7551 55.6274,-144.1249 47.4881,-125.2816 60.7891,-104.6439 73.8374,-90.302\"/>\n",
              "<polygon fill=\"#c0c0c0\" stroke=\"#c0c0c0\" points=\"76.4487,-92.6373 80.9226,-83.0334 71.4361,-87.7512 76.4487,-92.6373\"/>\n",
              "</g>\n",
              "<!-- 2 -->\n",
              "<g id=\"node3\" class=\"node\">\n",
              "<title>2</title>\n",
              "<ellipse fill=\"none\" stroke=\"#ff4500\" cx=\"93.6274\" cy=\"-132.1041\" rx=\"28.9828\" ry=\"12.0417\"/>\n",
              "<text text-anchor=\"middle\" x=\"93.6274\" y=\"-130.2041\" font-family=\"Times,serif\" font-size=\"8.00\" fill=\"#7b68ee\">medias</text>\n",
              "</g>\n",
              "<!-- 2&#45;&gt;5 -->\n",
              "<g id=\"edge3\" class=\"edge\">\n",
              "<title>2&#45;&gt;5</title>\n",
              "<path fill=\"none\" stroke=\"#c0c0c0\" d=\"M93.6274,-119.9538C93.6274,-112.6293 93.6274,-103.0735 93.6274,-94.4261\"/>\n",
              "<polygon fill=\"#c0c0c0\" stroke=\"#c0c0c0\" points=\"97.1275,-94.1947 93.6274,-84.1947 90.1275,-94.1947 97.1275,-94.1947\"/>\n",
              "</g>\n",
              "<!-- 3&#45;&gt;5 -->\n",
              "<g id=\"edge4\" class=\"edge\">\n",
              "<title>3&#45;&gt;5</title>\n",
              "<path fill=\"none\" stroke=\"#c0c0c0\" d=\"M162.2205,-121.0915C149.5123,-112.0079 131.2861,-98.9801 116.8152,-88.6367\"/>\n",
              "<polygon fill=\"#c0c0c0\" stroke=\"#c0c0c0\" points=\"118.544,-85.5702 108.3733,-82.6025 114.4734,-91.265 118.544,-85.5702\"/>\n",
              "</g>\n",
              "<!-- 6 -->\n",
              "<g id=\"node7\" class=\"node\">\n",
              "<title>6</title>\n",
              "<ellipse fill=\"none\" stroke=\"#ff4500\" cx=\"190.6274\" cy=\"-72.0624\" rx=\"26.7407\" ry=\"12.0417\"/>\n",
              "<text text-anchor=\"middle\" x=\"190.6274\" y=\"-70.1624\" font-family=\"Times,serif\" font-size=\"8.00\" fill=\"#7b68ee\">correa</text>\n",
              "</g>\n",
              "<!-- 3&#45;&gt;6 -->\n",
              "<g id=\"edge5\" class=\"edge\">\n",
              "<title>3&#45;&gt;6</title>\n",
              "<path fill=\"none\" stroke=\"#c0c0c0\" d=\"M180.2582,-119.9538C181.8616,-112.548 183.959,-102.8609 185.8477,-94.1382\"/>\n",
              "<polygon fill=\"#c0c0c0\" stroke=\"#c0c0c0\" points=\"189.3051,-94.7089 188.0006,-84.1947 182.4636,-93.2276 189.3051,-94.7089\"/>\n",
              "</g>\n",
              "<!-- 4 -->\n",
              "<g id=\"node5\" class=\"node\">\n",
              "<title>4</title>\n",
              "<ellipse fill=\"none\" stroke=\"#ff4500\" cx=\"265.6274\" cy=\"-132.1041\" rx=\"32.5538\" ry=\"12.0417\"/>\n",
              "<text text-anchor=\"middle\" x=\"265.6274\" y=\"-130.2041\" font-family=\"Times,serif\" font-size=\"8.00\" fill=\"#7b68ee\">camiseta</text>\n",
              "</g>\n",
              "<!-- 4&#45;&gt;6 -->\n",
              "<g id=\"edge6\" class=\"edge\">\n",
              "<title>4&#45;&gt;6</title>\n",
              "<path fill=\"none\" stroke=\"#c0c0c0\" d=\"M251.8713,-121.0915C240.6317,-112.0936 224.5578,-99.2256 211.6974,-88.9301\"/>\n",
              "<polygon fill=\"#c0c0c0\" stroke=\"#c0c0c0\" points=\"213.7873,-86.1198 203.7934,-82.6025 209.4126,-91.5844 213.7873,-86.1198\"/>\n",
              "</g>\n",
              "<!-- 7 -->\n",
              "<g id=\"node8\" class=\"node\">\n",
              "<title>7</title>\n",
              "<ellipse fill=\"none\" stroke=\"#ff4500\" cx=\"265.6274\" cy=\"-72.0624\" rx=\"29.8983\" ry=\"12.0417\"/>\n",
              "<text text-anchor=\"middle\" x=\"265.6274\" y=\"-70.1624\" font-family=\"Times,serif\" font-size=\"8.00\" fill=\"#7b68ee\">corbata</text>\n",
              "</g>\n",
              "<!-- 4&#45;&gt;7 -->\n",
              "<g id=\"edge7\" class=\"edge\">\n",
              "<title>4&#45;&gt;7</title>\n",
              "<path fill=\"none\" stroke=\"#c0c0c0\" d=\"M265.6274,-119.9538C265.6274,-112.6293 265.6274,-103.0735 265.6274,-94.4261\"/>\n",
              "<polygon fill=\"#c0c0c0\" stroke=\"#c0c0c0\" points=\"269.1275,-94.1947 265.6274,-84.1947 262.1275,-94.1947 269.1275,-94.1947\"/>\n",
              "</g>\n",
              "<!-- 8 -->\n",
              "<g id=\"node9\" class=\"node\">\n",
              "<title>8</title>\n",
              "<ellipse fill=\"none\" stroke=\"#ff4500\" cx=\"227.6274\" cy=\"-12.0208\" rx=\"33.4697\" ry=\"12.0417\"/>\n",
              "<text text-anchor=\"middle\" x=\"227.6274\" y=\"-10.1208\" font-family=\"Times,serif\" font-size=\"8.00\" fill=\"#7b68ee\">chaqueta</text>\n",
              "</g>\n",
              "<!-- 6&#45;&gt;8 -->\n",
              "<g id=\"edge8\" class=\"edge\">\n",
              "<title>6&#45;&gt;8</title>\n",
              "<path fill=\"none\" stroke=\"#c0c0c0\" d=\"M197.9374,-60.2002C202.8024,-52.3056 209.3211,-41.7274 215.0109,-32.4942\"/>\n",
              "<polygon fill=\"#c0c0c0\" stroke=\"#c0c0c0\" points=\"218.066,-34.208 220.3326,-23.8585 212.1066,-30.5356 218.066,-34.208\"/>\n",
              "</g>\n",
              "<!-- 7&#45;&gt;8 -->\n",
              "<g id=\"edge9\" class=\"edge\">\n",
              "<title>7&#45;&gt;8</title>\n",
              "<path fill=\"none\" stroke=\"#c0c0c0\" d=\"M258.1198,-60.2002C253.1234,-52.3056 246.4285,-41.7274 240.5849,-32.4942\"/>\n",
              "<polygon fill=\"#c0c0c0\" stroke=\"#c0c0c0\" points=\"243.4248,-30.4366 235.1194,-23.8585 237.5099,-34.1801 243.4248,-30.4366\"/>\n",
              "</g>\n",
              "</g>\n",
              "</svg>\n"
            ],
            "text/plain": [
              "<graphviz.dot.Digraph at 0x7f39cde1ee90>"
            ]
          },
          "execution_count": 18,
          "metadata": {},
          "output_type": "execute_result"
        }
      ],
      "source": [
        "show(G, directed=True, labels=labels, layout=\"dot\")"
      ]
    },
    {
      "cell_type": "code",
      "execution_count": 19,
      "metadata": {
        "id": "yipJZQ7SxEQ4"
      },
      "outputs": [],
      "source": [
        "#ORDENAMIENTO TOPOLOGICO\n",
        "def toposort(G):\n",
        "  n = len(G)\n",
        "  visited = [False]*n\n",
        "  ts = []\n",
        "\n",
        "  def dfs(u):\n",
        "    visited[u] = True\n",
        "    for v in G[u]:\n",
        "      if not visited[v]:\n",
        "        dfs(v)\n",
        "    ts.append(u)\n",
        "\n",
        "  for u in range(n):\n",
        "    if not visited[u]:\n",
        "      dfs(u)\n",
        "\n",
        "  return ts"
      ]
    },
    {
      "cell_type": "code",
      "execution_count": 20,
      "metadata": {
        "colab": {
          "base_uri": "https://localhost:8080/"
        },
        "id": "zmw4T_taxwJI",
        "outputId": "76f91eaf-9b39-4a23-a880-69416207bb63"
      },
      "outputs": [
        {
          "name": "stdout",
          "output_type": "stream",
          "text": [
            "['camiseta', 'corbata', 'medias', 'ropa_interior', 'pantalones', 'correa', 'chaqueta', 'zapatos', 'reloj']\n"
          ]
        }
      ],
      "source": [
        "ts = toposort(G)\n",
        "print([labels[u] for u in reversed(ts)])"
      ]
    },
    {
      "cell_type": "code",
      "execution_count": 21,
      "metadata": {
        "id": "JeLBgg5bx1zI"
      },
      "outputs": [],
      "source": [
        "def toposort1(G):\n",
        "  n = len(G)\n",
        "  gradoin = [0]*n\n",
        "  queue = []\n",
        "\n",
        "  for u in range(n):\n",
        "    for v in G[u]:\n",
        "      gradoin[v] += 1\n",
        "\n",
        "  for u, grado in enumerate(gradoin):\n",
        "    if grado == 0:\n",
        "      queue.append(u)\n",
        "\n",
        "  ts = []\n",
        "  while queue:\n",
        "    u = queue.pop()\n",
        "    ts.append(u)\n",
        "    for v in G[u]:\n",
        "      gradoin[v] -= 1\n",
        "      if gradoin[v] == 0:\n",
        "        queue.append(v)\n",
        "\n",
        "  return ts"
      ]
    },
    {
      "cell_type": "code",
      "execution_count": 22,
      "metadata": {
        "colab": {
          "base_uri": "https://localhost:8080/"
        },
        "id": "a8LkLOt4yQkZ",
        "outputId": "53cbbb52-7335-4f81-e96d-e0bb69d460e5"
      },
      "outputs": [
        {
          "name": "stdout",
          "output_type": "stream",
          "text": [
            "['camiseta', 'corbata', 'medias', 'ropa_interior', 'pantalones', 'correa', 'chaqueta', 'zapatos', 'reloj']\n"
          ]
        }
      ],
      "source": [
        "ts = toposort1(G)\n",
        "print([labels[u] for u in ts])"
      ]
    }
  ],
  "metadata": {
    "colab": {
      "collapsed_sections": [],
      "provenance": []
    },
    "kernelspec": {
      "display_name": "Python 3",
      "name": "python3"
    },
    "language_info": {
      "name": "python"
    }
  },
  "nbformat": 4,
  "nbformat_minor": 0
}
