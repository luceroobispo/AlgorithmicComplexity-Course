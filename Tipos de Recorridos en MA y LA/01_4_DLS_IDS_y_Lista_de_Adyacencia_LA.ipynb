{
  "nbformat": 4,
  "nbformat_minor": 0,
  "metadata": {
    "colab": {
      "name": "01_4_DLS_IDS_y_Lista_de_Adyacencia_LA.ipynb",
      "provenance": []
    },
    "kernelspec": {
      "name": "python3",
      "display_name": "Python 3"
    },
    "language_info": {
      "name": "python"
    }
  },
  "cells": [
    {
      "cell_type": "code",
      "source": [
        "import graphviz as gv"
      ],
      "metadata": {
        "id": "sm_P1JGqWDtz"
      },
      "execution_count": 1,
      "outputs": []
    },
    {
      "cell_type": "markdown",
      "source": [
        "# **Recorrido en Profundidad Limitada (DLS)**\n",
        "\n",
        "Mediante este tipo de recorrido logramos:\n",
        "\n",
        "*   Limitar la profundidad máxima de una ruta para la búsqueda por profundidad (DFS)\n",
        "*   Establecer un límite sin conocer mucho sobre el espacio de estados.\n",
        "*   Obtener un resultado que puede no ser completa ni óptima:\n",
        "> *   Un límite muy pequeño puede no contener la solución.\n",
        "> *   Un limite muy grande puede contener muchas soluciones no óptimas.\n",
        "\n",
        "\n",
        "\n",
        "\n",
        "\n",
        "\n"
      ],
      "metadata": {
        "id": "kJM9f8DSygZB"
      }
    },
    {
      "cell_type": "markdown",
      "source": [
        "### **Funcion DLS**"
      ],
      "metadata": {
        "id": "pYTnWC3szv0w"
      }
    },
    {
      "cell_type": "code",
      "execution_count": 2,
      "metadata": {
        "id": "x8XTM9sSU9xx"
      },
      "outputs": [],
      "source": [
        "def dls(G, s, L):\n",
        "  n = len(G)\n",
        "  visited = [False]*n\n",
        "  path = [-1]*n\n",
        "\n",
        "  def _dls(u, L):\n",
        "    if L > 0 and not visited[u]:\n",
        "      visited[u] = True\n",
        "      for v in G[u]:\n",
        "        if not visited[v]:\n",
        "          path[v] = u\n",
        "          _dls(v, L - 1)\n",
        "\n",
        "  _dls(s, L)\n",
        "  return path"
      ]
    },
    {
      "cell_type": "markdown",
      "source": [
        "Creamos una función para dibujar el grafo utilizando la libreria gv, indicando si ser un grafo dirigido o no. Si le pasamos una lista con una ruta, debera colorear dicha ruta (path)."
      ],
      "metadata": {
        "id": "mirJ7OeX0Ox4"
      }
    },
    {
      "cell_type": "code",
      "source": [
        "def drawG_al(G, directed=False, weighted=False, path=[], layout=\"sfdp\"):\n",
        "  graph = gv.Digraph(\"di-anyname\") if directed else gv.Graph(\"anyname\")\n",
        "  graph.graph_attr[\"layout\"] = layout\n",
        "  graph.edge_attr[\"color\"] = \"gray\"\n",
        "  graph.node_attr[\"color\"] = \"orangered\"\n",
        "  graph.node_attr[\"width\"] = \"0.1\"\n",
        "  graph.node_attr[\"height\"] = \"0.1\"\n",
        "  graph.node_attr[\"fontsize\"] = \"8\"\n",
        "  graph.node_attr[\"fontcolor\"] = \"mediumslateblue\"\n",
        "  graph.node_attr[\"fontname\"] = \"monospace\"\n",
        "  graph.edge_attr[\"fontsize\"] = \"8\"\n",
        "  graph.edge_attr[\"fontname\"] = \"monospace\"\n",
        "  n = len(G)\n",
        "  added = set()\n",
        "  for v, u in enumerate(path):\n",
        "    if u != -1:\n",
        "      if weighted:\n",
        "        for vi, w in G[u]:\n",
        "          if vi == v:\n",
        "            break\n",
        "        graph.edge(str(u), str(v), str(w), dir=\"forward\", penwidth=\"2\", color=\"orange\")\n",
        "      else:\n",
        "        graph.edge(str(u), str(v), dir=\"forward\", penwidth=\"2\", color=\"orange\")\n",
        "      added.add(f\"{u},{v}\")\n",
        "      added.add(f\"{v},{u}\")\n",
        "  for u in range(n):\n",
        "    for edge in G[u]:\n",
        "      if weighted:\n",
        "        v, w = edge\n",
        "      else:\n",
        "        v = edge\n",
        "      draw = False\n",
        "      if not directed and not f\"{u},{v}\" in added:\n",
        "        added.add(f\"{u},{v}\")\n",
        "        added.add(f\"{v},{u}\")\n",
        "        draw = True\n",
        "      elif directed and not f\"{u},{v}\" in added:\n",
        "        added.add(f\"{u},{v}\")\n",
        "        draw = True\n",
        "      if draw:\n",
        "        if weighted:\n",
        "          graph.edge(str(u), str(v), str(w))\n",
        "        else:\n",
        "          graph.edge(str(u), str(v))\n",
        "  return graph"
      ],
      "metadata": {
        "id": "SuedcxC1WJYE"
      },
      "execution_count": 3,
      "outputs": []
    },
    {
      "cell_type": "markdown",
      "source": [
        "Generamos una LA segun el siguiente texto:"
      ],
      "metadata": {
        "id": "YtSZaoaX01FI"
      }
    },
    {
      "cell_type": "code",
      "source": [
        "%%file 04a.la\n",
        "1 4\n",
        "-\n",
        "-\n",
        "2 6 17\n",
        "7\n",
        "2\n",
        "10\n",
        "0 8\n",
        "4\n",
        "8\n",
        "-\n",
        "8 14\n",
        "16\n",
        "9 17\n",
        "15\n",
        "11 17\n",
        "15 17\n",
        "13"
      ],
      "metadata": {
        "colab": {
          "base_uri": "https://localhost:8080/"
        },
        "id": "BQZk3PrZWMXQ",
        "outputId": "ad1aacc1-be52-43a1-ce29-926886cf8802"
      },
      "execution_count": 4,
      "outputs": [
        {
          "output_type": "stream",
          "name": "stdout",
          "text": [
            "Writing 04a.la\n"
          ]
        }
      ]
    },
    {
      "cell_type": "markdown",
      "source": [
        "Cargamos la LA generada desde el archivo 04a.la a un arreglo tipo numpy en la variable G"
      ],
      "metadata": {
        "id": "d59wXBec1Hrx"
      }
    },
    {
      "cell_type": "code",
      "source": [
        "with open(\"04a.la\") as f:\n",
        "  G = []\n",
        "  for line in f:\n",
        "    if line == \"-\\n\":\n",
        "      G.append([])\n",
        "    else:\n",
        "      G.append([int(x) for x in line.split()])\n",
        "\n",
        "for x in G:\n",
        "  print(x)"
      ],
      "metadata": {
        "colab": {
          "base_uri": "https://localhost:8080/"
        },
        "id": "UPPJJUSJWx5o",
        "outputId": "332295e2-4d8a-4fe5-a410-534ec26120b9"
      },
      "execution_count": 5,
      "outputs": [
        {
          "output_type": "stream",
          "name": "stdout",
          "text": [
            "[1, 4]\n",
            "[]\n",
            "[]\n",
            "[2, 6, 17]\n",
            "[7]\n",
            "[2]\n",
            "[10]\n",
            "[0, 8]\n",
            "[4]\n",
            "[8]\n",
            "[]\n",
            "[8, 14]\n",
            "[16]\n",
            "[9, 17]\n",
            "[15]\n",
            "[11, 17]\n",
            "[15, 17]\n",
            "[13]\n"
          ]
        }
      ]
    },
    {
      "cell_type": "markdown",
      "source": [
        "Visualizamos el grafo dirigido de la lista G"
      ],
      "metadata": {
        "id": "d4m5EbIW1UOZ"
      }
    },
    {
      "cell_type": "code",
      "source": [
        "drawG_al(G, directed=True, layout=\"neato\")"
      ],
      "metadata": {
        "colab": {
          "base_uri": "https://localhost:8080/",
          "height": 833
        },
        "id": "2y_esvwIXEj4",
        "outputId": "06a4f802-df51-4231-8233-c0865cfdf2e3"
      },
      "execution_count": 6,
      "outputs": [
        {
          "output_type": "execute_result",
          "data": {
            "text/plain": [
              "<graphviz.dot.Digraph at 0x7f861e388350>"
            ],
            "image/svg+xml": "<?xml version=\"1.0\" encoding=\"UTF-8\" standalone=\"no\"?>\n<!DOCTYPE svg PUBLIC \"-//W3C//DTD SVG 1.1//EN\"\n \"http://www.w3.org/Graphics/SVG/1.1/DTD/svg11.dtd\">\n<!-- Generated by graphviz version 2.40.1 (20161225.0304)\n -->\n<!-- Title: di&#45;anyname Pages: 1 -->\n<svg width=\"465pt\" height=\"609pt\"\n viewBox=\"0.00 0.00 465.32 608.56\" xmlns=\"http://www.w3.org/2000/svg\" xmlns:xlink=\"http://www.w3.org/1999/xlink\">\n<g id=\"graph0\" class=\"graph\" transform=\"scale(1 1) rotate(0) translate(4 604.5642)\">\n<title>di&#45;anyname</title>\n<polygon fill=\"#ffffff\" stroke=\"transparent\" points=\"-4,4 -4,-604.5642 461.3245,-604.5642 461.3245,4 -4,4\"/>\n<!-- 0 -->\n<g id=\"node1\" class=\"node\">\n<title>0</title>\n<ellipse fill=\"none\" stroke=\"#ff4500\" cx=\"400.4744\" cy=\"-73.9517\" rx=\"15.6129\" ry=\"12.0417\"/>\n<text text-anchor=\"middle\" x=\"400.4744\" y=\"-72.0517\" font-family=\"monospace\" font-size=\"8.00\" fill=\"#7b68ee\">0</text>\n</g>\n<!-- 1 -->\n<g id=\"node2\" class=\"node\">\n<title>1</title>\n<ellipse fill=\"none\" stroke=\"#ff4500\" cx=\"441.7682\" cy=\"-12.0208\" rx=\"15.6129\" ry=\"12.0417\"/>\n<text text-anchor=\"middle\" x=\"441.7682\" y=\"-10.1208\" font-family=\"monospace\" font-size=\"8.00\" fill=\"#7b68ee\">1</text>\n</g>\n<!-- 0&#45;&gt;1 -->\n<g id=\"edge1\" class=\"edge\">\n<title>0&#45;&gt;1</title>\n<path fill=\"none\" stroke=\"#c0c0c0\" d=\"M407.6672,-63.1642C413.4577,-54.4797 421.749,-42.0448 428.7059,-31.6111\"/>\n<polygon fill=\"#c0c0c0\" stroke=\"#c0c0c0\" points=\"431.7441,-33.3635 434.3797,-23.1017 425.92,-29.4802 431.7441,-33.3635\"/>\n</g>\n<!-- 4 -->\n<g id=\"node3\" class=\"node\">\n<title>4</title>\n<ellipse fill=\"none\" stroke=\"#ff4500\" cx=\"341.5569\" cy=\"-123.0151\" rx=\"15.6129\" ry=\"12.0417\"/>\n<text text-anchor=\"middle\" x=\"341.5569\" y=\"-121.1151\" font-family=\"monospace\" font-size=\"8.00\" fill=\"#7b68ee\">4</text>\n</g>\n<!-- 0&#45;&gt;4 -->\n<g id=\"edge2\" class=\"edge\">\n<title>0&#45;&gt;4</title>\n<path fill=\"none\" stroke=\"#c0c0c0\" d=\"M389.668,-82.9507C381.4459,-89.7976 369.9306,-99.387 360.2272,-107.4675\"/>\n<polygon fill=\"#c0c0c0\" stroke=\"#c0c0c0\" points=\"357.7395,-104.9844 352.2947,-114.0732 362.2189,-110.3635 357.7395,-104.9844\"/>\n</g>\n<!-- 7 -->\n<g id=\"node8\" class=\"node\">\n<title>7</title>\n<ellipse fill=\"none\" stroke=\"#ff4500\" cx=\"397.248\" cy=\"-150.4821\" rx=\"15.6129\" ry=\"12.0417\"/>\n<text text-anchor=\"middle\" x=\"397.248\" y=\"-148.5821\" font-family=\"monospace\" font-size=\"8.00\" fill=\"#7b68ee\">7</text>\n</g>\n<!-- 4&#45;&gt;7 -->\n<g id=\"edge6\" class=\"edge\">\n<title>4&#45;&gt;7</title>\n<path fill=\"none\" stroke=\"#c0c0c0\" d=\"M354.7549,-129.5244C360.6331,-132.4236 367.7287,-135.9232 374.4238,-139.2252\"/>\n<polygon fill=\"#c0c0c0\" stroke=\"#c0c0c0\" points=\"373.2411,-142.5444 383.7578,-143.8288 376.3375,-136.2664 373.2411,-142.5444\"/>\n</g>\n<!-- 3 -->\n<g id=\"node4\" class=\"node\">\n<title>3</title>\n<ellipse fill=\"none\" stroke=\"#ff4500\" cx=\"174.7431\" cy=\"-430.5939\" rx=\"15.6129\" ry=\"12.0417\"/>\n<text text-anchor=\"middle\" x=\"174.7431\" y=\"-428.6939\" font-family=\"monospace\" font-size=\"8.00\" fill=\"#7b68ee\">3</text>\n</g>\n<!-- 2 -->\n<g id=\"node5\" class=\"node\">\n<title>2</title>\n<ellipse fill=\"none\" stroke=\"#ff4500\" cx=\"92.8569\" cy=\"-417.0573\" rx=\"15.6129\" ry=\"12.0417\"/>\n<text text-anchor=\"middle\" x=\"92.8569\" y=\"-415.1573\" font-family=\"monospace\" font-size=\"8.00\" fill=\"#7b68ee\">2</text>\n</g>\n<!-- 3&#45;&gt;2 -->\n<g id=\"edge3\" class=\"edge\">\n<title>3&#45;&gt;2</title>\n<path fill=\"none\" stroke=\"#c0c0c0\" d=\"M159.3409,-428.0477C147.7891,-426.1381 131.7208,-423.4819 118.2748,-421.2591\"/>\n<polygon fill=\"#c0c0c0\" stroke=\"#c0c0c0\" points=\"118.627,-417.7699 108.19,-419.592 117.4852,-424.6762 118.627,-417.7699\"/>\n</g>\n<!-- 6 -->\n<g id=\"node6\" class=\"node\">\n<title>6</title>\n<ellipse fill=\"none\" stroke=\"#ff4500\" cx=\"166.6553\" cy=\"-513.036\" rx=\"15.6129\" ry=\"12.0417\"/>\n<text text-anchor=\"middle\" x=\"166.6553\" y=\"-511.136\" font-family=\"monospace\" font-size=\"8.00\" fill=\"#7b68ee\">6</text>\n</g>\n<!-- 3&#45;&gt;6 -->\n<g id=\"edge4\" class=\"edge\">\n<title>3&#45;&gt;6</title>\n<path fill=\"none\" stroke=\"#c0c0c0\" d=\"M173.5497,-442.7585C172.3192,-455.3012 170.3724,-475.1465 168.8608,-490.5543\"/>\n<polygon fill=\"#c0c0c0\" stroke=\"#c0c0c0\" points=\"165.3467,-490.5275 167.8536,-500.8215 172.3133,-491.211 165.3467,-490.5275\"/>\n</g>\n<!-- 17 -->\n<g id=\"node7\" class=\"node\">\n<title>17</title>\n<ellipse fill=\"none\" stroke=\"#ff4500\" cx=\"244.4873\" cy=\"-380.3718\" rx=\"19.1842\" ry=\"12.0417\"/>\n<text text-anchor=\"middle\" x=\"244.4873\" y=\"-378.4718\" font-family=\"monospace\" font-size=\"8.00\" fill=\"#7b68ee\">17</text>\n</g>\n<!-- 3&#45;&gt;17 -->\n<g id=\"edge5\" class=\"edge\">\n<title>3&#45;&gt;17</title>\n<path fill=\"none\" stroke=\"#c0c0c0\" d=\"M186.2599,-422.3007C196.3472,-415.037 211.2597,-404.2987 223.4676,-395.5079\"/>\n<polygon fill=\"#c0c0c0\" stroke=\"#c0c0c0\" points=\"225.7014,-398.2124 231.7712,-389.5285 221.6109,-392.5318 225.7014,-398.2124\"/>\n</g>\n<!-- 10 -->\n<g id=\"node10\" class=\"node\">\n<title>10</title>\n<ellipse fill=\"none\" stroke=\"#ff4500\" cx=\"150.7446\" cy=\"-588.5434\" rx=\"19.1842\" ry=\"12.0417\"/>\n<text text-anchor=\"middle\" x=\"150.7446\" y=\"-586.6434\" font-family=\"monospace\" font-size=\"8.00\" fill=\"#7b68ee\">10</text>\n</g>\n<!-- 6&#45;&gt;10 -->\n<g id=\"edge8\" class=\"edge\">\n<title>6&#45;&gt;10</title>\n<path fill=\"none\" stroke=\"#c0c0c0\" d=\"M164.099,-525.1676C161.77,-536.2201 158.2722,-552.8197 155.4405,-566.258\"/>\n<polygon fill=\"#c0c0c0\" stroke=\"#c0c0c0\" points=\"151.9846,-565.6843 153.3475,-576.1911 158.8342,-567.1277 151.9846,-565.6843\"/>\n</g>\n<!-- 13 -->\n<g id=\"node17\" class=\"node\">\n<title>13</title>\n<ellipse fill=\"none\" stroke=\"#ff4500\" cx=\"220.8614\" cy=\"-296.8921\" rx=\"19.1842\" ry=\"12.0417\"/>\n<text text-anchor=\"middle\" x=\"220.8614\" y=\"-294.9921\" font-family=\"monospace\" font-size=\"8.00\" fill=\"#7b68ee\">13</text>\n</g>\n<!-- 17&#45;&gt;13 -->\n<g id=\"edge23\" class=\"edge\">\n<title>17&#45;&gt;13</title>\n<path fill=\"none\" stroke=\"#c0c0c0\" d=\"M245.9511,-368.1699C244.4052,-354.8237 238.7533,-333.2579 232.917,-317.3284\"/>\n<polygon fill=\"#c0c0c0\" stroke=\"#c0c0c0\" points=\"236.0717,-315.792 229.0964,-307.8174 229.5762,-318.4014 236.0717,-315.792\"/>\n</g>\n<!-- 7&#45;&gt;0 -->\n<g id=\"edge9\" class=\"edge\">\n<title>7&#45;&gt;0</title>\n<path fill=\"none\" stroke=\"#c0c0c0\" d=\"M397.7663,-138.1862C398.2386,-126.984 398.9479,-110.1594 399.5221,-96.5391\"/>\n<polygon fill=\"#c0c0c0\" stroke=\"#c0c0c0\" points=\"403.0221,-96.6099 399.9465,-86.4714 396.0284,-96.315 403.0221,-96.6099\"/>\n</g>\n<!-- 8 -->\n<g id=\"node11\" class=\"node\">\n<title>8</title>\n<ellipse fill=\"none\" stroke=\"#ff4500\" cx=\"335.3891\" cy=\"-202.0457\" rx=\"15.6129\" ry=\"12.0417\"/>\n<text text-anchor=\"middle\" x=\"335.3891\" y=\"-200.1457\" font-family=\"monospace\" font-size=\"8.00\" fill=\"#7b68ee\">8</text>\n</g>\n<!-- 7&#45;&gt;8 -->\n<g id=\"edge10\" class=\"edge\">\n<title>7&#45;&gt;8</title>\n<path fill=\"none\" stroke=\"#c0c0c0\" d=\"M386.473,-159.4638C377.5141,-166.9316 364.5594,-177.7303 353.9378,-186.5841\"/>\n<polygon fill=\"#c0c0c0\" stroke=\"#c0c0c0\" points=\"351.4809,-184.0756 346.0406,-193.167 355.963,-189.4525 351.4809,-184.0756\"/>\n</g>\n<!-- 5 -->\n<g id=\"node9\" class=\"node\">\n<title>5</title>\n<ellipse fill=\"none\" stroke=\"#ff4500\" cx=\"15.5563\" cy=\"-418.0317\" rx=\"15.6129\" ry=\"12.0417\"/>\n<text text-anchor=\"middle\" x=\"15.5563\" y=\"-416.1317\" font-family=\"monospace\" font-size=\"8.00\" fill=\"#7b68ee\">5</text>\n</g>\n<!-- 5&#45;&gt;2 -->\n<g id=\"edge7\" class=\"edge\">\n<title>5&#45;&gt;2</title>\n<path fill=\"none\" stroke=\"#c0c0c0\" d=\"M31.1993,-417.8345C41.4673,-417.705 55.1415,-417.5327 67.0032,-417.3832\"/>\n<polygon fill=\"#c0c0c0\" stroke=\"#c0c0c0\" points=\"67.2822,-420.88 77.2372,-417.2542 67.1939,-413.8806 67.2822,-420.88\"/>\n</g>\n<!-- 8&#45;&gt;4 -->\n<g id=\"edge11\" class=\"edge\">\n<title>8&#45;&gt;4</title>\n<path fill=\"none\" stroke=\"#c0c0c0\" d=\"M336.3259,-190.0427C337.2497,-178.2058 338.6837,-159.8301 339.8169,-145.3106\"/>\n<polygon fill=\"#c0c0c0\" stroke=\"#c0c0c0\" points=\"343.3226,-145.3732 340.6113,-135.1311 336.3438,-144.8285 343.3226,-145.3732\"/>\n</g>\n<!-- 9 -->\n<g id=\"node12\" class=\"node\">\n<title>9</title>\n<ellipse fill=\"none\" stroke=\"#ff4500\" cx=\"252.5526\" cy=\"-220.4409\" rx=\"15.6129\" ry=\"12.0417\"/>\n<text text-anchor=\"middle\" x=\"252.5526\" y=\"-218.5409\" font-family=\"monospace\" font-size=\"8.00\" fill=\"#7b68ee\">9</text>\n</g>\n<!-- 9&#45;&gt;8 -->\n<g id=\"edge12\" class=\"edge\">\n<title>9&#45;&gt;8</title>\n<path fill=\"none\" stroke=\"#c0c0c0\" d=\"M267.7461,-217.067C279.6565,-214.4221 296.4819,-210.6857 310.3722,-207.6012\"/>\n<polygon fill=\"#c0c0c0\" stroke=\"#c0c0c0\" points=\"311.2885,-210.983 320.2919,-205.3983 309.771,-204.1495 311.2885,-210.983\"/>\n</g>\n<!-- 11 -->\n<g id=\"node13\" class=\"node\">\n<title>11</title>\n<ellipse fill=\"none\" stroke=\"#ff4500\" cx=\"357.0294\" cy=\"-281.195\" rx=\"19.1842\" ry=\"12.0417\"/>\n<text text-anchor=\"middle\" x=\"357.0294\" y=\"-279.295\" font-family=\"monospace\" font-size=\"8.00\" fill=\"#7b68ee\">11</text>\n</g>\n<!-- 11&#45;&gt;8 -->\n<g id=\"edge13\" class=\"edge\">\n<title>11&#45;&gt;8</title>\n<path fill=\"none\" stroke=\"#c0c0c0\" d=\"M353.7427,-269.174C350.4507,-257.1334 345.3117,-238.3375 341.3079,-223.6937\"/>\n<polygon fill=\"#c0c0c0\" stroke=\"#c0c0c0\" points=\"344.6493,-222.6435 338.6358,-213.9206 337.8971,-224.4897 344.6493,-222.6435\"/>\n</g>\n<!-- 14 -->\n<g id=\"node14\" class=\"node\">\n<title>14</title>\n<ellipse fill=\"none\" stroke=\"#ff4500\" cx=\"396.5539\" cy=\"-338.5039\" rx=\"19.1842\" ry=\"12.0417\"/>\n<text text-anchor=\"middle\" x=\"396.5539\" y=\"-336.6039\" font-family=\"monospace\" font-size=\"8.00\" fill=\"#7b68ee\">14</text>\n</g>\n<!-- 11&#45;&gt;14 -->\n<g id=\"edge14\" class=\"edge\">\n<title>11&#45;&gt;14</title>\n<path fill=\"none\" stroke=\"#c0c0c0\" d=\"M364.6501,-292.2448C369.832,-299.7582 376.8323,-309.9083 382.9553,-318.7864\"/>\n<polygon fill=\"#c0c0c0\" stroke=\"#c0c0c0\" points=\"380.1274,-320.8509 388.6861,-327.0958 385.8898,-316.8766 380.1274,-320.8509\"/>\n</g>\n<!-- 15 -->\n<g id=\"node18\" class=\"node\">\n<title>15</title>\n<ellipse fill=\"none\" stroke=\"#ff4500\" cx=\"321.4865\" cy=\"-353.7519\" rx=\"19.1842\" ry=\"12.0417\"/>\n<text text-anchor=\"middle\" x=\"321.4865\" y=\"-351.8519\" font-family=\"monospace\" font-size=\"8.00\" fill=\"#7b68ee\">15</text>\n</g>\n<!-- 14&#45;&gt;15 -->\n<g id=\"edge18\" class=\"edge\">\n<title>14&#45;&gt;15</title>\n<path fill=\"none\" stroke=\"#c0c0c0\" d=\"M378.3822,-342.195C369.7785,-343.9426 359.3056,-346.0699 349.7017,-348.0207\"/>\n<polygon fill=\"#c0c0c0\" stroke=\"#c0c0c0\" points=\"348.8542,-344.6213 339.7511,-350.042 350.2477,-351.4812 348.8542,-344.6213\"/>\n</g>\n<!-- 12 -->\n<g id=\"node15\" class=\"node\">\n<title>12</title>\n<ellipse fill=\"none\" stroke=\"#ff4500\" cx=\"367.5054\" cy=\"-482.6389\" rx=\"19.1842\" ry=\"12.0417\"/>\n<text text-anchor=\"middle\" x=\"367.5054\" y=\"-480.7389\" font-family=\"monospace\" font-size=\"8.00\" fill=\"#7b68ee\">12</text>\n</g>\n<!-- 16 -->\n<g id=\"node16\" class=\"node\">\n<title>16</title>\n<ellipse fill=\"none\" stroke=\"#ff4500\" cx=\"312.8693\" cy=\"-422.6728\" rx=\"19.1842\" ry=\"12.0417\"/>\n<text text-anchor=\"middle\" x=\"312.8693\" y=\"-420.7728\" font-family=\"monospace\" font-size=\"8.00\" fill=\"#7b68ee\">16</text>\n</g>\n<!-- 12&#45;&gt;16 -->\n<g id=\"edge15\" class=\"edge\">\n<title>12&#45;&gt;16</title>\n<path fill=\"none\" stroke=\"#c0c0c0\" d=\"M357.9885,-472.1936C350.1722,-463.6148 338.9122,-451.2563 329.5964,-441.0317\"/>\n<polygon fill=\"#c0c0c0\" stroke=\"#c0c0c0\" points=\"331.9671,-438.4369 322.645,-433.4022 326.7928,-443.1514 331.9671,-438.4369\"/>\n</g>\n<!-- 16&#45;&gt;17 -->\n<g id=\"edge22\" class=\"edge\">\n<title>16&#45;&gt;17</title>\n<path fill=\"none\" stroke=\"#c0c0c0\" d=\"M299.0312,-414.1125C289.8551,-408.4363 277.6041,-400.8578 267.0375,-394.3213\"/>\n<polygon fill=\"#c0c0c0\" stroke=\"#c0c0c0\" points=\"268.6505,-391.2036 258.3049,-388.9193 264.968,-397.1567 268.6505,-391.2036\"/>\n</g>\n<!-- 16&#45;&gt;15 -->\n<g id=\"edge21\" class=\"edge\">\n<title>16&#45;&gt;15</title>\n<path fill=\"none\" stroke=\"#c0c0c0\" d=\"M314.3703,-410.6677C315.5542,-401.1983 317.2392,-387.7221 318.6723,-376.2597\"/>\n<polygon fill=\"#c0c0c0\" stroke=\"#c0c0c0\" points=\"322.1769,-376.4405 319.9447,-366.0835 315.231,-375.572 322.1769,-376.4405\"/>\n</g>\n<!-- 13&#45;&gt;17 -->\n<g id=\"edge17\" class=\"edge\">\n<title>13&#45;&gt;17</title>\n<path fill=\"none\" stroke=\"#c0c0c0\" d=\"M219.3976,-309.094C220.9436,-322.4402 226.5954,-344.006 232.4318,-359.9355\"/>\n<polygon fill=\"#c0c0c0\" stroke=\"#c0c0c0\" points=\"229.277,-361.4719 236.2524,-369.4465 235.7725,-358.8625 229.277,-361.4719\"/>\n</g>\n<!-- 13&#45;&gt;9 -->\n<g id=\"edge16\" class=\"edge\">\n<title>13&#45;&gt;9</title>\n<path fill=\"none\" stroke=\"#c0c0c0\" d=\"M225.8132,-284.9466C230.6321,-273.3216 238.0563,-255.4116 243.8601,-241.4105\"/>\n<polygon fill=\"#c0c0c0\" stroke=\"#c0c0c0\" points=\"247.1433,-242.6303 247.7394,-232.0522 240.6768,-239.9497 247.1433,-242.6303\"/>\n</g>\n<!-- 15&#45;&gt;17 -->\n<g id=\"edge20\" class=\"edge\">\n<title>15&#45;&gt;17</title>\n<path fill=\"none\" stroke=\"#c0c0c0\" d=\"M304.3979,-359.6597C294.5606,-363.0607 281.9887,-367.4069 270.904,-371.2391\"/>\n<polygon fill=\"#c0c0c0\" stroke=\"#c0c0c0\" points=\"269.5708,-367.9967 261.2633,-374.5721 271.858,-374.6125 269.5708,-367.9967\"/>\n</g>\n<!-- 15&#45;&gt;11 -->\n<g id=\"edge19\" class=\"edge\">\n<title>15&#45;&gt;11</title>\n<path fill=\"none\" stroke=\"#c0c0c0\" d=\"M327.1971,-342.0944C332.4512,-331.3687 340.3685,-315.2064 346.7266,-302.227\"/>\n<polygon fill=\"#c0c0c0\" stroke=\"#c0c0c0\" points=\"349.9588,-303.5848 351.2149,-293.0647 343.6726,-300.5053 349.9588,-303.5848\"/>\n</g>\n</g>\n</svg>\n"
          },
          "metadata": {},
          "execution_count": 6
        }
      ]
    },
    {
      "cell_type": "markdown",
      "source": [
        "Hacemos una busqueda en profundidad limitada (DLS) del grafo dirigido G partiendo del nodo 12 y 2 niveles de profundidad."
      ],
      "metadata": {
        "id": "e7ers0vp1g_Y"
      }
    },
    {
      "cell_type": "code",
      "source": [
        "path = dls(G, 12, 2)\n",
        "drawG_al(G, directed=True, path=path, layout=\"neato\")"
      ],
      "metadata": {
        "colab": {
          "base_uri": "https://localhost:8080/",
          "height": 883
        },
        "id": "7szXpOACXI3N",
        "outputId": "632a1e85-0627-476c-a322-c84652e559cc"
      },
      "execution_count": 7,
      "outputs": [
        {
          "output_type": "execute_result",
          "data": {
            "text/plain": [
              "<graphviz.dot.Digraph at 0x7f861e3885d0>"
            ],
            "image/svg+xml": "<?xml version=\"1.0\" encoding=\"UTF-8\" standalone=\"no\"?>\n<!DOCTYPE svg PUBLIC \"-//W3C//DTD SVG 1.1//EN\"\n \"http://www.w3.org/Graphics/SVG/1.1/DTD/svg11.dtd\">\n<!-- Generated by graphviz version 2.40.1 (20161225.0304)\n -->\n<!-- Title: di&#45;anyname Pages: 1 -->\n<svg width=\"411pt\" height=\"646pt\"\n viewBox=\"0.00 0.00 410.95 645.57\" xmlns=\"http://www.w3.org/2000/svg\" xmlns:xlink=\"http://www.w3.org/1999/xlink\">\n<g id=\"graph0\" class=\"graph\" transform=\"scale(1 1) rotate(0) translate(4 641.5652)\">\n<title>di&#45;anyname</title>\n<polygon fill=\"#ffffff\" stroke=\"transparent\" points=\"-4,4 -4,-641.5652 406.9515,-641.5652 406.9515,4 -4,4\"/>\n<!-- 16 -->\n<g id=\"node1\" class=\"node\">\n<title>16</title>\n<ellipse fill=\"none\" stroke=\"#ff4500\" cx=\"89.1665\" cy=\"-200.3751\" rx=\"19.1842\" ry=\"12.0417\"/>\n<text text-anchor=\"middle\" x=\"89.1665\" y=\"-198.4751\" font-family=\"monospace\" font-size=\"8.00\" fill=\"#7b68ee\">16</text>\n</g>\n<!-- 15 -->\n<g id=\"node2\" class=\"node\">\n<title>15</title>\n<ellipse fill=\"none\" stroke=\"#ff4500\" cx=\"91.1054\" cy=\"-269.8588\" rx=\"19.1842\" ry=\"12.0417\"/>\n<text text-anchor=\"middle\" x=\"91.1054\" y=\"-267.9588\" font-family=\"monospace\" font-size=\"8.00\" fill=\"#7b68ee\">15</text>\n</g>\n<!-- 16&#45;&gt;15 -->\n<g id=\"edge1\" class=\"edge\">\n<title>16&#45;&gt;15</title>\n<path fill=\"none\" stroke=\"#ffa500\" stroke-width=\"2\" d=\"M89.5043,-212.4782C89.7707,-222.025 90.1498,-235.6112 90.4722,-247.1672\"/>\n<polygon fill=\"#ffa500\" stroke=\"#ffa500\" stroke-width=\"2\" points=\"86.9809,-247.528 90.7585,-257.4265 93.9781,-247.3327 86.9809,-247.528\"/>\n</g>\n<!-- 17 -->\n<g id=\"node4\" class=\"node\">\n<title>17</title>\n<ellipse fill=\"none\" stroke=\"#ff4500\" cx=\"163.1569\" cy=\"-231.9756\" rx=\"19.1842\" ry=\"12.0417\"/>\n<text text-anchor=\"middle\" x=\"163.1569\" y=\"-230.0756\" font-family=\"monospace\" font-size=\"8.00\" fill=\"#7b68ee\">17</text>\n</g>\n<!-- 16&#45;&gt;17 -->\n<g id=\"edge3\" class=\"edge\">\n<title>16&#45;&gt;17</title>\n<path fill=\"none\" stroke=\"#ffa500\" stroke-width=\"2\" d=\"M105.2213,-207.232C114.7232,-211.2901 126.9732,-216.5219 137.7597,-221.1288\"/>\n<polygon fill=\"#ffa500\" stroke=\"#ffa500\" stroke-width=\"2\" points=\"136.5623,-224.4232 147.1334,-225.1322 139.3117,-217.9857 136.5623,-224.4232\"/>\n</g>\n<!-- 15&#45;&gt;17 -->\n<g id=\"edge22\" class=\"edge\">\n<title>15&#45;&gt;17</title>\n<path fill=\"none\" stroke=\"#c0c0c0\" d=\"M106.0345,-262.0094C115.5987,-256.9807 128.2258,-250.3416 139.1755,-244.5846\"/>\n<polygon fill=\"#c0c0c0\" stroke=\"#c0c0c0\" points=\"141.0246,-247.5667 148.2469,-239.815 137.7669,-241.3709 141.0246,-247.5667\"/>\n</g>\n<!-- 11 -->\n<g id=\"node16\" class=\"node\">\n<title>11</title>\n<ellipse fill=\"none\" stroke=\"#ff4500\" cx=\"66.6857\" cy=\"-346.8147\" rx=\"19.1842\" ry=\"12.0417\"/>\n<text text-anchor=\"middle\" x=\"66.6857\" y=\"-344.9147\" font-family=\"monospace\" font-size=\"8.00\" fill=\"#7b68ee\">11</text>\n</g>\n<!-- 15&#45;&gt;11 -->\n<g id=\"edge21\" class=\"edge\">\n<title>15&#45;&gt;11</title>\n<path fill=\"none\" stroke=\"#c0c0c0\" d=\"M87.2899,-281.8831C83.6341,-293.4039 78.0324,-311.057 73.5921,-325.0499\"/>\n<polygon fill=\"#c0c0c0\" stroke=\"#c0c0c0\" points=\"70.1631,-324.2845 70.4745,-334.8747 76.8352,-326.4017 70.1631,-324.2845\"/>\n</g>\n<!-- 12 -->\n<g id=\"node3\" class=\"node\">\n<title>12</title>\n<ellipse fill=\"none\" stroke=\"#ff4500\" cx=\"25.8494\" cy=\"-149.5676\" rx=\"19.1842\" ry=\"12.0417\"/>\n<text text-anchor=\"middle\" x=\"25.8494\" y=\"-147.6676\" font-family=\"monospace\" font-size=\"8.00\" fill=\"#7b68ee\">12</text>\n</g>\n<!-- 12&#45;&gt;16 -->\n<g id=\"edge2\" class=\"edge\">\n<title>12&#45;&gt;16</title>\n<path fill=\"none\" stroke=\"#ffa500\" stroke-width=\"2\" d=\"M37.7589,-159.1241C46.6027,-166.2207 58.87,-176.0643 69.2031,-184.3559\"/>\n<polygon fill=\"#ffa500\" stroke=\"#ffa500\" stroke-width=\"2\" points=\"67.3205,-187.3327 77.3105,-190.8615 71.7015,-181.8731 67.3205,-187.3327\"/>\n</g>\n<!-- 13 -->\n<g id=\"node18\" class=\"node\">\n<title>13</title>\n<ellipse fill=\"none\" stroke=\"#ff4500\" cx=\"198.9135\" cy=\"-311.0909\" rx=\"19.1842\" ry=\"12.0417\"/>\n<text text-anchor=\"middle\" x=\"198.9135\" y=\"-309.1909\" font-family=\"monospace\" font-size=\"8.00\" fill=\"#7b68ee\">13</text>\n</g>\n<!-- 17&#45;&gt;13 -->\n<g id=\"edge23\" class=\"edge\">\n<title>17&#45;&gt;13</title>\n<path fill=\"none\" stroke=\"#c0c0c0\" d=\"M163.52,-244.2671C166.97,-257.0244 175.5223,-277.054 183.5403,-291.8843\"/>\n<polygon fill=\"#c0c0c0\" stroke=\"#c0c0c0\" points=\"180.6339,-293.8497 188.6732,-300.7504 186.6919,-290.3424 180.6339,-293.8497\"/>\n</g>\n<!-- 0 -->\n<g id=\"node5\" class=\"node\">\n<title>0</title>\n<ellipse fill=\"none\" stroke=\"#ff4500\" cx=\"52.8884\" cy=\"-557.7669\" rx=\"15.6129\" ry=\"12.0417\"/>\n<text text-anchor=\"middle\" x=\"52.8884\" y=\"-555.8669\" font-family=\"monospace\" font-size=\"8.00\" fill=\"#7b68ee\">0</text>\n</g>\n<!-- 1 -->\n<g id=\"node6\" class=\"node\">\n<title>1</title>\n<ellipse fill=\"none\" stroke=\"#ff4500\" cx=\"22.2606\" cy=\"-625.5444\" rx=\"15.6129\" ry=\"12.0417\"/>\n<text text-anchor=\"middle\" x=\"22.2606\" y=\"-623.6444\" font-family=\"monospace\" font-size=\"8.00\" fill=\"#7b68ee\">1</text>\n</g>\n<!-- 0&#45;&gt;1 -->\n<g id=\"edge4\" class=\"edge\">\n<title>0&#45;&gt;1</title>\n<path fill=\"none\" stroke=\"#c0c0c0\" d=\"M47.6928,-569.2644C43.3631,-578.8457 37.0803,-592.7492 31.8428,-604.3395\"/>\n<polygon fill=\"#c0c0c0\" stroke=\"#c0c0c0\" points=\"28.5132,-603.2086 27.5846,-613.7627 34.8921,-606.0912 28.5132,-603.2086\"/>\n</g>\n<!-- 4 -->\n<g id=\"node7\" class=\"node\">\n<title>4</title>\n<ellipse fill=\"none\" stroke=\"#ff4500\" cx=\"45.7823\" cy=\"-481.6847\" rx=\"15.6129\" ry=\"12.0417\"/>\n<text text-anchor=\"middle\" x=\"45.7823\" y=\"-479.7847\" font-family=\"monospace\" font-size=\"8.00\" fill=\"#7b68ee\">4</text>\n</g>\n<!-- 0&#45;&gt;4 -->\n<g id=\"edge5\" class=\"edge\">\n<title>0&#45;&gt;4</title>\n<path fill=\"none\" stroke=\"#c0c0c0\" d=\"M51.7467,-545.543C50.7065,-534.4063 49.1443,-517.6804 47.8796,-504.1398\"/>\n<polygon fill=\"#c0c0c0\" stroke=\"#c0c0c0\" points=\"51.3597,-503.7622 46.9448,-494.1311 44.39,-504.4132 51.3597,-503.7622\"/>\n</g>\n<!-- 7 -->\n<g id=\"node11\" class=\"node\">\n<title>7</title>\n<ellipse fill=\"none\" stroke=\"#ff4500\" cx=\"104.7343\" cy=\"-501.0778\" rx=\"15.6129\" ry=\"12.0417\"/>\n<text text-anchor=\"middle\" x=\"104.7343\" y=\"-499.1778\" font-family=\"monospace\" font-size=\"8.00\" fill=\"#7b68ee\">7</text>\n</g>\n<!-- 4&#45;&gt;7 -->\n<g id=\"edge9\" class=\"edge\">\n<title>4&#45;&gt;7</title>\n<path fill=\"none\" stroke=\"#c0c0c0\" d=\"M60.3547,-486.4785C66.4942,-488.4982 73.8043,-490.903 80.7023,-493.1722\"/>\n<polygon fill=\"#c0c0c0\" stroke=\"#c0c0c0\" points=\"79.7365,-496.5389 90.3295,-496.3391 81.924,-489.8895 79.7365,-496.5389\"/>\n</g>\n<!-- 3 -->\n<g id=\"node8\" class=\"node\">\n<title>3</title>\n<ellipse fill=\"none\" stroke=\"#ff4500\" cx=\"224.4771\" cy=\"-171.7822\" rx=\"15.6129\" ry=\"12.0417\"/>\n<text text-anchor=\"middle\" x=\"224.4771\" y=\"-169.8822\" font-family=\"monospace\" font-size=\"8.00\" fill=\"#7b68ee\">3</text>\n</g>\n<!-- 3&#45;&gt;17 -->\n<g id=\"edge8\" class=\"edge\">\n<title>3&#45;&gt;17</title>\n<path fill=\"none\" stroke=\"#c0c0c0\" d=\"M214.625,-181.4533C205.5804,-190.3317 191.9616,-203.7002 181.0047,-214.4558\"/>\n<polygon fill=\"#c0c0c0\" stroke=\"#c0c0c0\" points=\"178.2848,-212.2212 173.6003,-221.7242 183.1884,-217.2167 178.2848,-212.2212\"/>\n</g>\n<!-- 2 -->\n<g id=\"node9\" class=\"node\">\n<title>2</title>\n<ellipse fill=\"none\" stroke=\"#ff4500\" cx=\"220.0487\" cy=\"-89.0761\" rx=\"15.6129\" ry=\"12.0417\"/>\n<text text-anchor=\"middle\" x=\"220.0487\" y=\"-87.1761\" font-family=\"monospace\" font-size=\"8.00\" fill=\"#7b68ee\">2</text>\n</g>\n<!-- 3&#45;&gt;2 -->\n<g id=\"edge6\" class=\"edge\">\n<title>3&#45;&gt;2</title>\n<path fill=\"none\" stroke=\"#c0c0c0\" d=\"M223.8237,-159.5786C223.15,-146.9957 222.0839,-127.0869 221.2563,-111.6297\"/>\n<polygon fill=\"#c0c0c0\" stroke=\"#c0c0c0\" points=\"224.7345,-111.1282 220.7048,-101.3297 217.7446,-111.5026 224.7345,-111.1282\"/>\n</g>\n<!-- 6 -->\n<g id=\"node10\" class=\"node\">\n<title>6</title>\n<ellipse fill=\"none\" stroke=\"#ff4500\" cx=\"307.4658\" cy=\"-172.9894\" rx=\"15.6129\" ry=\"12.0417\"/>\n<text text-anchor=\"middle\" x=\"307.4658\" y=\"-171.0894\" font-family=\"monospace\" font-size=\"8.00\" fill=\"#7b68ee\">6</text>\n</g>\n<!-- 3&#45;&gt;6 -->\n<g id=\"edge7\" class=\"edge\">\n<title>3&#45;&gt;6</title>\n<path fill=\"none\" stroke=\"#c0c0c0\" d=\"M240.0867,-172.0092C251.7199,-172.1785 267.8727,-172.4134 281.4466,-172.6109\"/>\n<polygon fill=\"#c0c0c0\" stroke=\"#c0c0c0\" points=\"281.5942,-176.1133 291.6441,-172.7592 281.6961,-169.1141 281.5942,-176.1133\"/>\n</g>\n<!-- 10 -->\n<g id=\"node13\" class=\"node\">\n<title>10</title>\n<ellipse fill=\"none\" stroke=\"#ff4500\" cx=\"383.8596\" cy=\"-161.1247\" rx=\"19.1842\" ry=\"12.0417\"/>\n<text text-anchor=\"middle\" x=\"383.8596\" y=\"-159.2247\" font-family=\"monospace\" font-size=\"8.00\" fill=\"#7b68ee\">10</text>\n</g>\n<!-- 6&#45;&gt;10 -->\n<g id=\"edge11\" class=\"edge\">\n<title>6&#45;&gt;10</title>\n<path fill=\"none\" stroke=\"#c0c0c0\" d=\"M322.9252,-170.5884C332.1763,-169.1516 344.2251,-167.2803 355.1638,-165.5814\"/>\n<polygon fill=\"#c0c0c0\" stroke=\"#c0c0c0\" points=\"355.8394,-169.0186 365.1838,-164.0252 354.7651,-162.1015 355.8394,-169.0186\"/>\n</g>\n<!-- 7&#45;&gt;0 -->\n<g id=\"edge12\" class=\"edge\">\n<title>7&#45;&gt;0</title>\n<path fill=\"none\" stroke=\"#c0c0c0\" d=\"M95.7034,-510.9523C88.3597,-518.982 77.8125,-530.5144 69.0243,-540.1236\"/>\n<polygon fill=\"#c0c0c0\" stroke=\"#c0c0c0\" points=\"66.331,-537.8825 62.1649,-547.6238 71.4965,-542.6067 66.331,-537.8825\"/>\n</g>\n<!-- 8 -->\n<g id=\"node14\" class=\"node\">\n<title>8</title>\n<ellipse fill=\"none\" stroke=\"#ff4500\" cx=\"99.778\" cy=\"-421.9402\" rx=\"15.6129\" ry=\"12.0417\"/>\n<text text-anchor=\"middle\" x=\"99.778\" y=\"-420.0402\" font-family=\"monospace\" font-size=\"8.00\" fill=\"#7b68ee\">8</text>\n</g>\n<!-- 7&#45;&gt;8 -->\n<g id=\"edge13\" class=\"edge\">\n<title>7&#45;&gt;8</title>\n<path fill=\"none\" stroke=\"#c0c0c0\" d=\"M103.9815,-489.0585C103.2392,-477.2055 102.0868,-458.805 101.1762,-444.2658\"/>\n<polygon fill=\"#c0c0c0\" stroke=\"#c0c0c0\" points=\"104.6562,-443.8343 100.5378,-434.0726 97.6698,-444.2719 104.6562,-443.8343\"/>\n</g>\n<!-- 5 -->\n<g id=\"node12\" class=\"node\">\n<title>5</title>\n<ellipse fill=\"none\" stroke=\"#ff4500\" cx=\"224.2389\" cy=\"-12.0208\" rx=\"15.6129\" ry=\"12.0417\"/>\n<text text-anchor=\"middle\" x=\"224.2389\" y=\"-10.1208\" font-family=\"monospace\" font-size=\"8.00\" fill=\"#7b68ee\">5</text>\n</g>\n<!-- 5&#45;&gt;2 -->\n<g id=\"edge10\" class=\"edge\">\n<title>5&#45;&gt;2</title>\n<path fill=\"none\" stroke=\"#c0c0c0\" d=\"M223.5842,-24.0607C222.9666,-35.4164 222.0256,-52.7224 221.2695,-66.6251\"/>\n<polygon fill=\"#c0c0c0\" stroke=\"#c0c0c0\" points=\"217.7609,-66.6911 220.7126,-76.8664 224.7505,-67.0713 217.7609,-66.6911\"/>\n</g>\n<!-- 8&#45;&gt;4 -->\n<g id=\"edge14\" class=\"edge\">\n<title>8&#45;&gt;4</title>\n<path fill=\"none\" stroke=\"#c0c0c0\" d=\"M90.8617,-431.8058C82.9371,-440.5741 71.1658,-453.5987 61.6391,-464.1397\"/>\n<polygon fill=\"#c0c0c0\" stroke=\"#c0c0c0\" points=\"59.0008,-461.839 54.8923,-471.6048 64.1941,-466.5326 59.0008,-461.839\"/>\n</g>\n<!-- 9 -->\n<g id=\"node15\" class=\"node\">\n<title>9</title>\n<ellipse fill=\"none\" stroke=\"#ff4500\" cx=\"178.9134\" cy=\"-391.4592\" rx=\"15.6129\" ry=\"12.0417\"/>\n<text text-anchor=\"middle\" x=\"178.9134\" y=\"-389.5592\" font-family=\"monospace\" font-size=\"8.00\" fill=\"#7b68ee\">9</text>\n</g>\n<!-- 9&#45;&gt;8 -->\n<g id=\"edge15\" class=\"edge\">\n<title>9&#45;&gt;8</title>\n<path fill=\"none\" stroke=\"#c0c0c0\" d=\"M164.7656,-396.9086C153.2873,-401.3298 136.8596,-407.6573 123.3931,-412.8443\"/>\n<polygon fill=\"#c0c0c0\" stroke=\"#c0c0c0\" points=\"121.877,-409.6775 113.8034,-416.538 124.3931,-416.2097 121.877,-409.6775\"/>\n</g>\n<!-- 11&#45;&gt;8 -->\n<g id=\"edge16\" class=\"edge\">\n<title>11&#45;&gt;8</title>\n<path fill=\"none\" stroke=\"#c0c0c0\" d=\"M71.8564,-358.553C76.8883,-369.9764 84.6408,-387.5759 90.7012,-401.3342\"/>\n<polygon fill=\"#c0c0c0\" stroke=\"#c0c0c0\" points=\"87.5178,-402.7897 94.752,-410.5302 93.9238,-399.9678 87.5178,-402.7897\"/>\n</g>\n<!-- 14 -->\n<g id=\"node17\" class=\"node\">\n<title>14</title>\n<ellipse fill=\"none\" stroke=\"#ff4500\" cx=\"19.0919\" cy=\"-295.9984\" rx=\"19.1842\" ry=\"12.0417\"/>\n<text text-anchor=\"middle\" x=\"19.0919\" y=\"-294.0984\" font-family=\"monospace\" font-size=\"8.00\" fill=\"#7b68ee\">14</text>\n</g>\n<!-- 11&#45;&gt;14 -->\n<g id=\"edge17\" class=\"edge\">\n<title>11&#45;&gt;14</title>\n<path fill=\"none\" stroke=\"#c0c0c0\" d=\"M56.5923,-336.0378C50.5807,-329.6192 42.7992,-321.3109 35.8841,-313.9276\"/>\n<polygon fill=\"#c0c0c0\" stroke=\"#c0c0c0\" points=\"38.2357,-311.3183 28.8452,-306.4121 33.1266,-316.1034 38.2357,-311.3183\"/>\n</g>\n<!-- 14&#45;&gt;15 -->\n<g id=\"edge20\" class=\"edge\">\n<title>14&#45;&gt;15</title>\n<path fill=\"none\" stroke=\"#c0c0c0\" d=\"M35.7942,-289.9357C44.4288,-286.8015 55.1662,-282.9041 64.8769,-279.3792\"/>\n<polygon fill=\"#c0c0c0\" stroke=\"#c0c0c0\" points=\"66.288,-282.5906 74.4937,-275.8885 63.8995,-276.0106 66.288,-282.5906\"/>\n</g>\n<!-- 13&#45;&gt;17 -->\n<g id=\"edge19\" class=\"edge\">\n<title>13&#45;&gt;17</title>\n<path fill=\"none\" stroke=\"#c0c0c0\" d=\"M198.5503,-298.7994C195.1004,-286.0422 186.5481,-266.0126 178.53,-251.1823\"/>\n<polygon fill=\"#c0c0c0\" stroke=\"#c0c0c0\" points=\"181.4365,-249.2169 173.3971,-242.3162 175.3784,-252.7241 181.4365,-249.2169\"/>\n</g>\n<!-- 13&#45;&gt;9 -->\n<g id=\"edge18\" class=\"edge\">\n<title>13&#45;&gt;9</title>\n<path fill=\"none\" stroke=\"#c0c0c0\" d=\"M195.8759,-323.2971C192.8334,-335.5231 188.0839,-354.6085 184.3836,-369.4778\"/>\n<polygon fill=\"#c0c0c0\" stroke=\"#c0c0c0\" points=\"180.9326,-368.8522 181.9141,-379.4015 187.7255,-370.5427 180.9326,-368.8522\"/>\n</g>\n</g>\n</svg>\n"
          },
          "metadata": {},
          "execution_count": 7
        }
      ]
    },
    {
      "cell_type": "code",
      "source": [
        "path = dls(G, 12, 4)\n",
        "drawG_al(G, directed=True, path=path, layout=\"neato\")"
      ],
      "metadata": {
        "colab": {
          "base_uri": "https://localhost:8080/",
          "height": 544
        },
        "id": "McgBII2wX0XK",
        "outputId": "84bf9973-3842-4686-9a01-47b4e19e66b0"
      },
      "execution_count": 8,
      "outputs": [
        {
          "output_type": "execute_result",
          "data": {
            "text/plain": [
              "<graphviz.dot.Digraph at 0x7f861e39b850>"
            ],
            "image/svg+xml": "<?xml version=\"1.0\" encoding=\"UTF-8\" standalone=\"no\"?>\n<!DOCTYPE svg PUBLIC \"-//W3C//DTD SVG 1.1//EN\"\n \"http://www.w3.org/Graphics/SVG/1.1/DTD/svg11.dtd\">\n<!-- Generated by graphviz version 2.40.1 (20161225.0304)\n -->\n<!-- Title: di&#45;anyname Pages: 1 -->\n<svg width=\"658pt\" height=\"392pt\"\n viewBox=\"0.00 0.00 658.21 392.35\" xmlns=\"http://www.w3.org/2000/svg\" xmlns:xlink=\"http://www.w3.org/1999/xlink\">\n<g id=\"graph0\" class=\"graph\" transform=\"scale(1 1) rotate(0) translate(4 388.3502)\">\n<title>di&#45;anyname</title>\n<polygon fill=\"#ffffff\" stroke=\"transparent\" points=\"-4,4 -4,-388.3502 654.2126,-388.3502 654.2126,4 -4,4\"/>\n<!-- 11 -->\n<g id=\"node1\" class=\"node\">\n<title>11</title>\n<ellipse fill=\"none\" stroke=\"#ff4500\" cx=\"295.036\" cy=\"-61.295\" rx=\"19.1842\" ry=\"12.0417\"/>\n<text text-anchor=\"middle\" x=\"295.036\" y=\"-59.395\" font-family=\"monospace\" font-size=\"8.00\" fill=\"#7b68ee\">11</text>\n</g>\n<!-- 8 -->\n<g id=\"node2\" class=\"node\">\n<title>8</title>\n<ellipse fill=\"none\" stroke=\"#ff4500\" cx=\"220.9901\" cy=\"-96.7311\" rx=\"15.6129\" ry=\"12.0417\"/>\n<text text-anchor=\"middle\" x=\"220.9901\" y=\"-94.8311\" font-family=\"monospace\" font-size=\"8.00\" fill=\"#7b68ee\">8</text>\n</g>\n<!-- 11&#45;&gt;8 -->\n<g id=\"edge1\" class=\"edge\">\n<title>11&#45;&gt;8</title>\n<path fill=\"none\" stroke=\"#ffa500\" stroke-width=\"2\" d=\"M279.6936,-68.6374C269.2359,-73.6422 255.2149,-80.3522 243.4982,-85.9595\"/>\n<polygon fill=\"#ffa500\" stroke=\"#ffa500\" stroke-width=\"2\" points=\"241.8363,-82.8746 234.3269,-90.3485 244.8581,-89.1887 241.8363,-82.8746\"/>\n</g>\n<!-- 14 -->\n<g id=\"node6\" class=\"node\">\n<title>14</title>\n<ellipse fill=\"none\" stroke=\"#ff4500\" cx=\"344.2557\" cy=\"-12.0208\" rx=\"19.1842\" ry=\"12.0417\"/>\n<text text-anchor=\"middle\" x=\"344.2557\" y=\"-10.1208\" font-family=\"monospace\" font-size=\"8.00\" fill=\"#7b68ee\">14</text>\n</g>\n<!-- 11&#45;&gt;14 -->\n<g id=\"edge4\" class=\"edge\">\n<title>11&#45;&gt;14</title>\n<path fill=\"none\" stroke=\"#ffa500\" stroke-width=\"2\" d=\"M305.4742,-50.8452C311.6083,-44.7044 319.5242,-36.7797 326.6033,-29.6928\"/>\n<polygon fill=\"#ffa500\" stroke=\"#ffa500\" stroke-width=\"2\" points=\"329.2416,-32.0041 333.8325,-22.4555 324.2891,-27.057 329.2416,-32.0041\"/>\n</g>\n<!-- 4 -->\n<g id=\"node11\" class=\"node\">\n<title>4</title>\n<ellipse fill=\"none\" stroke=\"#ff4500\" cx=\"159.5344\" cy=\"-44.7205\" rx=\"15.6129\" ry=\"12.0417\"/>\n<text text-anchor=\"middle\" x=\"159.5344\" y=\"-42.8205\" font-family=\"monospace\" font-size=\"8.00\" fill=\"#7b68ee\">4</text>\n</g>\n<!-- 8&#45;&gt;4 -->\n<g id=\"edge18\" class=\"edge\">\n<title>8&#45;&gt;4</title>\n<path fill=\"none\" stroke=\"#c0c0c0\" d=\"M210.2853,-87.6716C201.3849,-80.139 188.5146,-69.2468 177.9622,-60.3162\"/>\n<polygon fill=\"#c0c0c0\" stroke=\"#c0c0c0\" points=\"180.0108,-57.4647 170.1165,-53.6762 175.4887,-62.808 180.0108,-57.4647\"/>\n</g>\n<!-- 15 -->\n<g id=\"node3\" class=\"node\">\n<title>15</title>\n<ellipse fill=\"none\" stroke=\"#ff4500\" cx=\"372.7579\" cy=\"-83.1232\" rx=\"19.1842\" ry=\"12.0417\"/>\n<text text-anchor=\"middle\" x=\"372.7579\" y=\"-81.2232\" font-family=\"monospace\" font-size=\"8.00\" fill=\"#7b68ee\">15</text>\n</g>\n<!-- 15&#45;&gt;11 -->\n<g id=\"edge2\" class=\"edge\">\n<title>15&#45;&gt;11</title>\n<path fill=\"none\" stroke=\"#ffa500\" stroke-width=\"2\" d=\"M355.1216,-78.1701C345.4825,-75.4629 333.3302,-72.05 322.4808,-69.0029\"/>\n<polygon fill=\"#ffa500\" stroke=\"#ffa500\" stroke-width=\"2\" points=\"323.1764,-65.5629 312.6025,-66.2286 321.2836,-72.3022 323.1764,-65.5629\"/>\n</g>\n<!-- 17 -->\n<g id=\"node4\" class=\"node\">\n<title>17</title>\n<ellipse fill=\"none\" stroke=\"#ff4500\" cx=\"412.8946\" cy=\"-153.9564\" rx=\"19.1842\" ry=\"12.0417\"/>\n<text text-anchor=\"middle\" x=\"412.8946\" y=\"-152.0564\" font-family=\"monospace\" font-size=\"8.00\" fill=\"#7b68ee\">17</text>\n</g>\n<!-- 15&#45;&gt;17 -->\n<g id=\"edge7\" class=\"edge\">\n<title>15&#45;&gt;17</title>\n<path fill=\"none\" stroke=\"#ffa500\" stroke-width=\"2\" d=\"M379.2065,-94.5038C385.1398,-104.9747 394.0803,-120.753 401.2602,-133.4241\"/>\n<polygon fill=\"#ffa500\" stroke=\"#ffa500\" stroke-width=\"2\" points=\"398.3535,-135.3939 406.3286,-142.3687 404.4438,-131.9429 398.3535,-135.3939\"/>\n</g>\n<!-- 13 -->\n<g id=\"node5\" class=\"node\">\n<title>13</title>\n<ellipse fill=\"none\" stroke=\"#ff4500\" cx=\"334.9693\" cy=\"-192.2264\" rx=\"19.1842\" ry=\"12.0417\"/>\n<text text-anchor=\"middle\" x=\"334.9693\" y=\"-190.3264\" font-family=\"monospace\" font-size=\"8.00\" fill=\"#7b68ee\">13</text>\n</g>\n<!-- 17&#45;&gt;13 -->\n<g id=\"edge3\" class=\"edge\">\n<title>17&#45;&gt;13</title>\n<path fill=\"none\" stroke=\"#ffa500\" stroke-width=\"2\" d=\"M397.4991,-161.5173C386.542,-166.8985 371.6018,-174.2358 359.0728,-180.3889\"/>\n<polygon fill=\"#ffa500\" stroke=\"#ffa500\" stroke-width=\"2\" points=\"357.5008,-177.2616 350.0677,-184.8114 360.5866,-183.5448 357.5008,-177.2616\"/>\n</g>\n<!-- 9 -->\n<g id=\"node18\" class=\"node\">\n<title>9</title>\n<ellipse fill=\"none\" stroke=\"#ff4500\" cx=\"253.9937\" cy=\"-174.8541\" rx=\"15.6129\" ry=\"12.0417\"/>\n<text text-anchor=\"middle\" x=\"253.9937\" y=\"-172.9541\" font-family=\"monospace\" font-size=\"8.00\" fill=\"#7b68ee\">9</text>\n</g>\n<!-- 13&#45;&gt;9 -->\n<g id=\"edge20\" class=\"edge\">\n<title>13&#45;&gt;9</title>\n<path fill=\"none\" stroke=\"#c0c0c0\" d=\"M316.5947,-188.2844C305.4788,-185.8996 291.155,-182.8266 279.0148,-180.2221\"/>\n<polygon fill=\"#c0c0c0\" stroke=\"#c0c0c0\" points=\"279.5554,-176.7585 269.0437,-178.0829 278.087,-183.6028 279.5554,-176.7585\"/>\n</g>\n<!-- 14&#45;&gt;15 -->\n<g id=\"edge21\" class=\"edge\">\n<title>14&#45;&gt;15</title>\n<path fill=\"none\" stroke=\"#c0c0c0\" d=\"M348.9622,-23.7619C353.0633,-33.9926 359.116,-49.0919 364.0906,-61.5015\"/>\n<polygon fill=\"#c0c0c0\" stroke=\"#c0c0c0\" points=\"360.9795,-63.1473 367.9491,-71.127 367.4769,-60.5427 360.9795,-63.1473\"/>\n</g>\n<!-- 16 -->\n<g id=\"node7\" class=\"node\">\n<title>16</title>\n<ellipse fill=\"none\" stroke=\"#ff4500\" cx=\"442.1267\" cy=\"-79.0074\" rx=\"19.1842\" ry=\"12.0417\"/>\n<text text-anchor=\"middle\" x=\"442.1267\" y=\"-77.1074\" font-family=\"monospace\" font-size=\"8.00\" fill=\"#7b68ee\">16</text>\n</g>\n<!-- 16&#45;&gt;15 -->\n<g id=\"edge5\" class=\"edge\">\n<title>16&#45;&gt;15</title>\n<path fill=\"none\" stroke=\"#ffa500\" stroke-width=\"2\" d=\"M422.8036,-80.1539C416.4896,-80.5285 409.3244,-80.9536 402.4292,-81.3627\"/>\n<polygon fill=\"#ffa500\" stroke=\"#ffa500\" stroke-width=\"2\" points=\"401.7524,-77.8966 391.9773,-81.9829 402.1671,-84.8844 401.7524,-77.8966\"/>\n</g>\n<!-- 16&#45;&gt;17 -->\n<g id=\"edge22\" class=\"edge\">\n<title>16&#45;&gt;17</title>\n<path fill=\"none\" stroke=\"#c0c0c0\" d=\"M437.5592,-90.7182C433.2086,-101.8729 426.5557,-118.9303 421.2555,-132.5198\"/>\n<polygon fill=\"#c0c0c0\" stroke=\"#c0c0c0\" points=\"417.8995,-131.4922 417.5265,-142.0805 424.421,-134.0358 417.8995,-131.4922\"/>\n</g>\n<!-- 12 -->\n<g id=\"node8\" class=\"node\">\n<title>12</title>\n<ellipse fill=\"none\" stroke=\"#ff4500\" cx=\"490.9647\" cy=\"-14.1787\" rx=\"19.1842\" ry=\"12.0417\"/>\n<text text-anchor=\"middle\" x=\"490.9647\" y=\"-12.2787\" font-family=\"monospace\" font-size=\"8.00\" fill=\"#7b68ee\">12</text>\n</g>\n<!-- 12&#45;&gt;16 -->\n<g id=\"edge6\" class=\"edge\">\n<title>12&#45;&gt;16</title>\n<path fill=\"none\" stroke=\"#ffa500\" stroke-width=\"2\" d=\"M482.68,-25.176C475.5669,-34.6181 465.1477,-48.4488 456.6517,-59.7266\"/>\n<polygon fill=\"#ffa500\" stroke=\"#ffa500\" stroke-width=\"2\" points=\"453.8378,-57.6451 450.6162,-67.7382 459.4288,-61.857 453.8378,-57.6451\"/>\n</g>\n<!-- 0 -->\n<g id=\"node9\" class=\"node\">\n<title>0</title>\n<ellipse fill=\"none\" stroke=\"#ff4500\" cx=\"83.6603\" cy=\"-54.3882\" rx=\"15.6129\" ry=\"12.0417\"/>\n<text text-anchor=\"middle\" x=\"83.6603\" y=\"-52.4882\" font-family=\"monospace\" font-size=\"8.00\" fill=\"#7b68ee\">0</text>\n</g>\n<!-- 1 -->\n<g id=\"node10\" class=\"node\">\n<title>1</title>\n<ellipse fill=\"none\" stroke=\"#ff4500\" cx=\"15.5563\" cy=\"-24.3363\" rx=\"15.6129\" ry=\"12.0417\"/>\n<text text-anchor=\"middle\" x=\"15.5563\" y=\"-22.4363\" font-family=\"monospace\" font-size=\"8.00\" fill=\"#7b68ee\">1</text>\n</g>\n<!-- 0&#45;&gt;1 -->\n<g id=\"edge8\" class=\"edge\">\n<title>0&#45;&gt;1</title>\n<path fill=\"none\" stroke=\"#c0c0c0\" d=\"M69.8784,-48.3067C60.9243,-44.3556 49.0302,-39.1071 38.6546,-34.5288\"/>\n<polygon fill=\"#c0c0c0\" stroke=\"#c0c0c0\" points=\"39.8796,-31.2437 29.3177,-30.4087 37.0536,-37.6479 39.8796,-31.2437\"/>\n</g>\n<!-- 0&#45;&gt;4 -->\n<g id=\"edge9\" class=\"edge\">\n<title>0&#45;&gt;4</title>\n<path fill=\"none\" stroke=\"#c0c0c0\" d=\"M99.0145,-52.4318C109.0268,-51.156 122.3385,-49.4599 133.9277,-47.9832\"/>\n<polygon fill=\"#c0c0c0\" stroke=\"#c0c0c0\" points=\"134.4651,-51.4431 143.9425,-46.7072 133.5803,-44.4993 134.4651,-51.4431\"/>\n</g>\n<!-- 7 -->\n<g id=\"node15\" class=\"node\">\n<title>7</title>\n<ellipse fill=\"none\" stroke=\"#ff4500\" cx=\"142.0436\" cy=\"-104.2597\" rx=\"15.6129\" ry=\"12.0417\"/>\n<text text-anchor=\"middle\" x=\"142.0436\" y=\"-102.3597\" font-family=\"monospace\" font-size=\"8.00\" fill=\"#7b68ee\">7</text>\n</g>\n<!-- 4&#45;&gt;7 -->\n<g id=\"edge13\" class=\"edge\">\n<title>4&#45;&gt;7</title>\n<path fill=\"none\" stroke=\"#c0c0c0\" d=\"M156.0788,-56.4835C153.8748,-63.9858 150.9529,-73.9321 148.3459,-82.8065\"/>\n<polygon fill=\"#c0c0c0\" stroke=\"#c0c0c0\" points=\"144.9526,-81.94 145.4921,-92.5211 151.6688,-83.913 144.9526,-81.94\"/>\n</g>\n<!-- 3 -->\n<g id=\"node12\" class=\"node\">\n<title>3</title>\n<ellipse fill=\"none\" stroke=\"#ff4500\" cx=\"474.9847\" cy=\"-213.3692\" rx=\"15.6129\" ry=\"12.0417\"/>\n<text text-anchor=\"middle\" x=\"474.9847\" y=\"-211.4692\" font-family=\"monospace\" font-size=\"8.00\" fill=\"#7b68ee\">3</text>\n</g>\n<!-- 3&#45;&gt;17 -->\n<g id=\"edge12\" class=\"edge\">\n<title>3&#45;&gt;17</title>\n<path fill=\"none\" stroke=\"#c0c0c0\" d=\"M465.0089,-203.8235C455.8507,-195.0603 442.061,-181.8651 430.9665,-171.249\"/>\n<polygon fill=\"#c0c0c0\" stroke=\"#c0c0c0\" points=\"433.114,-168.4598 423.4691,-164.0749 428.2745,-173.5174 433.114,-168.4598\"/>\n</g>\n<!-- 2 -->\n<g id=\"node13\" class=\"node\">\n<title>2</title>\n<ellipse fill=\"none\" stroke=\"#ff4500\" cx=\"557.5084\" cy=\"-206.3493\" rx=\"15.6129\" ry=\"12.0417\"/>\n<text text-anchor=\"middle\" x=\"557.5084\" y=\"-204.4493\" font-family=\"monospace\" font-size=\"8.00\" fill=\"#7b68ee\">2</text>\n</g>\n<!-- 3&#45;&gt;2 -->\n<g id=\"edge10\" class=\"edge\">\n<title>3&#45;&gt;2</title>\n<path fill=\"none\" stroke=\"#c0c0c0\" d=\"M490.5068,-212.0488C502.0749,-211.0648 518.1371,-209.6985 531.635,-208.5503\"/>\n<polygon fill=\"#c0c0c0\" stroke=\"#c0c0c0\" points=\"532.108,-212.0227 541.7753,-207.6877 531.5146,-205.0479 532.108,-212.0227\"/>\n</g>\n<!-- 6 -->\n<g id=\"node14\" class=\"node\">\n<title>6</title>\n<ellipse fill=\"none\" stroke=\"#ff4500\" cx=\"476.3934\" cy=\"-296.3582\" rx=\"15.6129\" ry=\"12.0417\"/>\n<text text-anchor=\"middle\" x=\"476.3934\" y=\"-294.4582\" font-family=\"monospace\" font-size=\"8.00\" fill=\"#7b68ee\">6</text>\n</g>\n<!-- 3&#45;&gt;6 -->\n<g id=\"edge11\" class=\"edge\">\n<title>3&#45;&gt;6</title>\n<path fill=\"none\" stroke=\"#c0c0c0\" d=\"M475.1926,-225.6145C475.4081,-238.313 475.7499,-258.4473 476.0138,-273.9944\"/>\n<polygon fill=\"#c0c0c0\" stroke=\"#c0c0c0\" points=\"472.5199,-274.3934 476.1893,-284.3325 479.5189,-274.2745 472.5199,-274.3934\"/>\n</g>\n<!-- 10 -->\n<g id=\"node17\" class=\"node\">\n<title>10</title>\n<ellipse fill=\"none\" stroke=\"#ff4500\" cx=\"490.7187\" cy=\"-372.3294\" rx=\"19.1842\" ry=\"12.0417\"/>\n<text text-anchor=\"middle\" x=\"490.7187\" y=\"-370.4294\" font-family=\"monospace\" font-size=\"8.00\" fill=\"#7b68ee\">10</text>\n</g>\n<!-- 6&#45;&gt;10 -->\n<g id=\"edge15\" class=\"edge\">\n<title>6&#45;&gt;10</title>\n<path fill=\"none\" stroke=\"#c0c0c0\" d=\"M478.695,-308.5643C480.7919,-319.6847 483.9412,-336.3863 486.4907,-349.9071\"/>\n<polygon fill=\"#c0c0c0\" stroke=\"#c0c0c0\" points=\"483.0828,-350.7229 488.3752,-359.9012 489.9615,-349.4258 483.0828,-350.7229\"/>\n</g>\n<!-- 7&#45;&gt;8 -->\n<g id=\"edge17\" class=\"edge\">\n<title>7&#45;&gt;8</title>\n<path fill=\"none\" stroke=\"#c0c0c0\" d=\"M157.6409,-102.7723C168.3456,-101.7514 182.8028,-100.3728 195.2033,-99.1902\"/>\n<polygon fill=\"#c0c0c0\" stroke=\"#c0c0c0\" points=\"195.8027,-102.649 205.4252,-98.2154 195.1381,-95.6806 195.8027,-102.649\"/>\n</g>\n<!-- 7&#45;&gt;0 -->\n<g id=\"edge16\" class=\"edge\">\n<title>7&#45;&gt;0</title>\n<path fill=\"none\" stroke=\"#c0c0c0\" d=\"M131.6059,-95.3436C123.4061,-88.3393 111.7828,-78.4106 102.0342,-70.0833\"/>\n<polygon fill=\"#c0c0c0\" stroke=\"#c0c0c0\" points=\"104.2795,-67.3982 94.4027,-63.5644 99.733,-72.7207 104.2795,-67.3982\"/>\n</g>\n<!-- 5 -->\n<g id=\"node16\" class=\"node\">\n<title>5</title>\n<ellipse fill=\"none\" stroke=\"#ff4500\" cx=\"634.6563\" cy=\"-208.1335\" rx=\"15.6129\" ry=\"12.0417\"/>\n<text text-anchor=\"middle\" x=\"634.6563\" y=\"-206.2335\" font-family=\"monospace\" font-size=\"8.00\" fill=\"#7b68ee\">5</text>\n</g>\n<!-- 5&#45;&gt;2 -->\n<g id=\"edge14\" class=\"edge\">\n<title>5&#45;&gt;2</title>\n<path fill=\"none\" stroke=\"#c0c0c0\" d=\"M619.0442,-207.7725C608.7965,-207.5355 595.1493,-207.2199 583.311,-206.9461\"/>\n<polygon fill=\"#c0c0c0\" stroke=\"#c0c0c0\" points=\"583.1755,-203.4421 573.0972,-206.7098 583.0135,-210.4402 583.1755,-203.4421\"/>\n</g>\n<!-- 9&#45;&gt;8 -->\n<g id=\"edge19\" class=\"edge\">\n<title>9&#45;&gt;8</title>\n<path fill=\"none\" stroke=\"#c0c0c0\" d=\"M249.1239,-163.3268C244.054,-151.3258 236.0036,-132.2698 229.8109,-117.6109\"/>\n<polygon fill=\"#c0c0c0\" stroke=\"#c0c0c0\" points=\"232.9956,-116.1554 225.8799,-108.3057 226.5474,-118.8795 232.9956,-116.1554\"/>\n</g>\n</g>\n</svg>\n"
          },
          "metadata": {},
          "execution_count": 8
        }
      ]
    },
    {
      "cell_type": "code",
      "source": [
        "path = dls(G, 12, 100)\n",
        "drawG_al(G, directed=True, path=path, layout=\"neato\")"
      ],
      "metadata": {
        "colab": {
          "base_uri": "https://localhost:8080/",
          "height": 808
        },
        "id": "ddGjiemBYipO",
        "outputId": "8d25ff91-b1ef-4a3d-879f-5d1c72d82326"
      },
      "execution_count": 9,
      "outputs": [
        {
          "output_type": "execute_result",
          "data": {
            "text/plain": [
              "<graphviz.dot.Digraph at 0x7f8624076a50>"
            ],
            "image/svg+xml": "<?xml version=\"1.0\" encoding=\"UTF-8\" standalone=\"no\"?>\n<!DOCTYPE svg PUBLIC \"-//W3C//DTD SVG 1.1//EN\"\n \"http://www.w3.org/Graphics/SVG/1.1/DTD/svg11.dtd\">\n<!-- Generated by graphviz version 2.40.1 (20161225.0304)\n -->\n<!-- Title: di&#45;anyname Pages: 1 -->\n<svg width=\"494pt\" height=\"590pt\"\n viewBox=\"0.00 0.00 493.85 590.49\" xmlns=\"http://www.w3.org/2000/svg\" xmlns:xlink=\"http://www.w3.org/1999/xlink\">\n<g id=\"graph0\" class=\"graph\" transform=\"scale(1 1) rotate(0) translate(4 586.487)\">\n<title>di&#45;anyname</title>\n<polygon fill=\"#ffffff\" stroke=\"transparent\" points=\"-4,4 -4,-586.487 489.8516,-586.487 489.8516,4 -4,4\"/>\n<!-- 7 -->\n<g id=\"node1\" class=\"node\">\n<title>7</title>\n<ellipse fill=\"none\" stroke=\"#ff4500\" cx=\"81.5448\" cy=\"-145.0378\" rx=\"15.6129\" ry=\"12.0417\"/>\n<text text-anchor=\"middle\" x=\"81.5448\" y=\"-143.1378\" font-family=\"monospace\" font-size=\"8.00\" fill=\"#7b68ee\">7</text>\n</g>\n<!-- 0 -->\n<g id=\"node2\" class=\"node\">\n<title>0</title>\n<ellipse fill=\"none\" stroke=\"#ff4500\" cx=\"59.5914\" cy=\"-71.6712\" rx=\"15.6129\" ry=\"12.0417\"/>\n<text text-anchor=\"middle\" x=\"59.5914\" y=\"-69.7712\" font-family=\"monospace\" font-size=\"8.00\" fill=\"#7b68ee\">0</text>\n</g>\n<!-- 7&#45;&gt;0 -->\n<g id=\"edge1\" class=\"edge\">\n<title>7&#45;&gt;0</title>\n<path fill=\"none\" stroke=\"#ffa500\" stroke-width=\"2\" d=\"M78.0176,-133.2502C74.8041,-122.5111 69.9779,-106.3821 66.0708,-93.3248\"/>\n<polygon fill=\"#ffa500\" stroke=\"#ffa500\" stroke-width=\"2\" points=\"69.4026,-92.2503 63.1828,-83.6733 62.6964,-94.257 69.4026,-92.2503\"/>\n</g>\n<!-- 8 -->\n<g id=\"node4\" class=\"node\">\n<title>8</title>\n<ellipse fill=\"none\" stroke=\"#ff4500\" cx=\"154.2204\" cy=\"-177.829\" rx=\"15.6129\" ry=\"12.0417\"/>\n<text text-anchor=\"middle\" x=\"154.2204\" y=\"-175.929\" font-family=\"monospace\" font-size=\"8.00\" fill=\"#7b68ee\">8</text>\n</g>\n<!-- 7&#45;&gt;8 -->\n<g id=\"edge19\" class=\"edge\">\n<title>7&#45;&gt;8</title>\n<path fill=\"none\" stroke=\"#c0c0c0\" d=\"M95.2145,-151.2056C105.3655,-155.7857 119.4459,-162.1388 131.3063,-167.4902\"/>\n<polygon fill=\"#c0c0c0\" stroke=\"#c0c0c0\" points=\"130.0573,-170.7664 140.6119,-171.6889 132.9363,-164.3858 130.0573,-170.7664\"/>\n</g>\n<!-- 1 -->\n<g id=\"node3\" class=\"node\">\n<title>1</title>\n<ellipse fill=\"none\" stroke=\"#ff4500\" cx=\"15.5563\" cy=\"-12.0208\" rx=\"15.6129\" ry=\"12.0417\"/>\n<text text-anchor=\"middle\" x=\"15.5563\" y=\"-10.1208\" font-family=\"monospace\" font-size=\"8.00\" fill=\"#7b68ee\">1</text>\n</g>\n<!-- 0&#45;&gt;1 -->\n<g id=\"edge2\" class=\"edge\">\n<title>0&#45;&gt;1</title>\n<path fill=\"none\" stroke=\"#ffa500\" stroke-width=\"2\" d=\"M51.7188,-61.0069C45.5195,-52.6093 36.7258,-40.6972 29.3624,-30.7226\"/>\n<polygon fill=\"#ffa500\" stroke=\"#ffa500\" stroke-width=\"2\" points=\"32.1158,-28.5594 23.3608,-22.5928 26.4841,-32.7168 32.1158,-28.5594\"/>\n</g>\n<!-- 4 -->\n<g id=\"node5\" class=\"node\">\n<title>4</title>\n<ellipse fill=\"none\" stroke=\"#ff4500\" cx=\"129.1229\" cy=\"-103.2341\" rx=\"15.6129\" ry=\"12.0417\"/>\n<text text-anchor=\"middle\" x=\"129.1229\" y=\"-101.3341\" font-family=\"monospace\" font-size=\"8.00\" fill=\"#7b68ee\">4</text>\n</g>\n<!-- 0&#45;&gt;4 -->\n<g id=\"edge13\" class=\"edge\">\n<title>0&#45;&gt;4</title>\n<path fill=\"none\" stroke=\"#c0c0c0\" d=\"M73.3286,-77.907C82.6614,-82.1435 95.2328,-87.8501 106.0798,-92.774\"/>\n<polygon fill=\"#c0c0c0\" stroke=\"#c0c0c0\" points=\"104.8617,-96.0648 115.4142,-97.0112 107.7552,-89.6907 104.8617,-96.0648\"/>\n</g>\n<!-- 8&#45;&gt;4 -->\n<g id=\"edge3\" class=\"edge\">\n<title>8&#45;&gt;4</title>\n<path fill=\"none\" stroke=\"#ffa500\" stroke-width=\"2\" d=\"M150.2989,-166.1735C146.5636,-155.0715 140.8517,-138.0946 136.3012,-124.5694\"/>\n<polygon fill=\"#ffa500\" stroke=\"#ffa500\" stroke-width=\"2\" points=\"139.6058,-123.4157 133.0996,-115.0539 132.9713,-125.6479 139.6058,-123.4157\"/>\n</g>\n<!-- 4&#45;&gt;7 -->\n<g id=\"edge4\" class=\"edge\">\n<title>4&#45;&gt;7</title>\n<path fill=\"none\" stroke=\"#ffa500\" stroke-width=\"2\" d=\"M118.5637,-112.5117C113.02,-117.3826 106.0706,-123.4885 99.6948,-129.0906\"/>\n<polygon fill=\"#ffa500\" stroke=\"#ffa500\" stroke-width=\"2\" points=\"97.2764,-126.5563 92.0744,-135.7862 101.8968,-131.8149 97.2764,-126.5563\"/>\n</g>\n<!-- 11 -->\n<g id=\"node6\" class=\"node\">\n<title>11</title>\n<ellipse fill=\"none\" stroke=\"#ff4500\" cx=\"163.4047\" cy=\"-258.499\" rx=\"19.1842\" ry=\"12.0417\"/>\n<text text-anchor=\"middle\" x=\"163.4047\" y=\"-256.599\" font-family=\"monospace\" font-size=\"8.00\" fill=\"#7b68ee\">11</text>\n</g>\n<!-- 11&#45;&gt;8 -->\n<g id=\"edge5\" class=\"edge\">\n<title>11&#45;&gt;8</title>\n<path fill=\"none\" stroke=\"#ffa500\" stroke-width=\"2\" d=\"M162.0098,-246.2469C160.6127,-233.9751 158.4316,-214.818 156.7324,-199.8929\"/>\n<polygon fill=\"#ffa500\" stroke=\"#ffa500\" stroke-width=\"2\" points=\"160.2071,-199.4719 155.5983,-189.932 153.2521,-200.2638 160.2071,-199.4719\"/>\n</g>\n<!-- 14 -->\n<g id=\"node11\" class=\"node\">\n<title>14</title>\n<ellipse fill=\"none\" stroke=\"#ff4500\" cx=\"152.3601\" cy=\"-326.347\" rx=\"19.1842\" ry=\"12.0417\"/>\n<text text-anchor=\"middle\" x=\"152.3601\" y=\"-324.447\" font-family=\"monospace\" font-size=\"8.00\" fill=\"#7b68ee\">14</text>\n</g>\n<!-- 11&#45;&gt;14 -->\n<g id=\"edge9\" class=\"edge\">\n<title>11&#45;&gt;14</title>\n<path fill=\"none\" stroke=\"#ffa500\" stroke-width=\"2\" d=\"M161.4302,-270.6288C159.9067,-279.9875 157.7585,-293.1838 155.9352,-304.3848\"/>\n<polygon fill=\"#ffa500\" stroke=\"#ffa500\" stroke-width=\"2\" points=\"152.4698,-303.8897 154.3175,-314.3221 159.3788,-305.0144 152.4698,-303.8897\"/>\n</g>\n<!-- 13 -->\n<g id=\"node7\" class=\"node\">\n<title>13</title>\n<ellipse fill=\"none\" stroke=\"#ff4500\" cx=\"282.7565\" cy=\"-244.9298\" rx=\"19.1842\" ry=\"12.0417\"/>\n<text text-anchor=\"middle\" x=\"282.7565\" y=\"-243.0298\" font-family=\"monospace\" font-size=\"8.00\" fill=\"#7b68ee\">13</text>\n</g>\n<!-- 9 -->\n<g id=\"node8\" class=\"node\">\n<title>9</title>\n<ellipse fill=\"none\" stroke=\"#ff4500\" cx=\"236.6193\" cy=\"-175.9499\" rx=\"15.6129\" ry=\"12.0417\"/>\n<text text-anchor=\"middle\" x=\"236.6193\" y=\"-174.0499\" font-family=\"monospace\" font-size=\"8.00\" fill=\"#7b68ee\">9</text>\n</g>\n<!-- 13&#45;&gt;9 -->\n<g id=\"edge6\" class=\"edge\">\n<title>13&#45;&gt;9</title>\n<path fill=\"none\" stroke=\"#ffa500\" stroke-width=\"2\" d=\"M275.3438,-233.847C268.3746,-223.4275 257.7961,-207.6114 249.4556,-195.1415\"/>\n<polygon fill=\"#ffa500\" stroke=\"#ffa500\" stroke-width=\"2\" points=\"252.3304,-193.1441 243.8615,-186.7778 246.5119,-197.0358 252.3304,-193.1441\"/>\n</g>\n<!-- 9&#45;&gt;8 -->\n<g id=\"edge20\" class=\"edge\">\n<title>9&#45;&gt;8</title>\n<path fill=\"none\" stroke=\"#c0c0c0\" d=\"M220.732,-176.3122C209.145,-176.5764 193.1968,-176.9401 179.8218,-177.2451\"/>\n<polygon fill=\"#c0c0c0\" stroke=\"#c0c0c0\" points=\"179.6971,-173.747 169.7795,-177.4742 179.8567,-180.7452 179.6971,-173.747\"/>\n</g>\n<!-- 15 -->\n<g id=\"node9\" class=\"node\">\n<title>15</title>\n<ellipse fill=\"none\" stroke=\"#ff4500\" cx=\"228.4602\" cy=\"-309.3542\" rx=\"19.1842\" ry=\"12.0417\"/>\n<text text-anchor=\"middle\" x=\"228.4602\" y=\"-307.4542\" font-family=\"monospace\" font-size=\"8.00\" fill=\"#7b68ee\">15</text>\n</g>\n<!-- 15&#45;&gt;11 -->\n<g id=\"edge7\" class=\"edge\">\n<title>15&#45;&gt;11</title>\n<path fill=\"none\" stroke=\"#ffa500\" stroke-width=\"2\" d=\"M216.2238,-299.7888C207.0463,-292.6145 194.2806,-282.6353 183.5983,-274.2847\"/>\n<polygon fill=\"#ffa500\" stroke=\"#ffa500\" stroke-width=\"2\" points=\"185.6203,-271.4229 175.5863,-268.0216 181.3092,-276.9378 185.6203,-271.4229\"/>\n</g>\n<!-- 17 -->\n<g id=\"node10\" class=\"node\">\n<title>17</title>\n<ellipse fill=\"none\" stroke=\"#ff4500\" cx=\"287.9759\" cy=\"-341.6348\" rx=\"19.1842\" ry=\"12.0417\"/>\n<text text-anchor=\"middle\" x=\"287.9759\" y=\"-339.7348\" font-family=\"monospace\" font-size=\"8.00\" fill=\"#7b68ee\">17</text>\n</g>\n<!-- 15&#45;&gt;17 -->\n<g id=\"edge12\" class=\"edge\">\n<title>15&#45;&gt;17</title>\n<path fill=\"none\" stroke=\"#ffa500\" stroke-width=\"2\" d=\"M243.172,-317.3337C249.5143,-320.7737 257.0941,-324.8849 264.1993,-328.7387\"/>\n<polygon fill=\"#ffa500\" stroke=\"#ffa500\" stroke-width=\"2\" points=\"262.9744,-332.0559 273.4334,-333.7471 266.3118,-325.9027 262.9744,-332.0559\"/>\n</g>\n<!-- 17&#45;&gt;13 -->\n<g id=\"edge8\" class=\"edge\">\n<title>17&#45;&gt;13</title>\n<path fill=\"none\" stroke=\"#ffa500\" stroke-width=\"2\" d=\"M287.3149,-329.387C286.4717,-313.7646 284.998,-286.4594 283.9547,-267.13\"/>\n<polygon fill=\"#ffa500\" stroke=\"#ffa500\" stroke-width=\"2\" points=\"287.4461,-266.8749 283.4122,-257.0781 280.4563,-267.2523 287.4461,-266.8749\"/>\n</g>\n<!-- 14&#45;&gt;15 -->\n<g id=\"edge21\" class=\"edge\">\n<title>14&#45;&gt;15</title>\n<path fill=\"none\" stroke=\"#c0c0c0\" d=\"M170.3947,-322.3199C179.333,-320.3241 190.3311,-317.8682 200.3428,-315.6327\"/>\n<polygon fill=\"#c0c0c0\" stroke=\"#c0c0c0\" points=\"201.2944,-319.0065 210.2913,-313.4113 199.7689,-312.1747 201.2944,-319.0065\"/>\n</g>\n<!-- 16 -->\n<g id=\"node12\" class=\"node\">\n<title>16</title>\n<ellipse fill=\"none\" stroke=\"#ff4500\" cx=\"322.3789\" cy=\"-293.3939\" rx=\"19.1842\" ry=\"12.0417\"/>\n<text text-anchor=\"middle\" x=\"322.3789\" y=\"-291.4939\" font-family=\"monospace\" font-size=\"8.00\" fill=\"#7b68ee\">16</text>\n</g>\n<!-- 16&#45;&gt;15 -->\n<g id=\"edge10\" class=\"edge\">\n<title>16&#45;&gt;15</title>\n<path fill=\"none\" stroke=\"#ffa500\" stroke-width=\"2\" d=\"M303.8236,-296.5471C290.4456,-298.8206 272.1411,-301.9312 256.922,-304.5175\"/>\n<polygon fill=\"#ffa500\" stroke=\"#ffa500\" stroke-width=\"2\" points=\"256.2492,-301.0816 246.977,-306.2075 257.4221,-307.9826 256.2492,-301.0816\"/>\n</g>\n<!-- 16&#45;&gt;17 -->\n<g id=\"edge22\" class=\"edge\">\n<title>16&#45;&gt;17</title>\n<path fill=\"none\" stroke=\"#c0c0c0\" d=\"M314.3997,-304.5826C310.6655,-309.8188 306.108,-316.2094 301.8365,-322.1991\"/>\n<polygon fill=\"#c0c0c0\" stroke=\"#c0c0c0\" points=\"298.8685,-320.3329 295.9118,-330.5068 304.5677,-324.3973 298.8685,-320.3329\"/>\n</g>\n<!-- 12 -->\n<g id=\"node13\" class=\"node\">\n<title>12</title>\n<ellipse fill=\"none\" stroke=\"#ff4500\" cx=\"397.5651\" cy=\"-254.7258\" rx=\"19.1842\" ry=\"12.0417\"/>\n<text text-anchor=\"middle\" x=\"397.5651\" y=\"-252.8258\" font-family=\"monospace\" font-size=\"8.00\" fill=\"#7b68ee\">12</text>\n</g>\n<!-- 12&#45;&gt;16 -->\n<g id=\"edge11\" class=\"edge\">\n<title>12&#45;&gt;16</title>\n<path fill=\"none\" stroke=\"#ffa500\" stroke-width=\"2\" d=\"M382.7107,-262.3654C372.3099,-267.7145 358.1896,-274.9765 346.2242,-281.1303\"/>\n<polygon fill=\"#ffa500\" stroke=\"#ffa500\" stroke-width=\"2\" points=\"344.4945,-278.0841 337.2024,-285.7702 347.696,-284.3091 344.4945,-278.0841\"/>\n</g>\n<!-- 3 -->\n<g id=\"node14\" class=\"node\">\n<title>3</title>\n<ellipse fill=\"none\" stroke=\"#ff4500\" cx=\"319.1655\" cy=\"-420.8215\" rx=\"15.6129\" ry=\"12.0417\"/>\n<text text-anchor=\"middle\" x=\"319.1655\" y=\"-418.9215\" font-family=\"monospace\" font-size=\"8.00\" fill=\"#7b68ee\">3</text>\n</g>\n<!-- 3&#45;&gt;17 -->\n<g id=\"edge16\" class=\"edge\">\n<title>3&#45;&gt;17</title>\n<path fill=\"none\" stroke=\"#c0c0c0\" d=\"M314.5634,-409.1373C309.7721,-396.9729 302.1643,-377.6573 296.3119,-362.7989\"/>\n<polygon fill=\"#c0c0c0\" stroke=\"#c0c0c0\" points=\"299.5182,-361.3886 292.5969,-353.367 293.0052,-363.954 299.5182,-361.3886\"/>\n</g>\n<!-- 2 -->\n<g id=\"node15\" class=\"node\">\n<title>2</title>\n<ellipse fill=\"none\" stroke=\"#ff4500\" cx=\"398.6844\" cy=\"-445.3701\" rx=\"15.6129\" ry=\"12.0417\"/>\n<text text-anchor=\"middle\" x=\"398.6844\" y=\"-443.4701\" font-family=\"monospace\" font-size=\"8.00\" fill=\"#7b68ee\">2</text>\n</g>\n<!-- 3&#45;&gt;2 -->\n<g id=\"edge14\" class=\"edge\">\n<title>3&#45;&gt;2</title>\n<path fill=\"none\" stroke=\"#c0c0c0\" d=\"M333.7505,-425.3241C345.0718,-428.8192 361.0192,-433.7423 374.2764,-437.835\"/>\n<polygon fill=\"#c0c0c0\" stroke=\"#c0c0c0\" points=\"373.6044,-441.2905 384.1919,-440.8961 375.6693,-434.602 373.6044,-441.2905\"/>\n</g>\n<!-- 6 -->\n<g id=\"node16\" class=\"node\">\n<title>6</title>\n<ellipse fill=\"none\" stroke=\"#ff4500\" cx=\"284.4516\" cy=\"-496.1825\" rx=\"15.6129\" ry=\"12.0417\"/>\n<text text-anchor=\"middle\" x=\"284.4516\" y=\"-494.2825\" font-family=\"monospace\" font-size=\"8.00\" fill=\"#7b68ee\">6</text>\n</g>\n<!-- 3&#45;&gt;6 -->\n<g id=\"edge15\" class=\"edge\">\n<title>3&#45;&gt;6</title>\n<path fill=\"none\" stroke=\"#c0c0c0\" d=\"M313.8932,-432.2672C308.6429,-443.6652 300.4639,-461.4211 294.0577,-475.3285\"/>\n<polygon fill=\"#c0c0c0\" stroke=\"#c0c0c0\" points=\"290.7785,-474.082 289.7735,-484.6291 297.1364,-477.0107 290.7785,-474.082\"/>\n</g>\n<!-- 10 -->\n<g id=\"node18\" class=\"node\">\n<title>10</title>\n<ellipse fill=\"none\" stroke=\"#ff4500\" cx=\"263.9761\" cy=\"-570.4661\" rx=\"19.1842\" ry=\"12.0417\"/>\n<text text-anchor=\"middle\" x=\"263.9761\" y=\"-568.5661\" font-family=\"monospace\" font-size=\"8.00\" fill=\"#7b68ee\">10</text>\n</g>\n<!-- 6&#45;&gt;10 -->\n<g id=\"edge18\" class=\"edge\">\n<title>6&#45;&gt;10</title>\n<path fill=\"none\" stroke=\"#c0c0c0\" d=\"M281.1619,-508.1174C278.1647,-518.9908 273.6634,-535.3214 270.0193,-548.5419\"/>\n<polygon fill=\"#c0c0c0\" stroke=\"#c0c0c0\" points=\"266.6089,-547.7435 267.3257,-558.314 273.3572,-549.6036 266.6089,-547.7435\"/>\n</g>\n<!-- 5 -->\n<g id=\"node17\" class=\"node\">\n<title>5</title>\n<ellipse fill=\"none\" stroke=\"#ff4500\" cx=\"470.2953\" cy=\"-473.836\" rx=\"15.6129\" ry=\"12.0417\"/>\n<text text-anchor=\"middle\" x=\"470.2953\" y=\"-471.936\" font-family=\"monospace\" font-size=\"8.00\" fill=\"#7b68ee\">5</text>\n</g>\n<!-- 5&#45;&gt;2 -->\n<g id=\"edge17\" class=\"edge\">\n<title>5&#45;&gt;2</title>\n<path fill=\"none\" stroke=\"#c0c0c0\" d=\"M456.1473,-468.2121C446.5353,-464.3912 433.588,-459.2446 422.4166,-454.8039\"/>\n<polygon fill=\"#c0c0c0\" stroke=\"#c0c0c0\" points=\"423.3887,-451.4239 412.803,-450.9824 420.8029,-457.9288 423.3887,-451.4239\"/>\n</g>\n</g>\n</svg>\n"
          },
          "metadata": {},
          "execution_count": 9
        }
      ]
    },
    {
      "cell_type": "markdown",
      "source": [
        "# **Recorrido en Profundidad Iteractiva (IDS)**\n",
        "\n",
        "Mediante este tipo de recorrido logramos:\n",
        "\n",
        "*   Eliminar la dificultad de elegir un límite adecuado de profundidad en el DLS.\n",
        "*   Probar todos los límites de profundidad posibles, primero la profundidad 0, luego la 1, luego la 2, etc.\n",
        "*   Combinar las ventajas de las búsquedas por profundidad y por amplitud.\n",
        "\n"
      ],
      "metadata": {
        "id": "sb_jI8asZES5"
      }
    },
    {
      "cell_type": "markdown",
      "source": [
        "### **Funcion IDS**"
      ],
      "metadata": {
        "id": "ucJpG6VO3A9p"
      }
    },
    {
      "cell_type": "code",
      "source": [
        "def ids(G, start, target):\n",
        "  n = len(G)\n",
        "  for limit in range(n):\n",
        "    path = dls(G, start, limit)\n",
        "    if path[target] != -1:\n",
        "      break\n",
        "  return path"
      ],
      "metadata": {
        "id": "zIJDA1e8YrBz"
      },
      "execution_count": 10,
      "outputs": []
    },
    {
      "cell_type": "markdown",
      "source": [
        "Obtenemos un trayecto (ruta) del grafo dirigido G, iniciando del nodo 12 y finalizando en el 7.  Luego visualizamos en color naranja el recorrido iteractivo."
      ],
      "metadata": {
        "id": "sy0qrAYv3MJB"
      }
    },
    {
      "cell_type": "code",
      "source": [
        "path = ids(G, start=12, target=7)\n",
        "print(path)\n",
        "drawG_al(G, directed=True, path=path, layout=\"neato\")"
      ],
      "metadata": {
        "colab": {
          "base_uri": "https://localhost:8080/",
          "height": 596
        },
        "id": "L0R__thBZZ6a",
        "outputId": "f8c95830-e486-4662-952b-ed23ce47501b"
      },
      "execution_count": 11,
      "outputs": [
        {
          "output_type": "stream",
          "name": "stdout",
          "text": [
            "[-1, -1, -1, -1, 8, -1, -1, 4, 11, 13, -1, 15, -1, 17, 11, 16, 12, 15]\n"
          ]
        },
        {
          "output_type": "execute_result",
          "data": {
            "text/plain": [
              "<graphviz.dot.Digraph at 0x7f86205e5750>"
            ],
            "image/svg+xml": "<?xml version=\"1.0\" encoding=\"UTF-8\" standalone=\"no\"?>\n<!DOCTYPE svg PUBLIC \"-//W3C//DTD SVG 1.1//EN\"\n \"http://www.w3.org/Graphics/SVG/1.1/DTD/svg11.dtd\">\n<!-- Generated by graphviz version 2.40.1 (20161225.0304)\n -->\n<!-- Title: di&#45;anyname Pages: 1 -->\n<svg width=\"641pt\" height=\"418pt\"\n viewBox=\"0.00 0.00 641.09 417.52\" xmlns=\"http://www.w3.org/2000/svg\" xmlns:xlink=\"http://www.w3.org/1999/xlink\">\n<g id=\"graph0\" class=\"graph\" transform=\"scale(1 1) rotate(0) translate(4 413.5242)\">\n<title>di&#45;anyname</title>\n<polygon fill=\"#ffffff\" stroke=\"transparent\" points=\"-4,4 -4,-413.5242 637.0865,-413.5242 637.0865,4 -4,4\"/>\n<!-- 8 -->\n<g id=\"node1\" class=\"node\">\n<title>8</title>\n<ellipse fill=\"none\" stroke=\"#ff4500\" cx=\"214.1678\" cy=\"-101.2929\" rx=\"15.6129\" ry=\"12.0417\"/>\n<text text-anchor=\"middle\" x=\"214.1678\" y=\"-99.3929\" font-family=\"monospace\" font-size=\"8.00\" fill=\"#7b68ee\">8</text>\n</g>\n<!-- 4 -->\n<g id=\"node2\" class=\"node\">\n<title>4</title>\n<ellipse fill=\"none\" stroke=\"#ff4500\" cx=\"134.8611\" cy=\"-102.7351\" rx=\"15.6129\" ry=\"12.0417\"/>\n<text text-anchor=\"middle\" x=\"134.8611\" y=\"-100.8351\" font-family=\"monospace\" font-size=\"8.00\" fill=\"#7b68ee\">4</text>\n</g>\n<!-- 8&#45;&gt;4 -->\n<g id=\"edge1\" class=\"edge\">\n<title>8&#45;&gt;4</title>\n<path fill=\"none\" stroke=\"#ffa500\" stroke-width=\"2\" d=\"M198.4994,-101.5778C187.7459,-101.7734 173.2227,-102.0375 160.7656,-102.264\"/>\n<polygon fill=\"#ffa500\" stroke=\"#ffa500\" stroke-width=\"2\" points=\"160.4317,-98.7694 150.497,-102.4507 160.559,-105.7682 160.4317,-98.7694\"/>\n</g>\n<!-- 7 -->\n<g id=\"node3\" class=\"node\">\n<title>7</title>\n<ellipse fill=\"none\" stroke=\"#ff4500\" cx=\"156.9177\" cy=\"-44.7239\" rx=\"15.6129\" ry=\"12.0417\"/>\n<text text-anchor=\"middle\" x=\"156.9177\" y=\"-42.8239\" font-family=\"monospace\" font-size=\"8.00\" fill=\"#7b68ee\">7</text>\n</g>\n<!-- 4&#45;&gt;7 -->\n<g id=\"edge2\" class=\"edge\">\n<title>4&#45;&gt;7</title>\n<path fill=\"none\" stroke=\"#ffa500\" stroke-width=\"2\" d=\"M139.3246,-90.9957C142.0452,-83.8403 145.6037,-74.4809 148.8081,-66.0531\"/>\n<polygon fill=\"#ffa500\" stroke=\"#ffa500\" stroke-width=\"2\" points=\"152.1784,-67.0369 152.4609,-56.4459 145.6354,-64.5492 152.1784,-67.0369\"/>\n</g>\n<!-- 7&#45;&gt;8 -->\n<g id=\"edge19\" class=\"edge\">\n<title>7&#45;&gt;8</title>\n<path fill=\"none\" stroke=\"#c0c0c0\" d=\"M166.6294,-54.3201C174.886,-62.4784 186.9425,-74.3914 196.8474,-84.1785\"/>\n<polygon fill=\"#c0c0c0\" stroke=\"#c0c0c0\" points=\"194.6427,-86.9205 204.2161,-91.4595 199.5628,-81.9412 194.6427,-86.9205\"/>\n</g>\n<!-- 0 -->\n<g id=\"node12\" class=\"node\">\n<title>0</title>\n<ellipse fill=\"none\" stroke=\"#ff4500\" cx=\"80.4533\" cy=\"-48.6047\" rx=\"15.6129\" ry=\"12.0417\"/>\n<text text-anchor=\"middle\" x=\"80.4533\" y=\"-46.7047\" font-family=\"monospace\" font-size=\"8.00\" fill=\"#7b68ee\">0</text>\n</g>\n<!-- 7&#45;&gt;0 -->\n<g id=\"edge18\" class=\"edge\">\n<title>7&#45;&gt;0</title>\n<path fill=\"none\" stroke=\"#c0c0c0\" d=\"M141.0742,-45.528C130.9598,-46.0413 117.6176,-46.7185 106.0257,-47.3068\"/>\n<polygon fill=\"#c0c0c0\" stroke=\"#c0c0c0\" points=\"105.8246,-43.8124 96.0149,-47.8149 106.1795,-50.8034 105.8246,-43.8124\"/>\n</g>\n<!-- 11 -->\n<g id=\"node4\" class=\"node\">\n<title>11</title>\n<ellipse fill=\"none\" stroke=\"#ff4500\" cx=\"290.784\" cy=\"-71.8056\" rx=\"19.1842\" ry=\"12.0417\"/>\n<text text-anchor=\"middle\" x=\"290.784\" y=\"-69.9056\" font-family=\"monospace\" font-size=\"8.00\" fill=\"#7b68ee\">11</text>\n</g>\n<!-- 11&#45;&gt;8 -->\n<g id=\"edge3\" class=\"edge\">\n<title>11&#45;&gt;8</title>\n<path fill=\"none\" stroke=\"#ffa500\" stroke-width=\"2\" d=\"M274.1594,-78.2039C263.5391,-82.2913 249.6035,-87.6547 237.8368,-92.1834\"/>\n<polygon fill=\"#ffa500\" stroke=\"#ffa500\" stroke-width=\"2\" points=\"236.268,-89.0368 228.1926,-95.8952 238.7824,-95.5697 236.268,-89.0368\"/>\n</g>\n<!-- 14 -->\n<g id=\"node9\" class=\"node\">\n<title>14</title>\n<ellipse fill=\"none\" stroke=\"#ff4500\" cx=\"343.7258\" cy=\"-26.5669\" rx=\"19.1842\" ry=\"12.0417\"/>\n<text text-anchor=\"middle\" x=\"343.7258\" y=\"-24.6669\" font-family=\"monospace\" font-size=\"8.00\" fill=\"#7b68ee\">14</text>\n</g>\n<!-- 11&#45;&gt;14 -->\n<g id=\"edge7\" class=\"edge\">\n<title>11&#45;&gt;14</title>\n<path fill=\"none\" stroke=\"#ffa500\" stroke-width=\"2\" d=\"M302.2716,-61.9895C308.7929,-56.417 317.1233,-49.2987 324.6034,-42.9069\"/>\n<polygon fill=\"#ffa500\" stroke=\"#ffa500\" stroke-width=\"2\" points=\"326.9319,-45.5211 332.2606,-36.3638 322.3844,-40.1993 326.9319,-45.5211\"/>\n</g>\n<!-- 13 -->\n<g id=\"node5\" class=\"node\">\n<title>13</title>\n<ellipse fill=\"none\" stroke=\"#ff4500\" cx=\"320.2506\" cy=\"-205.4263\" rx=\"19.1842\" ry=\"12.0417\"/>\n<text text-anchor=\"middle\" x=\"320.2506\" y=\"-203.5263\" font-family=\"monospace\" font-size=\"8.00\" fill=\"#7b68ee\">13</text>\n</g>\n<!-- 9 -->\n<g id=\"node6\" class=\"node\">\n<title>9</title>\n<ellipse fill=\"none\" stroke=\"#ff4500\" cx=\"240.9028\" cy=\"-181.7767\" rx=\"15.6129\" ry=\"12.0417\"/>\n<text text-anchor=\"middle\" x=\"240.9028\" y=\"-179.8767\" font-family=\"monospace\" font-size=\"8.00\" fill=\"#7b68ee\">9</text>\n</g>\n<!-- 13&#45;&gt;9 -->\n<g id=\"edge4\" class=\"edge\">\n<title>13&#45;&gt;9</title>\n<path fill=\"none\" stroke=\"#ffa500\" stroke-width=\"2\" d=\"M302.6408,-200.1777C291.6937,-196.915 277.4605,-192.6728 265.4196,-189.084\"/>\n<polygon fill=\"#ffa500\" stroke=\"#ffa500\" stroke-width=\"2\" points=\"266.1234,-185.6416 255.5402,-186.1394 264.1239,-192.35 266.1234,-185.6416\"/>\n</g>\n<!-- 9&#45;&gt;8 -->\n<g id=\"edge20\" class=\"edge\">\n<title>9&#45;&gt;8</title>\n<path fill=\"none\" stroke=\"#c0c0c0\" d=\"M236.958,-169.9011C232.8274,-157.4663 226.2547,-137.6796 221.2269,-122.5437\"/>\n<polygon fill=\"#c0c0c0\" stroke=\"#c0c0c0\" points=\"224.516,-121.3424 218.0419,-112.9556 217.8729,-123.5491 224.516,-121.3424\"/>\n</g>\n<!-- 15 -->\n<g id=\"node7\" class=\"node\">\n<title>15</title>\n<ellipse fill=\"none\" stroke=\"#ff4500\" cx=\"366.5795\" cy=\"-99.6682\" rx=\"19.1842\" ry=\"12.0417\"/>\n<text text-anchor=\"middle\" x=\"366.5795\" y=\"-97.7682\" font-family=\"monospace\" font-size=\"8.00\" fill=\"#7b68ee\">15</text>\n</g>\n<!-- 15&#45;&gt;11 -->\n<g id=\"edge5\" class=\"edge\">\n<title>15&#45;&gt;11</title>\n<path fill=\"none\" stroke=\"#ffa500\" stroke-width=\"2\" d=\"M349.758,-93.4846C340.0745,-89.9249 327.6991,-85.3757 316.7876,-81.3646\"/>\n<polygon fill=\"#ffa500\" stroke=\"#ffa500\" stroke-width=\"2\" points=\"317.8912,-78.0413 307.2976,-77.876 315.4759,-84.6115 317.8912,-78.0413\"/>\n</g>\n<!-- 17 -->\n<g id=\"node8\" class=\"node\">\n<title>17</title>\n<ellipse fill=\"none\" stroke=\"#ff4500\" cx=\"400.9572\" cy=\"-173.4817\" rx=\"19.1842\" ry=\"12.0417\"/>\n<text text-anchor=\"middle\" x=\"400.9572\" y=\"-171.5817\" font-family=\"monospace\" font-size=\"8.00\" fill=\"#7b68ee\">17</text>\n</g>\n<!-- 15&#45;&gt;17 -->\n<g id=\"edge10\" class=\"edge\">\n<title>15&#45;&gt;17</title>\n<path fill=\"none\" stroke=\"#ffa500\" stroke-width=\"2\" d=\"M372.1028,-111.5276C377.2452,-122.569 385.0251,-139.2735 391.2111,-152.5557\"/>\n<polygon fill=\"#ffa500\" stroke=\"#ffa500\" stroke-width=\"2\" points=\"388.1661,-154.3077 395.5608,-161.8951 394.5116,-151.3523 388.1661,-154.3077\"/>\n</g>\n<!-- 17&#45;&gt;13 -->\n<g id=\"edge6\" class=\"edge\">\n<title>17&#45;&gt;13</title>\n<path fill=\"none\" stroke=\"#ffa500\" stroke-width=\"2\" d=\"M384.625,-179.9462C373.5764,-184.3194 358.7504,-190.1877 346.1117,-195.1902\"/>\n<polygon fill=\"#ffa500\" stroke=\"#ffa500\" stroke-width=\"2\" points=\"344.5685,-192.0368 336.5585,-198.9715 347.1448,-198.5455 344.5685,-192.0368\"/>\n</g>\n<!-- 14&#45;&gt;15 -->\n<g id=\"edge21\" class=\"edge\">\n<title>14&#45;&gt;15</title>\n<path fill=\"none\" stroke=\"#c0c0c0\" d=\"M347.4996,-38.6381C350.8276,-49.2831 355.7583,-65.055 359.7736,-77.8986\"/>\n<polygon fill=\"#c0c0c0\" stroke=\"#c0c0c0\" points=\"356.5514,-79.3215 362.8759,-87.8216 363.2325,-77.2328 356.5514,-79.3215\"/>\n</g>\n<!-- 16 -->\n<g id=\"node10\" class=\"node\">\n<title>16</title>\n<ellipse fill=\"none\" stroke=\"#ff4500\" cx=\"436.0485\" cy=\"-101.1076\" rx=\"19.1842\" ry=\"12.0417\"/>\n<text text-anchor=\"middle\" x=\"436.0485\" y=\"-99.2076\" font-family=\"monospace\" font-size=\"8.00\" fill=\"#7b68ee\">16</text>\n</g>\n<!-- 16&#45;&gt;15 -->\n<g id=\"edge8\" class=\"edge\">\n<title>16&#45;&gt;15</title>\n<path fill=\"none\" stroke=\"#ffa500\" stroke-width=\"2\" d=\"M416.6975,-100.7066C410.3743,-100.5756 403.1988,-100.4269 396.2937,-100.2839\"/>\n<polygon fill=\"#ffa500\" stroke=\"#ffa500\" stroke-width=\"2\" points=\"395.8971,-96.775 385.8267,-100.067 395.752,-103.7735 395.8971,-96.775\"/>\n</g>\n<!-- 16&#45;&gt;17 -->\n<g id=\"edge22\" class=\"edge\">\n<title>16&#45;&gt;17</title>\n<path fill=\"none\" stroke=\"#c0c0c0\" d=\"M430.4104,-112.7357C425.223,-123.4345 417.4064,-139.556 411.129,-152.5027\"/>\n<polygon fill=\"#c0c0c0\" stroke=\"#c0c0c0\" points=\"407.9113,-151.1168 406.6978,-161.642 414.21,-154.1709 407.9113,-151.1168\"/>\n</g>\n<!-- 12 -->\n<g id=\"node11\" class=\"node\">\n<title>12</title>\n<ellipse fill=\"none\" stroke=\"#ff4500\" cx=\"489.9522\" cy=\"-40.4569\" rx=\"19.1842\" ry=\"12.0417\"/>\n<text text-anchor=\"middle\" x=\"489.9522\" y=\"-38.5569\" font-family=\"monospace\" font-size=\"8.00\" fill=\"#7b68ee\">12</text>\n</g>\n<!-- 12&#45;&gt;16 -->\n<g id=\"edge9\" class=\"edge\">\n<title>12&#45;&gt;16</title>\n<path fill=\"none\" stroke=\"#ffa500\" stroke-width=\"2\" d=\"M480.5629,-51.0214C472.8514,-59.6982 461.7423,-72.1978 452.5513,-82.5391\"/>\n<polygon fill=\"#ffa500\" stroke=\"#ffa500\" stroke-width=\"2\" points=\"449.7202,-80.456 445.6931,-90.2557 454.9524,-85.1062 449.7202,-80.456\"/>\n</g>\n<!-- 0&#45;&gt;4 -->\n<g id=\"edge12\" class=\"edge\">\n<title>0&#45;&gt;4</title>\n<path fill=\"none\" stroke=\"#c0c0c0\" d=\"M90.1804,-58.2821C97.9173,-65.9796 108.9249,-76.9311 118.0782,-86.0377\"/>\n<polygon fill=\"#c0c0c0\" stroke=\"#c0c0c0\" points=\"115.6606,-88.5696 125.2183,-93.1414 120.5977,-83.6072 115.6606,-88.5696\"/>\n</g>\n<!-- 1 -->\n<g id=\"node13\" class=\"node\">\n<title>1</title>\n<ellipse fill=\"none\" stroke=\"#ff4500\" cx=\"15.5563\" cy=\"-12.0208\" rx=\"15.6129\" ry=\"12.0417\"/>\n<text text-anchor=\"middle\" x=\"15.5563\" y=\"-10.1208\" font-family=\"monospace\" font-size=\"8.00\" fill=\"#7b68ee\">1</text>\n</g>\n<!-- 0&#45;&gt;1 -->\n<g id=\"edge11\" class=\"edge\">\n<title>0&#45;&gt;1</title>\n<path fill=\"none\" stroke=\"#c0c0c0\" d=\"M67.6318,-41.3769C58.921,-36.4664 47.1875,-29.852 37.0635,-24.1449\"/>\n<polygon fill=\"#c0c0c0\" stroke=\"#c0c0c0\" points=\"38.7812,-21.0954 28.3513,-19.2336 35.3437,-27.1933 38.7812,-21.0954\"/>\n</g>\n<!-- 3 -->\n<g id=\"node14\" class=\"node\">\n<title>3</title>\n<ellipse fill=\"none\" stroke=\"#ff4500\" cx=\"458.0189\" cy=\"-237.7463\" rx=\"15.6129\" ry=\"12.0417\"/>\n<text text-anchor=\"middle\" x=\"458.0189\" y=\"-235.8463\" font-family=\"monospace\" font-size=\"8.00\" fill=\"#7b68ee\">3</text>\n</g>\n<!-- 3&#45;&gt;17 -->\n<g id=\"edge15\" class=\"edge\">\n<title>3&#45;&gt;17</title>\n<path fill=\"none\" stroke=\"#c0c0c0\" d=\"M449.103,-227.7049C440.5458,-218.0676 427.4259,-203.2916 417.0419,-191.5968\"/>\n<polygon fill=\"#c0c0c0\" stroke=\"#c0c0c0\" points=\"419.6366,-189.2475 410.3797,-184.0937 414.4022,-193.8953 419.6366,-189.2475\"/>\n</g>\n<!-- 2 -->\n<g id=\"node15\" class=\"node\">\n<title>2</title>\n<ellipse fill=\"none\" stroke=\"#ff4500\" cx=\"540.8274\" cy=\"-237.4482\" rx=\"15.6129\" ry=\"12.0417\"/>\n<text text-anchor=\"middle\" x=\"540.8274\" y=\"-235.5482\" font-family=\"monospace\" font-size=\"8.00\" fill=\"#7b68ee\">2</text>\n</g>\n<!-- 3&#45;&gt;2 -->\n<g id=\"edge13\" class=\"edge\">\n<title>3&#45;&gt;2</title>\n<path fill=\"none\" stroke=\"#c0c0c0\" d=\"M473.5945,-237.6902C485.2025,-237.6484 501.3202,-237.5904 514.8647,-237.5417\"/>\n<polygon fill=\"#c0c0c0\" stroke=\"#c0c0c0\" points=\"515.0527,-241.0411 525.04,-237.5051 515.0275,-234.0412 515.0527,-241.0411\"/>\n</g>\n<!-- 6 -->\n<g id=\"node16\" class=\"node\">\n<title>6</title>\n<ellipse fill=\"none\" stroke=\"#ff4500\" cx=\"452.7063\" cy=\"-320.5927\" rx=\"15.6129\" ry=\"12.0417\"/>\n<text text-anchor=\"middle\" x=\"452.7063\" y=\"-318.6927\" font-family=\"monospace\" font-size=\"8.00\" fill=\"#7b68ee\">6</text>\n</g>\n<!-- 3&#45;&gt;6 -->\n<g id=\"edge14\" class=\"edge\">\n<title>3&#45;&gt;6</title>\n<path fill=\"none\" stroke=\"#c0c0c0\" d=\"M457.235,-249.9705C456.4267,-262.5748 455.1479,-282.5174 454.155,-298.0008\"/>\n<polygon fill=\"#c0c0c0\" stroke=\"#c0c0c0\" points=\"450.6406,-298.1148 453.4934,-308.3183 457.6263,-298.5628 450.6406,-298.1148\"/>\n</g>\n<!-- 10 -->\n<g id=\"node18\" class=\"node\">\n<title>10</title>\n<ellipse fill=\"none\" stroke=\"#ff4500\" cx=\"460.667\" cy=\"-397.5034\" rx=\"19.1842\" ry=\"12.0417\"/>\n<text text-anchor=\"middle\" x=\"460.667\" y=\"-395.6034\" font-family=\"monospace\" font-size=\"8.00\" fill=\"#7b68ee\">10</text>\n</g>\n<!-- 6&#45;&gt;10 -->\n<g id=\"edge17\" class=\"edge\">\n<title>6&#45;&gt;10</title>\n<path fill=\"none\" stroke=\"#c0c0c0\" d=\"M453.9502,-332.61C455.1234,-343.9444 456.9113,-361.2179 458.3476,-375.0945\"/>\n<polygon fill=\"#c0c0c0\" stroke=\"#c0c0c0\" points=\"454.8946,-375.7302 459.4056,-385.3166 461.8574,-375.0094 454.8946,-375.7302\"/>\n</g>\n<!-- 5 -->\n<g id=\"node17\" class=\"node\">\n<title>5</title>\n<ellipse fill=\"none\" stroke=\"#ff4500\" cx=\"617.5301\" cy=\"-245.7796\" rx=\"15.6129\" ry=\"12.0417\"/>\n<text text-anchor=\"middle\" x=\"617.5301\" y=\"-243.8796\" font-family=\"monospace\" font-size=\"8.00\" fill=\"#7b68ee\">5</text>\n</g>\n<!-- 5&#45;&gt;2 -->\n<g id=\"edge16\" class=\"edge\">\n<title>5&#45;&gt;2</title>\n<path fill=\"none\" stroke=\"#c0c0c0\" d=\"M602.0082,-244.0936C591.8196,-242.987 578.2511,-241.5132 566.4812,-240.2347\"/>\n<polygon fill=\"#c0c0c0\" stroke=\"#c0c0c0\" points=\"566.6458,-236.7321 556.3262,-239.1317 565.8898,-243.6912 566.6458,-236.7321\"/>\n</g>\n</g>\n</svg>\n"
          },
          "metadata": {},
          "execution_count": 11
        }
      ]
    },
    {
      "cell_type": "markdown",
      "source": [
        "Obtenemos un trayecto (ruta) del grafo dirigido G, iniciando del nodo 12 y finalizando en el 10.  Luego visualizamos en color naranja el recorrido iteractivo."
      ],
      "metadata": {
        "id": "T8pJwsSU3wt6"
      }
    },
    {
      "cell_type": "code",
      "source": [
        "path = ids(G, start=12, target=10)\n",
        "print(path)\n",
        "drawG_al(G, directed=True, path=path, layout=\"neato\")"
      ],
      "metadata": {
        "colab": {
          "base_uri": "https://localhost:8080/",
          "height": 825
        },
        "id": "uMimpbZPZiLN",
        "outputId": "cf50d82f-6cdd-46a3-9a88-4ef1d3306bd1"
      },
      "execution_count": 12,
      "outputs": [
        {
          "output_type": "stream",
          "name": "stdout",
          "text": [
            "[7, 0, -1, -1, 8, -1, -1, 4, 11, 13, -1, 15, -1, 17, 11, 16, 12, 15]\n"
          ]
        },
        {
          "output_type": "execute_result",
          "data": {
            "text/plain": [
              "<graphviz.dot.Digraph at 0x7f86205f9c10>"
            ],
            "image/svg+xml": "<?xml version=\"1.0\" encoding=\"UTF-8\" standalone=\"no\"?>\n<!DOCTYPE svg PUBLIC \"-//W3C//DTD SVG 1.1//EN\"\n \"http://www.w3.org/Graphics/SVG/1.1/DTD/svg11.dtd\">\n<!-- Generated by graphviz version 2.40.1 (20161225.0304)\n -->\n<!-- Title: di&#45;anyname Pages: 1 -->\n<svg width=\"494pt\" height=\"590pt\"\n viewBox=\"0.00 0.00 493.85 590.49\" xmlns=\"http://www.w3.org/2000/svg\" xmlns:xlink=\"http://www.w3.org/1999/xlink\">\n<g id=\"graph0\" class=\"graph\" transform=\"scale(1 1) rotate(0) translate(4 586.487)\">\n<title>di&#45;anyname</title>\n<polygon fill=\"#ffffff\" stroke=\"transparent\" points=\"-4,4 -4,-586.487 489.8516,-586.487 489.8516,4 -4,4\"/>\n<!-- 7 -->\n<g id=\"node1\" class=\"node\">\n<title>7</title>\n<ellipse fill=\"none\" stroke=\"#ff4500\" cx=\"81.5448\" cy=\"-145.0378\" rx=\"15.6129\" ry=\"12.0417\"/>\n<text text-anchor=\"middle\" x=\"81.5448\" y=\"-143.1378\" font-family=\"monospace\" font-size=\"8.00\" fill=\"#7b68ee\">7</text>\n</g>\n<!-- 0 -->\n<g id=\"node2\" class=\"node\">\n<title>0</title>\n<ellipse fill=\"none\" stroke=\"#ff4500\" cx=\"59.5914\" cy=\"-71.6712\" rx=\"15.6129\" ry=\"12.0417\"/>\n<text text-anchor=\"middle\" x=\"59.5914\" y=\"-69.7712\" font-family=\"monospace\" font-size=\"8.00\" fill=\"#7b68ee\">0</text>\n</g>\n<!-- 7&#45;&gt;0 -->\n<g id=\"edge1\" class=\"edge\">\n<title>7&#45;&gt;0</title>\n<path fill=\"none\" stroke=\"#ffa500\" stroke-width=\"2\" d=\"M78.0176,-133.2502C74.8041,-122.5111 69.9779,-106.3821 66.0708,-93.3248\"/>\n<polygon fill=\"#ffa500\" stroke=\"#ffa500\" stroke-width=\"2\" points=\"69.4026,-92.2503 63.1828,-83.6733 62.6964,-94.257 69.4026,-92.2503\"/>\n</g>\n<!-- 8 -->\n<g id=\"node4\" class=\"node\">\n<title>8</title>\n<ellipse fill=\"none\" stroke=\"#ff4500\" cx=\"154.2204\" cy=\"-177.829\" rx=\"15.6129\" ry=\"12.0417\"/>\n<text text-anchor=\"middle\" x=\"154.2204\" y=\"-175.929\" font-family=\"monospace\" font-size=\"8.00\" fill=\"#7b68ee\">8</text>\n</g>\n<!-- 7&#45;&gt;8 -->\n<g id=\"edge19\" class=\"edge\">\n<title>7&#45;&gt;8</title>\n<path fill=\"none\" stroke=\"#c0c0c0\" d=\"M95.2145,-151.2056C105.3655,-155.7857 119.4459,-162.1388 131.3063,-167.4902\"/>\n<polygon fill=\"#c0c0c0\" stroke=\"#c0c0c0\" points=\"130.0573,-170.7664 140.6119,-171.6889 132.9363,-164.3858 130.0573,-170.7664\"/>\n</g>\n<!-- 1 -->\n<g id=\"node3\" class=\"node\">\n<title>1</title>\n<ellipse fill=\"none\" stroke=\"#ff4500\" cx=\"15.5563\" cy=\"-12.0208\" rx=\"15.6129\" ry=\"12.0417\"/>\n<text text-anchor=\"middle\" x=\"15.5563\" y=\"-10.1208\" font-family=\"monospace\" font-size=\"8.00\" fill=\"#7b68ee\">1</text>\n</g>\n<!-- 0&#45;&gt;1 -->\n<g id=\"edge2\" class=\"edge\">\n<title>0&#45;&gt;1</title>\n<path fill=\"none\" stroke=\"#ffa500\" stroke-width=\"2\" d=\"M51.7188,-61.0069C45.5195,-52.6093 36.7258,-40.6972 29.3624,-30.7226\"/>\n<polygon fill=\"#ffa500\" stroke=\"#ffa500\" stroke-width=\"2\" points=\"32.1158,-28.5594 23.3608,-22.5928 26.4841,-32.7168 32.1158,-28.5594\"/>\n</g>\n<!-- 4 -->\n<g id=\"node5\" class=\"node\">\n<title>4</title>\n<ellipse fill=\"none\" stroke=\"#ff4500\" cx=\"129.1229\" cy=\"-103.2341\" rx=\"15.6129\" ry=\"12.0417\"/>\n<text text-anchor=\"middle\" x=\"129.1229\" y=\"-101.3341\" font-family=\"monospace\" font-size=\"8.00\" fill=\"#7b68ee\">4</text>\n</g>\n<!-- 0&#45;&gt;4 -->\n<g id=\"edge13\" class=\"edge\">\n<title>0&#45;&gt;4</title>\n<path fill=\"none\" stroke=\"#c0c0c0\" d=\"M73.3286,-77.907C82.6614,-82.1435 95.2328,-87.8501 106.0798,-92.774\"/>\n<polygon fill=\"#c0c0c0\" stroke=\"#c0c0c0\" points=\"104.8617,-96.0648 115.4142,-97.0112 107.7552,-89.6907 104.8617,-96.0648\"/>\n</g>\n<!-- 8&#45;&gt;4 -->\n<g id=\"edge3\" class=\"edge\">\n<title>8&#45;&gt;4</title>\n<path fill=\"none\" stroke=\"#ffa500\" stroke-width=\"2\" d=\"M150.2989,-166.1735C146.5636,-155.0715 140.8517,-138.0946 136.3012,-124.5694\"/>\n<polygon fill=\"#ffa500\" stroke=\"#ffa500\" stroke-width=\"2\" points=\"139.6058,-123.4157 133.0996,-115.0539 132.9713,-125.6479 139.6058,-123.4157\"/>\n</g>\n<!-- 4&#45;&gt;7 -->\n<g id=\"edge4\" class=\"edge\">\n<title>4&#45;&gt;7</title>\n<path fill=\"none\" stroke=\"#ffa500\" stroke-width=\"2\" d=\"M118.5637,-112.5117C113.02,-117.3826 106.0706,-123.4885 99.6948,-129.0906\"/>\n<polygon fill=\"#ffa500\" stroke=\"#ffa500\" stroke-width=\"2\" points=\"97.2764,-126.5563 92.0744,-135.7862 101.8968,-131.8149 97.2764,-126.5563\"/>\n</g>\n<!-- 11 -->\n<g id=\"node6\" class=\"node\">\n<title>11</title>\n<ellipse fill=\"none\" stroke=\"#ff4500\" cx=\"163.4047\" cy=\"-258.499\" rx=\"19.1842\" ry=\"12.0417\"/>\n<text text-anchor=\"middle\" x=\"163.4047\" y=\"-256.599\" font-family=\"monospace\" font-size=\"8.00\" fill=\"#7b68ee\">11</text>\n</g>\n<!-- 11&#45;&gt;8 -->\n<g id=\"edge5\" class=\"edge\">\n<title>11&#45;&gt;8</title>\n<path fill=\"none\" stroke=\"#ffa500\" stroke-width=\"2\" d=\"M162.0098,-246.2469C160.6127,-233.9751 158.4316,-214.818 156.7324,-199.8929\"/>\n<polygon fill=\"#ffa500\" stroke=\"#ffa500\" stroke-width=\"2\" points=\"160.2071,-199.4719 155.5983,-189.932 153.2521,-200.2638 160.2071,-199.4719\"/>\n</g>\n<!-- 14 -->\n<g id=\"node11\" class=\"node\">\n<title>14</title>\n<ellipse fill=\"none\" stroke=\"#ff4500\" cx=\"152.3601\" cy=\"-326.347\" rx=\"19.1842\" ry=\"12.0417\"/>\n<text text-anchor=\"middle\" x=\"152.3601\" y=\"-324.447\" font-family=\"monospace\" font-size=\"8.00\" fill=\"#7b68ee\">14</text>\n</g>\n<!-- 11&#45;&gt;14 -->\n<g id=\"edge9\" class=\"edge\">\n<title>11&#45;&gt;14</title>\n<path fill=\"none\" stroke=\"#ffa500\" stroke-width=\"2\" d=\"M161.4302,-270.6288C159.9067,-279.9875 157.7585,-293.1838 155.9352,-304.3848\"/>\n<polygon fill=\"#ffa500\" stroke=\"#ffa500\" stroke-width=\"2\" points=\"152.4698,-303.8897 154.3175,-314.3221 159.3788,-305.0144 152.4698,-303.8897\"/>\n</g>\n<!-- 13 -->\n<g id=\"node7\" class=\"node\">\n<title>13</title>\n<ellipse fill=\"none\" stroke=\"#ff4500\" cx=\"282.7565\" cy=\"-244.9298\" rx=\"19.1842\" ry=\"12.0417\"/>\n<text text-anchor=\"middle\" x=\"282.7565\" y=\"-243.0298\" font-family=\"monospace\" font-size=\"8.00\" fill=\"#7b68ee\">13</text>\n</g>\n<!-- 9 -->\n<g id=\"node8\" class=\"node\">\n<title>9</title>\n<ellipse fill=\"none\" stroke=\"#ff4500\" cx=\"236.6193\" cy=\"-175.9499\" rx=\"15.6129\" ry=\"12.0417\"/>\n<text text-anchor=\"middle\" x=\"236.6193\" y=\"-174.0499\" font-family=\"monospace\" font-size=\"8.00\" fill=\"#7b68ee\">9</text>\n</g>\n<!-- 13&#45;&gt;9 -->\n<g id=\"edge6\" class=\"edge\">\n<title>13&#45;&gt;9</title>\n<path fill=\"none\" stroke=\"#ffa500\" stroke-width=\"2\" d=\"M275.3438,-233.847C268.3746,-223.4275 257.7961,-207.6114 249.4556,-195.1415\"/>\n<polygon fill=\"#ffa500\" stroke=\"#ffa500\" stroke-width=\"2\" points=\"252.3304,-193.1441 243.8615,-186.7778 246.5119,-197.0358 252.3304,-193.1441\"/>\n</g>\n<!-- 9&#45;&gt;8 -->\n<g id=\"edge20\" class=\"edge\">\n<title>9&#45;&gt;8</title>\n<path fill=\"none\" stroke=\"#c0c0c0\" d=\"M220.732,-176.3122C209.145,-176.5764 193.1968,-176.9401 179.8218,-177.2451\"/>\n<polygon fill=\"#c0c0c0\" stroke=\"#c0c0c0\" points=\"179.6971,-173.747 169.7795,-177.4742 179.8567,-180.7452 179.6971,-173.747\"/>\n</g>\n<!-- 15 -->\n<g id=\"node9\" class=\"node\">\n<title>15</title>\n<ellipse fill=\"none\" stroke=\"#ff4500\" cx=\"228.4602\" cy=\"-309.3542\" rx=\"19.1842\" ry=\"12.0417\"/>\n<text text-anchor=\"middle\" x=\"228.4602\" y=\"-307.4542\" font-family=\"monospace\" font-size=\"8.00\" fill=\"#7b68ee\">15</text>\n</g>\n<!-- 15&#45;&gt;11 -->\n<g id=\"edge7\" class=\"edge\">\n<title>15&#45;&gt;11</title>\n<path fill=\"none\" stroke=\"#ffa500\" stroke-width=\"2\" d=\"M216.2238,-299.7888C207.0463,-292.6145 194.2806,-282.6353 183.5983,-274.2847\"/>\n<polygon fill=\"#ffa500\" stroke=\"#ffa500\" stroke-width=\"2\" points=\"185.6203,-271.4229 175.5863,-268.0216 181.3092,-276.9378 185.6203,-271.4229\"/>\n</g>\n<!-- 17 -->\n<g id=\"node10\" class=\"node\">\n<title>17</title>\n<ellipse fill=\"none\" stroke=\"#ff4500\" cx=\"287.9759\" cy=\"-341.6348\" rx=\"19.1842\" ry=\"12.0417\"/>\n<text text-anchor=\"middle\" x=\"287.9759\" y=\"-339.7348\" font-family=\"monospace\" font-size=\"8.00\" fill=\"#7b68ee\">17</text>\n</g>\n<!-- 15&#45;&gt;17 -->\n<g id=\"edge12\" class=\"edge\">\n<title>15&#45;&gt;17</title>\n<path fill=\"none\" stroke=\"#ffa500\" stroke-width=\"2\" d=\"M243.172,-317.3337C249.5143,-320.7737 257.0941,-324.8849 264.1993,-328.7387\"/>\n<polygon fill=\"#ffa500\" stroke=\"#ffa500\" stroke-width=\"2\" points=\"262.9744,-332.0559 273.4334,-333.7471 266.3118,-325.9027 262.9744,-332.0559\"/>\n</g>\n<!-- 17&#45;&gt;13 -->\n<g id=\"edge8\" class=\"edge\">\n<title>17&#45;&gt;13</title>\n<path fill=\"none\" stroke=\"#ffa500\" stroke-width=\"2\" d=\"M287.3149,-329.387C286.4717,-313.7646 284.998,-286.4594 283.9547,-267.13\"/>\n<polygon fill=\"#ffa500\" stroke=\"#ffa500\" stroke-width=\"2\" points=\"287.4461,-266.8749 283.4122,-257.0781 280.4563,-267.2523 287.4461,-266.8749\"/>\n</g>\n<!-- 14&#45;&gt;15 -->\n<g id=\"edge21\" class=\"edge\">\n<title>14&#45;&gt;15</title>\n<path fill=\"none\" stroke=\"#c0c0c0\" d=\"M170.3947,-322.3199C179.333,-320.3241 190.3311,-317.8682 200.3428,-315.6327\"/>\n<polygon fill=\"#c0c0c0\" stroke=\"#c0c0c0\" points=\"201.2944,-319.0065 210.2913,-313.4113 199.7689,-312.1747 201.2944,-319.0065\"/>\n</g>\n<!-- 16 -->\n<g id=\"node12\" class=\"node\">\n<title>16</title>\n<ellipse fill=\"none\" stroke=\"#ff4500\" cx=\"322.3789\" cy=\"-293.3939\" rx=\"19.1842\" ry=\"12.0417\"/>\n<text text-anchor=\"middle\" x=\"322.3789\" y=\"-291.4939\" font-family=\"monospace\" font-size=\"8.00\" fill=\"#7b68ee\">16</text>\n</g>\n<!-- 16&#45;&gt;15 -->\n<g id=\"edge10\" class=\"edge\">\n<title>16&#45;&gt;15</title>\n<path fill=\"none\" stroke=\"#ffa500\" stroke-width=\"2\" d=\"M303.8236,-296.5471C290.4456,-298.8206 272.1411,-301.9312 256.922,-304.5175\"/>\n<polygon fill=\"#ffa500\" stroke=\"#ffa500\" stroke-width=\"2\" points=\"256.2492,-301.0816 246.977,-306.2075 257.4221,-307.9826 256.2492,-301.0816\"/>\n</g>\n<!-- 16&#45;&gt;17 -->\n<g id=\"edge22\" class=\"edge\">\n<title>16&#45;&gt;17</title>\n<path fill=\"none\" stroke=\"#c0c0c0\" d=\"M314.3997,-304.5826C310.6655,-309.8188 306.108,-316.2094 301.8365,-322.1991\"/>\n<polygon fill=\"#c0c0c0\" stroke=\"#c0c0c0\" points=\"298.8685,-320.3329 295.9118,-330.5068 304.5677,-324.3973 298.8685,-320.3329\"/>\n</g>\n<!-- 12 -->\n<g id=\"node13\" class=\"node\">\n<title>12</title>\n<ellipse fill=\"none\" stroke=\"#ff4500\" cx=\"397.5651\" cy=\"-254.7258\" rx=\"19.1842\" ry=\"12.0417\"/>\n<text text-anchor=\"middle\" x=\"397.5651\" y=\"-252.8258\" font-family=\"monospace\" font-size=\"8.00\" fill=\"#7b68ee\">12</text>\n</g>\n<!-- 12&#45;&gt;16 -->\n<g id=\"edge11\" class=\"edge\">\n<title>12&#45;&gt;16</title>\n<path fill=\"none\" stroke=\"#ffa500\" stroke-width=\"2\" d=\"M382.7107,-262.3654C372.3099,-267.7145 358.1896,-274.9765 346.2242,-281.1303\"/>\n<polygon fill=\"#ffa500\" stroke=\"#ffa500\" stroke-width=\"2\" points=\"344.4945,-278.0841 337.2024,-285.7702 347.696,-284.3091 344.4945,-278.0841\"/>\n</g>\n<!-- 3 -->\n<g id=\"node14\" class=\"node\">\n<title>3</title>\n<ellipse fill=\"none\" stroke=\"#ff4500\" cx=\"319.1655\" cy=\"-420.8215\" rx=\"15.6129\" ry=\"12.0417\"/>\n<text text-anchor=\"middle\" x=\"319.1655\" y=\"-418.9215\" font-family=\"monospace\" font-size=\"8.00\" fill=\"#7b68ee\">3</text>\n</g>\n<!-- 3&#45;&gt;17 -->\n<g id=\"edge16\" class=\"edge\">\n<title>3&#45;&gt;17</title>\n<path fill=\"none\" stroke=\"#c0c0c0\" d=\"M314.5634,-409.1373C309.7721,-396.9729 302.1643,-377.6573 296.3119,-362.7989\"/>\n<polygon fill=\"#c0c0c0\" stroke=\"#c0c0c0\" points=\"299.5182,-361.3886 292.5969,-353.367 293.0052,-363.954 299.5182,-361.3886\"/>\n</g>\n<!-- 2 -->\n<g id=\"node15\" class=\"node\">\n<title>2</title>\n<ellipse fill=\"none\" stroke=\"#ff4500\" cx=\"398.6844\" cy=\"-445.3701\" rx=\"15.6129\" ry=\"12.0417\"/>\n<text text-anchor=\"middle\" x=\"398.6844\" y=\"-443.4701\" font-family=\"monospace\" font-size=\"8.00\" fill=\"#7b68ee\">2</text>\n</g>\n<!-- 3&#45;&gt;2 -->\n<g id=\"edge14\" class=\"edge\">\n<title>3&#45;&gt;2</title>\n<path fill=\"none\" stroke=\"#c0c0c0\" d=\"M333.7505,-425.3241C345.0718,-428.8192 361.0192,-433.7423 374.2764,-437.835\"/>\n<polygon fill=\"#c0c0c0\" stroke=\"#c0c0c0\" points=\"373.6044,-441.2905 384.1919,-440.8961 375.6693,-434.602 373.6044,-441.2905\"/>\n</g>\n<!-- 6 -->\n<g id=\"node16\" class=\"node\">\n<title>6</title>\n<ellipse fill=\"none\" stroke=\"#ff4500\" cx=\"284.4516\" cy=\"-496.1825\" rx=\"15.6129\" ry=\"12.0417\"/>\n<text text-anchor=\"middle\" x=\"284.4516\" y=\"-494.2825\" font-family=\"monospace\" font-size=\"8.00\" fill=\"#7b68ee\">6</text>\n</g>\n<!-- 3&#45;&gt;6 -->\n<g id=\"edge15\" class=\"edge\">\n<title>3&#45;&gt;6</title>\n<path fill=\"none\" stroke=\"#c0c0c0\" d=\"M313.8932,-432.2672C308.6429,-443.6652 300.4639,-461.4211 294.0577,-475.3285\"/>\n<polygon fill=\"#c0c0c0\" stroke=\"#c0c0c0\" points=\"290.7785,-474.082 289.7735,-484.6291 297.1364,-477.0107 290.7785,-474.082\"/>\n</g>\n<!-- 10 -->\n<g id=\"node18\" class=\"node\">\n<title>10</title>\n<ellipse fill=\"none\" stroke=\"#ff4500\" cx=\"263.9761\" cy=\"-570.4661\" rx=\"19.1842\" ry=\"12.0417\"/>\n<text text-anchor=\"middle\" x=\"263.9761\" y=\"-568.5661\" font-family=\"monospace\" font-size=\"8.00\" fill=\"#7b68ee\">10</text>\n</g>\n<!-- 6&#45;&gt;10 -->\n<g id=\"edge18\" class=\"edge\">\n<title>6&#45;&gt;10</title>\n<path fill=\"none\" stroke=\"#c0c0c0\" d=\"M281.1619,-508.1174C278.1647,-518.9908 273.6634,-535.3214 270.0193,-548.5419\"/>\n<polygon fill=\"#c0c0c0\" stroke=\"#c0c0c0\" points=\"266.6089,-547.7435 267.3257,-558.314 273.3572,-549.6036 266.6089,-547.7435\"/>\n</g>\n<!-- 5 -->\n<g id=\"node17\" class=\"node\">\n<title>5</title>\n<ellipse fill=\"none\" stroke=\"#ff4500\" cx=\"470.2953\" cy=\"-473.836\" rx=\"15.6129\" ry=\"12.0417\"/>\n<text text-anchor=\"middle\" x=\"470.2953\" y=\"-471.936\" font-family=\"monospace\" font-size=\"8.00\" fill=\"#7b68ee\">5</text>\n</g>\n<!-- 5&#45;&gt;2 -->\n<g id=\"edge17\" class=\"edge\">\n<title>5&#45;&gt;2</title>\n<path fill=\"none\" stroke=\"#c0c0c0\" d=\"M456.1473,-468.2121C446.5353,-464.3912 433.588,-459.2446 422.4166,-454.8039\"/>\n<polygon fill=\"#c0c0c0\" stroke=\"#c0c0c0\" points=\"423.3887,-451.4239 412.803,-450.9824 420.8029,-457.9288 423.3887,-451.4239\"/>\n</g>\n</g>\n</svg>\n"
          },
          "metadata": {},
          "execution_count": 12
        }
      ]
    },
    {
      "cell_type": "code",
      "source": [
        ""
      ],
      "metadata": {
        "id": "POH6iZS2ZmjD"
      },
      "execution_count": 12,
      "outputs": []
    }
  ]
}