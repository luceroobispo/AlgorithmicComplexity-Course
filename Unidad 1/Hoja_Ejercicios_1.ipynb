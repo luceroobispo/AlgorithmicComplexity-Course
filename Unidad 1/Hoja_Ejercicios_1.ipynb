{
 "cells": [
  {
   "attachments": {},
   "cell_type": "markdown",
   "metadata": {},
   "source": [
    "# HOJA DE EJERCICIOS 1"
   ]
  },
  {
   "attachments": {},
   "cell_type": "markdown",
   "metadata": {},
   "source": [
    "## Ejercicio 1: Uso de arreglos"
   ]
  },
  {
   "attachments": {},
   "cell_type": "markdown",
   "metadata": {},
   "source": [
    "1. Escriba un método generar(n) que genere un arreglo de tamaño n con todos sus elementos aleatorios entre 1 y 100."
   ]
  },
  {
   "cell_type": "code",
   "execution_count": 3,
   "metadata": {},
   "outputs": [
    {
     "name": "stdout",
     "output_type": "stream",
     "text": [
      "[97, 21, 57, 43, 90]\n"
     ]
    }
   ],
   "source": [
    "import random\n",
    "\n",
    "def main():\n",
    "    n = int(input(\"n= \"))\n",
    "    generar(n)\n",
    "    \n",
    "def generar(n):\n",
    "    A=[]\n",
    "    \n",
    "    for i in range(n):\n",
    "        A.append(random.randint(1,100))\n",
    "        \n",
    "    print(A)\n",
    "           \n",
    "main()"
   ]
  },
  {
   "attachments": {},
   "cell_type": "markdown",
   "metadata": {},
   "source": [
    "2. Escriba un método mostrar(int[] t) que muestra todos los elementos de un arreglo t.\n"
   ]
  },
  {
   "cell_type": "code",
   "execution_count": 5,
   "metadata": {},
   "outputs": [
    {
     "name": "stdout",
     "output_type": "stream",
     "text": [
      "[5, 6, 9, 10]\n"
     ]
    }
   ],
   "source": [
    "def main():\n",
    "    t = [5, 6, 9, 10]\n",
    "    mostrar(t)\n",
    "\n",
    "def mostrar(t):\n",
    "    print(t)\n",
    "    \n",
    "\n",
    "main()"
   ]
  },
  {
   "attachments": {},
   "cell_type": "markdown",
   "metadata": {},
   "source": [
    "3. Escriba un método reversa(int[] t) que invierte el orden de todos los elementos de un arreglo t\n",
    "(sin crear arreglos auxiliares),"
   ]
  },
  {
   "cell_type": "code",
   "execution_count": 1,
   "metadata": {},
   "outputs": [
    {
     "name": "stdout",
     "output_type": "stream",
     "text": [
      "10,9,6,5\n"
     ]
    }
   ],
   "source": [
    "def main():\n",
    "    t = [5, 6, 9, 10]\n",
    "    reversa(t)\n",
    "\n",
    "def reversa(t):\n",
    "    #t.reverse()\n",
    "    for i in range(1, len(t)):\n",
    "        print(t[i*-1], end=\",\")\n",
    "        \n",
    "    print(t[0])\n",
    "\n",
    "main()\n"
   ]
  },
  {
   "attachments": {},
   "cell_type": "markdown",
   "metadata": {},
   "source": [
    "4. Escriba un método int minArreglo(int[] t) que devuelve el elemento más pequeño de un arreglo."
   ]
  },
  {
   "cell_type": "code",
   "execution_count": 13,
   "metadata": {},
   "outputs": [
    {
     "name": "stdout",
     "output_type": "stream",
     "text": [
      "El menor elemento es:  3\n"
     ]
    }
   ],
   "source": [
    "def main():\n",
    "    t = [20, 6, 9, 10, 3, 80]\n",
    "    print(\"El menor elemento es: \", minArreglo(t))\n",
    "    \n",
    "def minArreglo(t):\n",
    "    return min(t)\n",
    "\n",
    "main()"
   ]
  },
  {
   "attachments": {},
   "cell_type": "markdown",
   "metadata": {},
   "source": [
    "5. Escriba un método int mediaArreglo(int[] t) que devuelve la media aritmética de los elementos\n",
    "de un arreglo."
   ]
  },
  {
   "cell_type": "code",
   "execution_count": 12,
   "metadata": {},
   "outputs": [
    {
     "name": "stdout",
     "output_type": "stream",
     "text": [
      "La media aritmetica es:  21.333333333333332\n"
     ]
    }
   ],
   "source": [
    "def main():\n",
    "    t = [20, 6, 9, 10, 3, 80]\n",
    "    print(\"La media aritmetica es: \", mediaArreglo(t))\n",
    "\n",
    "def mediaArreglo(t):\n",
    "    return sum(t) / len(t)\n",
    "\n",
    "main()"
   ]
  },
  {
   "attachments": {},
   "cell_type": "markdown",
   "metadata": {},
   "source": [
    "6. Escriba un método int[] ocurrencias(int[] t) que devuelve un nuevo arreglo s tal que s[i] es el\n",
    "número de veces que el entero i aparece en t."
   ]
  },
  {
   "cell_type": "code",
   "execution_count": 11,
   "metadata": {},
   "outputs": [
    {
     "name": "stdout",
     "output_type": "stream",
     "text": [
      "[4]\n"
     ]
    }
   ],
   "source": [
    "\n",
    "def main():\n",
    "    t = [20, 3, 3, 10, 3, 3]\n",
    "    print(ocurrencias(t))\n",
    "    \n",
    "def ocurrencias(t):\n",
    "    i = 3\n",
    "    cont=0\n",
    "    s = []\n",
    "    for j in t:\n",
    "        if(j==i): cont+=1 \n",
    "    \n",
    "    s.append(cont)\n",
    "    \n",
    "    return s\n",
    "    \n",
    "main()\n"
   ]
  },
  {
   "attachments": {},
   "cell_type": "markdown",
   "metadata": {},
   "source": [
    "## Ejercicio 2: Uso de arreglos"
   ]
  },
  {
   "attachments": {},
   "cell_type": "markdown",
   "metadata": {},
   "source": [
    "1. Cree un arreglo de 100 enteros.\n",
    "2. Inicialice el arreglo de forma que la casilla i contenga el entero i\n",
    "3. Muestre el arreglo\n",
    "4. Analice la complejidad de este algoritmo"
   ]
  },
  {
   "cell_type": "code",
   "execution_count": 12,
   "metadata": {},
   "outputs": [
    {
     "name": "stdout",
     "output_type": "stream",
     "text": [
      "[0, 1, 2, 3, 4, 5, 6, 7, 8, 9, 10, 11, 12, 13, 14, 15, 16, 17, 18, 19, 20, 21, 22, 23, 24, 25, 26, 27, 28, 29, 30, 31, 32, 33, 34, 35, 36, 37, 38, 39, 40, 41, 42, 43, 44, 45, 46, 47, 48, 49, 50, 51, 52, 53, 54, 55, 56, 57, 58, 59, 60, 61, 62, 63, 64, 65, 66, 67, 68, 69, 70, 71, 72, 73, 74, 75, 76, 77, 78, 79, 80, 81, 82, 83, 84, 85, 86, 87, 88, 89, 90, 91, 92, 93, 94, 95, 96, 97, 98, 99]\n"
     ]
    }
   ],
   "source": [
    "#O(1)\n",
    "\n",
    "A = [] # 1\n",
    "for i in range(100): # 100\n",
    "    A.append(i) # 1\n",
    "    \n",
    "print(A) # 1"
   ]
  }
 ],
 "metadata": {
  "kernelspec": {
   "display_name": "Python 3",
   "language": "python",
   "name": "python3"
  },
  "language_info": {
   "codemirror_mode": {
    "name": "ipython",
    "version": 3
   },
   "file_extension": ".py",
   "mimetype": "text/x-python",
   "name": "python",
   "nbconvert_exporter": "python",
   "pygments_lexer": "ipython3",
   "version": "3.11.2"
  },
  "orig_nbformat": 4
 },
 "nbformat": 4,
 "nbformat_minor": 2
}
