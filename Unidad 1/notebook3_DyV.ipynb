{
 "cells": [
  {
   "attachments": {},
   "cell_type": "markdown",
   "metadata": {},
   "source": [
    "# Divide y venceras"
   ]
  },
  {
   "attachments": {},
   "cell_type": "markdown",
   "metadata": {},
   "source": [
    "### 1. Maximo y minimo valor de una lista"
   ]
  },
  {
   "attachments": {},
   "cell_type": "markdown",
   "metadata": {},
   "source": [
    "**Simple**"
   ]
  },
  {
   "cell_type": "code",
   "execution_count": 9,
   "metadata": {},
   "outputs": [
    {
     "name": "stdout",
     "output_type": "stream",
     "text": [
      "[130, 42, 30, 28, 31, 13, 190, 165, 159, 81, 73, 188, 45, 166, 179, 22, 5, 45, 72, 63, 72, 22, 5, 14, 155]\n"
     ]
    }
   ],
   "source": [
    "import random\n",
    "arr = [random.randint(1,200) for _ in range(25)]\n",
    "print(arr)"
   ]
  },
  {
   "cell_type": "code",
   "execution_count": 10,
   "metadata": {},
   "outputs": [
    {
     "name": "stdout",
     "output_type": "stream",
     "text": [
      "190\n"
     ]
    }
   ],
   "source": [
    "print(max(arr))"
   ]
  },
  {
   "attachments": {},
   "cell_type": "markdown",
   "metadata": {},
   "source": [
    "**Fuerza bruta**"
   ]
  },
  {
   "cell_type": "code",
   "execution_count": 1,
   "metadata": {},
   "outputs": [],
   "source": [
    "def max_arr(arr):\n",
    "  max = arr[0]\n",
    "  for i in range(1, len(arr)):\n",
    "    if(arr[i] > max):\n",
    "      max = arr[i]\n",
    "  return max"
   ]
  },
  {
   "cell_type": "code",
   "execution_count": 2,
   "metadata": {},
   "outputs": [],
   "source": [
    "def min_arr(arr):\n",
    "  min = arr[0]\n",
    "  for i in range(1, len(arr)):\n",
    "    if(arr[i] < min):\n",
    "      min = arr[i]\n",
    "  return min"
   ]
  },
  {
   "cell_type": "code",
   "execution_count": 3,
   "metadata": {},
   "outputs": [
    {
     "name": "stdout",
     "output_type": "stream",
     "text": [
      "Arreglo:  [12, 9, 0, 13, 17, 18, 7, 3, 14, 21, 23, 22, 6, 27, 20, 4, 8, 26, 28, 15, 2, 29, 5, 25, 24, 19, 10, 1, 11, 16]\n",
      "Minimo:  0\n",
      "Maximo:  29\n"
     ]
    }
   ],
   "source": [
    "import random\n",
    "\n",
    "def main():\n",
    "  arr = list(range(30)) #Genera elementos consecutivos [0,1,2,...,29] de una lista\n",
    "\n",
    "  random.shuffle(arr)   #Barajar la secuencia\n",
    "  print(\"Arreglo: \", arr)\n",
    "\n",
    "  print(\"Minimo: \", min_arr(arr))\n",
    "  print(\"Maximo: \", max_arr(arr))\n",
    "\n",
    "main()"
   ]
  },
  {
   "attachments": {},
   "cell_type": "markdown",
   "metadata": {},
   "source": [
    "**Divide y venceras** sol1"
   ]
  },
  {
   "cell_type": "code",
   "execution_count": 6,
   "metadata": {},
   "outputs": [],
   "source": [
    "def obtenerMax(arr, i, j):\n",
    "  if i == j:\n",
    "    return arr[i]\n",
    "\n",
    "  medio = (i+j) // 2\n",
    "  maxi = obtenerMax(arr, i, medio)\n",
    "  maxd = obtenerMax(arr, medio + 1, j)\n",
    "  return maxi if maxi > maxd else maxd\n",
    "\n",
    "\n",
    "def obtenerMin(arr, i, j):\n",
    "  if i == j:\n",
    "    return arr[i]\n",
    "\n",
    "  medio = (i+j) // 2\n",
    "  mini = obtenerMin(arr, i, medio)\n",
    "  mind = obtenerMin(arr, medio + 1, j)\n",
    "  return mini if mini < mind else mind "
   ]
  },
  {
   "cell_type": "code",
   "execution_count": 5,
   "metadata": {},
   "outputs": [
    {
     "name": "stdout",
     "output_type": "stream",
     "text": [
      "[198, 67, 66, 145, 111, 3, 103, 23, 102, 8, 40, 71, 59, 4, 71, 129, 153, 119, 139, 106, 99, 109, 106, 93, 137]\n",
      "El minimo valor en el arreglo es:  3\n",
      "El maximo valor en el arreglo es:  198\n"
     ]
    }
   ],
   "source": [
    "import random\n",
    "\n",
    "def main():\n",
    "  arr = [random.randint(1,200) for x in range(25)]\n",
    "  print(arr)\n",
    "\n",
    "  print(\"El minimo valor en el arreglo es: \", obtenerMin(arr, 0, len(arr)-1))\n",
    "  print(\"El maximo valor en el arreglo es: \", obtenerMax(arr, 0, len(arr)-1))\n",
    "\n",
    "main()"
   ]
  },
  {
   "cell_type": "code",
   "execution_count": 9,
   "metadata": {},
   "outputs": [
    {
     "name": "stdout",
     "output_type": "stream",
     "text": [
      "[4, 193, 186, 196, 106, 33, 28, 165, 13, 105]\n",
      "196\n"
     ]
    }
   ],
   "source": [
    "def max(lst, i, d):\n",
    "    if i==d:\n",
    "        return lst[i]\n",
    "    \n",
    "    mid = (int)((i+d)//2)\n",
    "    sub1 = max(lst, i, mid)\n",
    "    sub2= max(lst, mid+1, d)\n",
    "    \n",
    "    if(sub1>=sub2): return sub1\n",
    "    else: return sub2\n",
    "    \n",
    "    \n",
    "import random\n",
    "arr = [random.randint(1,200) for x in range(10)]\n",
    "print(arr)\n",
    "print(max(arr, 0, len(arr)-1))"
   ]
  },
  {
   "attachments": {},
   "cell_type": "markdown",
   "metadata": {},
   "source": [
    "**Divide y venceras** sol2"
   ]
  },
  {
   "cell_type": "code",
   "execution_count": 7,
   "metadata": {},
   "outputs": [],
   "source": [
    "def divideAndConquer_Max(arr, ind, len):\n",
    "    maximum = -1;\n",
    "\n",
    "    if (ind >= len - 2):  #Si llegamos el penultimo indice\n",
    "        if (arr[ind] > arr[ind + 1]):\n",
    "            return arr[ind];\n",
    "        else:\n",
    "            return arr[ind + 1];\n",
    "\n",
    "    maximum = divideAndConquer_Max(arr, ind + 1, len);\n",
    "\n",
    "    if (arr[ind] > maximum):\n",
    "        return arr[ind];\n",
    "    else:\n",
    "        return maximum;\n",
    "\n",
    "\n",
    "def divideAndConquer_Min(arr, ind, len):\n",
    "    minimum = 0;\n",
    "    if (ind >= len - 2):  #Si llegamos el penultimo indice\n",
    "        if (arr[ind] < arr[ind + 1]):\n",
    "            return arr[ind];\n",
    "        else:\n",
    "            return arr[ind + 1];\n",
    "\n",
    "    minimum = divideAndConquer_Min(arr, ind + 1, len);\n",
    "\n",
    "    if (arr[ind] < minimum):\n",
    "        return arr[ind];\n",
    "    else:\n",
    "        return minimum;"
   ]
  },
  {
   "cell_type": "code",
   "execution_count": 8,
   "metadata": {},
   "outputs": [
    {
     "name": "stdout",
     "output_type": "stream",
     "text": [
      "El minimo numero en el arreglo es:  1\n",
      "El maximo numero en el arreglo es:  90\n"
     ]
    }
   ],
   "source": [
    "def main():\n",
    "  minimum, maximum = 0, -1;\n",
    "\n",
    "  # Inicializamos el arreglo\n",
    "  arr = [6, 4, 8, 90, 12, 56, 7, 1, 63];\n",
    "\n",
    "  maximum = divideAndConquer_Max(arr, 0, 9);\n",
    "  minimum = divideAndConquer_Min(arr, 0, 9);\n",
    "\n",
    "  print(\"El minimo numero en el arreglo es: \", minimum);\n",
    "  print(\"El maximo numero en el arreglo es: \", maximum);\n",
    "\n",
    "main()"
   ]
  },
  {
   "attachments": {},
   "cell_type": "markdown",
   "metadata": {},
   "source": [
    "### 2. Multiplicacion enteros"
   ]
  },
  {
   "cell_type": "code",
   "execution_count": 18,
   "metadata": {},
   "outputs": [],
   "source": [
    "def mult(a, b, n):\n",
    "  if n == 1:\n",
    "    return a * b\n",
    "  \n",
    "  # operator //: divide y redondea al entero más próximo\n",
    "  ai = a // 10**(n//2)  # Numero ai de la izquierda de n/2 digitos \n",
    "  ad = a % 10**(n//2)   # Numero ad de la derecha de n/2 digitos\n",
    "  bi = b // 10**(n//2)  # Numero bi de la izquierda de n/2 digitos \n",
    "  bd = b % 10**(n//2)   # Numero bd de la derecha de n/2 digitos \n",
    "\n",
    "  z1 = mult(ai, bi, n//2) * 10**n\n",
    "  z2 = (mult(ai, bd, n//2) + mult(ad, bi, n//2)) * 10**(n//2)\n",
    "  z3 = mult(ad, bd, n//2)\n",
    "  \n",
    "  return z1 + z2 + z3\n",
    "\n"
   ]
  },
  {
   "cell_type": "code",
   "execution_count": 20,
   "metadata": {},
   "outputs": [
    {
     "name": "stdout",
     "output_type": "stream",
     "text": [
      "7006652\n"
     ]
    }
   ],
   "source": [
    "def main():\n",
    "  a = 1234\n",
    "  b = 5678\n",
    "  n = 16  # n=9 es válido; sin embargo n=16 mejora la precision del calculo\n",
    "  res = mult(a, b, n)\n",
    "  assert res == a * b # bool. Compara si el resultado de la función es igual al producto de a*b\n",
    "  res == a * b\n",
    "  print(res)\n",
    "\n",
    "main()\n"
   ]
  },
  {
   "attachments": {},
   "cell_type": "markdown",
   "metadata": {},
   "source": [
    "### 3. Multiplicacion matrices"
   ]
  },
  {
   "cell_type": "code",
   "execution_count": 1,
   "metadata": {},
   "outputs": [],
   "source": [
    "def mul_mat(a, b, c, i, ii, j, jj):\n",
    "  if i == ii: #i=indice inicial, ii:indice final:len\n",
    "    temp = 0\n",
    "    for k in range(len(a)):\n",
    "      temp += a[i][k] * b[k][j]\n",
    "    c[i][j] = temp\n",
    "  else:\n",
    "    imid = (i + ii) // 2\n",
    "    jmid = (j + jj) // 2\n",
    "    mul_mat(a, b, c,        i, imid,        j, jmid)\n",
    "    mul_mat(a, b, c, imid + 1,   ii,        j, jmid)\n",
    "    mul_mat(a, b, c,        i, imid, jmid + 1, jj)\n",
    "    mul_mat(a, b, c, imid + 1,   ii, jmid + 1, jj)\n"
   ]
  },
  {
   "cell_type": "code",
   "execution_count": 2,
   "metadata": {},
   "outputs": [
    {
     "name": "stdout",
     "output_type": "stream",
     "text": [
      "Matriz A: \n",
      "[[4 9 3 5 6 0 4 1]\n",
      " [8 5 9 1 8 5 9 1]\n",
      " [4 0 7 6 1 2 8 1]\n",
      " [8 9 8 4 3 2 1 8]\n",
      " [9 7 4 9 5 2 7 7]\n",
      " [8 6 1 7 6 6 8 8]\n",
      " [8 0 4 8 5 6 7 0]\n",
      " [5 6 6 9 9 3 9 2]]\n",
      "Matriz B: \n",
      "[[6 8 3 6 3 2 7 4]\n",
      " [1 8 4 4 7 5 6 6]\n",
      " [0 2 5 8 4 9 3 2]\n",
      " [0 7 7 0 3 8 8 8]\n",
      " [7 7 7 5 3 7 5 5]\n",
      " [2 7 9 3 2 3 0 8]\n",
      " [8 1 1 9 4 3 7 0]\n",
      " [8 7 5 5 4 6 5 6]]\n",
      "\n",
      "Matriz C = A x B: \n",
      "[[115. 198. 149. 155. 140. 180. 194. 152.]\n",
      " [199. 236. 211. 281. 172. 234. 229. 174.]\n",
      " [107. 124. 127. 168. 101. 162. 163. 105.]\n",
      " [154. 272. 208. 218. 180. 243. 228. 213.]\n",
      " [212. 304. 233. 243. 194. 265. 298. 241.]\n",
      " [236. 311. 246. 240. 185. 243. 277. 252.]\n",
      " [151. 212. 196. 186. 119. 190. 206. 177.]\n",
      " [193. 270. 241. 247. 185. 277. 279. 221.]]\n"
     ]
    }
   ],
   "source": [
    "import numpy as np\n",
    "\n",
    "def main():\n",
    "  a = np.random.randint(10, size=(8, 8))  #Genera valores [0,9] en una matriz de 8*8\n",
    "  b = np.random.randint(10, size=(8, 8))  #Genera valores [0,9] en una matriz de 8*8\n",
    "  print(\"Matriz A: \"); print(a)\n",
    "  print(\"Matriz B: \"); print(b)\n",
    "  c = np.zeros((8, 8))  #Retorna una Matriz de 8*8 rellena de ceros\n",
    "  mul_mat(a, b, c, 0, len(a) - 1, 0, len(a) - 1)  #len(matriz) retorna el tamaño de la dimension, 8 en este caso\n",
    "  assert (c == np.matmul(a, b)).all()\n",
    "  print(\"\\nMatriz C = A x B: \")\n",
    "  print(c)\n",
    "\n",
    "main()"
   ]
  },
  {
   "attachments": {},
   "cell_type": "markdown",
   "metadata": {},
   "source": [
    "### 4. Suma de valores de una lista"
   ]
  },
  {
   "cell_type": "code",
   "execution_count": 12,
   "metadata": {},
   "outputs": [
    {
     "name": "stdout",
     "output_type": "stream",
     "text": [
      "Arreglo:  [3, 0, 1, 4, 2]\n",
      "Suma:  10\n"
     ]
    }
   ],
   "source": [
    "import random\n",
    "\n",
    "def sumarize(a, i, f):\n",
    "  if i == f:\n",
    "    return a[i]\n",
    "  else:\n",
    "    mid = (i + f) // 2\n",
    "    s1 = sumarize(a, i, mid)\n",
    "    s2 = sumarize(a, mid + 1, f)\n",
    "    return s1 + s2\n",
    "\n",
    "def main():\n",
    "  arr = list(range(5)) #Genera elementos ordenados [0,1,2,...,29] \n",
    "  #print(arr)          \n",
    "  random.shuffle(arr)   #Barajar la secuencia\n",
    "  print(\"Arreglo: \", arr)\n",
    "  \n",
    "  print(\"Suma: \", sumarize(arr, 0, len(arr) - 1))\n",
    "\n",
    "main()\n"
   ]
  },
  {
   "cell_type": "code",
   "execution_count": 14,
   "metadata": {},
   "outputs": [
    {
     "name": "stdout",
     "output_type": "stream",
     "text": [
      "[83, 8, 89, 30, 10]\n",
      "220\n"
     ]
    }
   ],
   "source": [
    "import random\n",
    "\n",
    "def sum1(lst):\n",
    "    if len(lst)==1:\n",
    "        return lst[0]\n",
    "    \n",
    "    mid = (int)(len(lst)/2)\n",
    "    sub1 = lst[:mid]\n",
    "    sub2 = lst[mid:]\n",
    "    \n",
    "    return sum1(sub1) + sum1(sub2)\n",
    "    \n",
    "    \n",
    "arr = [random.randint(1,100) for x in range(5)]\n",
    "print(arr)\n",
    "print(sum1(arr))\n",
    "\n"
   ]
  },
  {
   "cell_type": "code",
   "execution_count": 15,
   "metadata": {},
   "outputs": [
    {
     "name": "stdout",
     "output_type": "stream",
     "text": [
      "[187, 98, 33, 77, 183]\n",
      "578\n"
     ]
    }
   ],
   "source": [
    "def sum2(lst, i, d):\n",
    "    if i==d:\n",
    "        return lst[i]\n",
    "    \n",
    "    mid = (int)((i+d)//2)\n",
    "    sub1 = sum2(lst, i, mid)\n",
    "    sub2= sum2(lst, mid+1, d)\n",
    "    \n",
    "    return sub1 + sub2\n",
    "    \n",
    "    \n",
    "import random\n",
    "arr = [random.randint(1,200) for x in range(5)]\n",
    "print(arr)\n",
    "print(sum2(arr, 0, len(arr)-1))"
   ]
  },
  {
   "attachments": {},
   "cell_type": "markdown",
   "metadata": {},
   "source": [
    "### Multiplicacion de elementos de una lista"
   ]
  },
  {
   "cell_type": "code",
   "execution_count": 17,
   "metadata": {},
   "outputs": [
    {
     "name": "stdout",
     "output_type": "stream",
     "text": [
      "[107, 6, 101]\n",
      "64842\n"
     ]
    }
   ],
   "source": [
    "def multpl(lst, i, d):\n",
    "    if i==d:\n",
    "        return lst[i]\n",
    "    \n",
    "    mid = (int)((i+d)//2)\n",
    "    sub1 = multpl(lst, i, mid)\n",
    "    sub2= multpl(lst, mid+1, d)\n",
    "    \n",
    "    return sub1 * sub2\n",
    "    \n",
    "    \n",
    "import random\n",
    "arr = [random.randint(1,200) for x in range(3)]\n",
    "print(arr)\n",
    "print(multpl(arr, 0, len(arr)-1))"
   ]
  },
  {
   "attachments": {},
   "cell_type": "markdown",
   "metadata": {},
   "source": [
    "### Dado dos arrays, indica si son iguales"
   ]
  },
  {
   "cell_type": "code",
   "execution_count": 15,
   "metadata": {},
   "outputs": [
    {
     "name": "stdout",
     "output_type": "stream",
     "text": [
      "Arreglo 1:  [7, 8, 8, 8, 7]\n",
      "Arreglo 2:  [7, 7, 7, 7, 7]\n",
      "7   7\n",
      "8   7\n",
      "8   7\n",
      "8   7\n",
      "7   7\n",
      "No son iguales\n"
     ]
    }
   ],
   "source": [
    "def iguales(lst1, lst2, i, d):\n",
    "    if(i==d):\n",
    "        print(lst1[i], \" \", lst2[i])\n",
    "        if(lst1[i]==lst2[i]):\n",
    "            return -1\n",
    "        else:\n",
    "            return i\n",
    "    \n",
    "    mid = (int)((i+d)/2)\n",
    "    sub1 = iguales(lst1, lst2, i, mid)\n",
    "    sub2= iguales(lst1, lst2, mid+1, d)\n",
    "    \n",
    "    if(sub1 != -1): \n",
    "        return sub1\n",
    "    if(sub2 != -1): \n",
    "        return sub2\n",
    "    \n",
    "    return -1\n",
    "\n",
    "\n",
    "import random\n",
    "arr1 = [7,8,8,8,7]\n",
    "arr2 = [7,7,7,7,7]\n",
    "print(\"Arreglo 1: \", arr1)\n",
    "print(\"Arreglo 2: \", arr2)\n",
    "if(iguales(arr1, arr2, 0, len(arr1)-1)== -1): print(\"Son iguales\")\n",
    "else: print(\"No son iguales\")"
   ]
  },
  {
   "attachments": {},
   "cell_type": "markdown",
   "metadata": {},
   "source": [
    "### Media"
   ]
  },
  {
   "cell_type": "code",
   "execution_count": 19,
   "metadata": {},
   "outputs": [
    {
     "name": "stdout",
     "output_type": "stream",
     "text": [
      "[84, 188, 18, 93, 91]\n",
      "94.8\n"
     ]
    }
   ],
   "source": [
    "def media(lst, i, d):\n",
    "    if i==d:\n",
    "        return lst[i]\n",
    "    \n",
    "    mid = (int)((i+d)/2)\n",
    "    sub1 = media(lst, i, mid)\n",
    "    sub2= media(lst, mid+1, d)\n",
    "    \n",
    "    return sub1 + sub2\n",
    "    \n",
    "    \n",
    "import random\n",
    "arr = [random.randint(1,200) for x in range(5)]\n",
    "print(arr)\n",
    "print(media(arr, 0, len(arr)-1)/5)"
   ]
  },
  {
   "attachments": {},
   "cell_type": "markdown",
   "metadata": {},
   "source": [
    "### CONTADOR DE PALABRAS"
   ]
  },
  {
   "cell_type": "code",
   "execution_count": 1,
   "metadata": {},
   "outputs": [
    {
     "name": "stdout",
     "output_type": "stream",
     "text": [
      "Bienvenidos alumnos al curso de Complejidad Algoritmica\n",
      "Las competencias del curso son:\n",
      "Competencia General: Razonamiento Cuantitativo de nivel 1 para Ingeniería de software y nivel 2 para Ciencias de computación\n",
      "Competencia Específica de Responsabilidad Etica y Profesional de nivel 1 para Ciencias de Computación e Ingeniería de Software.\n",
      "Numero de Palabras 48\n"
     ]
    }
   ],
   "source": [
    "texto = '''Bienvenidos alumnos al curso de Complejidad Algoritmica\n",
    "Las competencias del curso son:\n",
    "Competencia General: Razonamiento Cuantitativo de nivel 1 para Ingeniería de software y nivel 2 para Ciencias de computación\n",
    "Competencia Específica de Responsabilidad Etica y Profesional de nivel 1 para Ciencias de Computación e Ingeniería de Software.'''\n",
    "\n",
    "print (texto)\n",
    "    \n",
    "palabras = texto.split()\n",
    "cont=0\n",
    "while (cont < len(palabras)):\n",
    "    palabra = palabras[cont]\n",
    "    cont = cont + 1\n",
    "\n",
    "print(\"Numero de Palabras\", cont)"
   ]
  },
  {
   "cell_type": "code",
   "execution_count": 3,
   "metadata": {},
   "outputs": [
    {
     "name": "stdout",
     "output_type": "stream",
     "text": [
      "Bienvenidos alumnos al curso de Complejidad Algoritmica\n",
      "  Las competencias del curso son:\n",
      "  Competencia General: Razonamiento Cuantitativo de nivel 1 para Ingeniería de software y nivel 2 para Ciencias de computación\n",
      "  Competencia Específica de Responsabilidad Etica y Profesional de nivel 1 para Ciencias de Computación e Ingeniería de Software.\n",
      "Numero de Palabras DC:  48\n"
     ]
    }
   ],
   "source": [
    "def ContPalabrasDC(palabras):\n",
    "    if (len(palabras) == 1):\n",
    "        return 1\n",
    "    count = len(palabras)\n",
    "    sub1 = ContPalabrasDC(palabras[0:count//2])\n",
    "    sub2 =ContPalabrasDC(palabras[count//2:])\n",
    "    \n",
    "    return sub1 + sub2\n",
    "        \n",
    "\n",
    "\n",
    "def main():\n",
    "  texto = '''Bienvenidos alumnos al curso de Complejidad Algoritmica\n",
    "  Las competencias del curso son:\n",
    "  Competencia General: Razonamiento Cuantitativo de nivel 1 para Ingeniería de software y nivel 2 para Ciencias de computación\n",
    "  Competencia Específica de Responsabilidad Etica y Profesional de nivel 1 para Ciencias de Computación e Ingeniería de Software.'''\n",
    "\n",
    "  print (texto)\n",
    "\n",
    "  palabras = texto.split()\n",
    "  cont = ContPalabrasDC(palabras)\n",
    "  print(\"Numero de Palabras DC: \", cont)\n",
    "\n",
    "main()"
   ]
  }
 ],
 "metadata": {
  "kernelspec": {
   "display_name": "Python 3",
   "language": "python",
   "name": "python3"
  },
  "language_info": {
   "codemirror_mode": {
    "name": "ipython",
    "version": 3
   },
   "file_extension": ".py",
   "mimetype": "text/x-python",
   "name": "python",
   "nbconvert_exporter": "python",
   "pygments_lexer": "ipython3",
   "version": "3.11.2"
  },
  "orig_nbformat": 4
 },
 "nbformat": 4,
 "nbformat_minor": 2
}
