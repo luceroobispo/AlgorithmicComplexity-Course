{
 "cells": [
  {
   "attachments": {},
   "cell_type": "markdown",
   "metadata": {},
   "source": [
    "# HOJA DE EJERCICIOS 2"
   ]
  },
  {
   "attachments": {},
   "cell_type": "markdown",
   "metadata": {},
   "source": [
    "### BUBBLE SORT"
   ]
  },
  {
   "cell_type": "code",
   "execution_count": 1,
   "metadata": {},
   "outputs": [
    {
     "name": "stdout",
     "output_type": "stream",
     "text": [
      "[1, 42, 64, 65, 79, 100, 567]\n"
     ]
    }
   ],
   "source": [
    "## BUBBLE SORT CORTO\n",
    "\n",
    "def bubbleSort(lst):\n",
    "    n = len(lst)\n",
    "    \n",
    "    for i in range(n):\n",
    "        for j in range(n-i-1):\n",
    "            \n",
    "            if(lst[j]>lst[j+1]):\n",
    "                lst[j],lst[j+1] = lst[j+1], lst[j] #swap\n",
    "                \n",
    "    return lst\n",
    "\n",
    "lst=[65,567,42,1,64,79,100]\n",
    "lst_sorted=bubbleSort(lst)\n",
    "print(lst)"
   ]
  },
  {
   "cell_type": "code",
   "execution_count": 2,
   "metadata": {},
   "outputs": [
    {
     "name": "stdout",
     "output_type": "stream",
     "text": [
      "Arreglo Ordenado:  [0, 1, 2, 3, 4, 5, 6, 7, 8]\n"
     ]
    }
   ],
   "source": [
    "# BUBBLE SORT CON BOOLEANOS\n",
    "\n",
    "def ordBurbujaModificado(arr :list):\n",
    "  n = len(arr)\n",
    "  for i in range(n-1):  #\"i\" solo nos sirve para el recorrido, no se usa como indice del arreglo \n",
    "    ordenado = True\n",
    "    for j in range(n - (i + 1)): #\"j\" se usa como indice del arreglo\n",
    "      if (arr[j] > arr[j + 1]):\n",
    "        aux = arr[j]\n",
    "        arr[j] = arr[j + 1]\n",
    "        arr[j + 1] = aux\n",
    "        ordenado = False\n",
    "    if (ordenado): \n",
    "      break\n",
    "  \n",
    "def main():\n",
    "  numeros = [4, 5, 2, 7, 8, 1, 0, 3, 6 ]\n",
    "  ordBurbujaModificado(numeros)\n",
    "  print(\"Arreglo Ordenado: \", numeros)\n",
    "\n",
    "\n",
    "main()"
   ]
  },
  {
   "attachments": {},
   "cell_type": "markdown",
   "metadata": {},
   "source": [
    "### POLINOMIOS"
   ]
  },
  {
   "cell_type": "code",
   "execution_count": 3,
   "metadata": {},
   "outputs": [
    {
     "name": "stdout",
     "output_type": "stream",
     "text": [
      "0 -> 4\n",
      "1 -> 2\n",
      "2 -> 33\n",
      "3 -> 24\n",
      "4 -> 54\n",
      "5 -> 21\n",
      "6 -> 199\n",
      "7 -> 123\n"
     ]
    }
   ],
   "source": [
    "## Enumerar la lista\n",
    "\n",
    "a = [4, 2, 33, 24, 54, 21, 199, 123]\n",
    "for i, elem in enumerate(a): #enumerate(a, start=3) 3->4, 4->2, etc.\n",
    "    print(f\"{i} -> {elem}\")\n",
    "    "
   ]
  },
  {
   "cell_type": "code",
   "execution_count": 4,
   "metadata": {},
   "outputs": [
    {
     "name": "stdout",
     "output_type": "stream",
     "text": [
      "123\n",
      "199\n",
      "21\n",
      "54\n",
      "24\n",
      "33\n",
      "2\n",
      "4\n"
     ]
    }
   ],
   "source": [
    "# Invertir el orden de la lista\n",
    "\n",
    "for elem in reversed(a):\n",
    "    print(elem)"
   ]
  },
  {
   "cell_type": "code",
   "execution_count": 5,
   "metadata": {},
   "outputs": [
    {
     "data": {
      "text/plain": [
       "760.0"
      ]
     },
     "execution_count": 5,
     "metadata": {},
     "output_type": "execute_result"
    }
   ],
   "source": [
    "# x0: Variable del polinomio\n",
    "# a: Lista de coeficientes del Polinomio\n",
    "#def solve(x0, a):\n",
    "def solve(x0:int, a :list):\n",
    "    ans = 0.0\n",
    "    for i, elem in enumerate(reversed(a)):\n",
    "        ans += elem * x0 ** i\t\t# ** es potencia, \"i\" es el grado de la variable      \n",
    "\n",
    "    return ans\n",
    "\n",
    "\t\n",
    "solve(2, [10, 20, 0, 15, 5, 50])"
   ]
  },
  {
   "attachments": {},
   "cell_type": "markdown",
   "metadata": {},
   "source": [
    "10x2'5 + 20x2'4 + 0x2'3 + 15x2'2 + 5x2'1 + 50x2'0 = 760.0 :)))))"
   ]
  },
  {
   "attachments": {},
   "cell_type": "markdown",
   "metadata": {},
   "source": [
    "### EJERCICIO 3\n",
    "SEND + M O R E = M O N E Y\n",
    "\n",
    "- Describe el espacio de búsqueda de este problema.\n",
    "- Diseñe un algoritmo de fuerza bruta para resolver este problema.\n",
    "- Diseñe un algoritmo de backtracking p a r a resolver este problema."
   ]
  },
  {
   "attachments": {},
   "cell_type": "markdown",
   "metadata": {},
   "source": [
    "#**Fuerza Bruta**\n",
    "\n",
    "**REF: set**\n",
    "Sets are used to store multiple items in a single variable.\n",
    "A set is a collection which is unordered (meaning: the items will appear in a random order), unchangeable*, and unindexed.\n",
    "Do not allow duplicate values.\n",
    "A set can contain different data types\n",
    "* Note: Set items are unchangeable, but you can remove items and add new items."
   ]
  },
  {
   "cell_type": "code",
   "execution_count": 6,
   "metadata": {},
   "outputs": [
    {
     "name": "stdout",
     "output_type": "stream",
     "text": [
      "Solucion (send, more, money) = \n"
     ]
    },
    {
     "data": {
      "text/plain": [
       "(9567, 1085, 10652)"
      ]
     },
     "execution_count": 6,
     "metadata": {},
     "output_type": "execute_result"
    }
   ],
   "source": [
    "# Funcion para pasar los argumentos a una estructura \"set\"\n",
    "# La funcion con el set nos garantizan que los elementos no esten duplicados: solo se contemplarán las letras que participan en la criptoaritmetica   \n",
    "def distinct(*args):\n",
    "  return len(set(args)) == len(args) # set asegura que las letra no tengan valores distintos\n",
    "\n",
    "def send_more_money_FB():\n",
    "  for s in range(1, 10): #de 1 a 10 porque s no puede ser 0, ya que no existe ningun numero que empiece con 0\n",
    "    for e in range(0, 10):\n",
    "      for n in range(0, 10):\n",
    "        for d in range(0, 10):\n",
    "          for m in range(1, 10): #de 1 a 10 porque m no puede ser 0, ya que no existe ningun numero que empiece con 0\n",
    "            for o in range(0, 10):\n",
    "              for r in range(0, 10):\n",
    "                for y in range(0, 10):\n",
    "                  if distinct(s, e, n, d, m, o, r, y):\n",
    "                    send = 1000 * s + 100 * e + 10 * n + d\n",
    "                    more = 1000 * m + 100 * o + 10 * r + e\n",
    "                    money = 10000 * m + 1000 * o + 100 * n + 10 * e + y\n",
    "                    if send + more == money:\n",
    "                      print(\"Solucion (send, more, money) = \")\n",
    "                      return send, more, money\n",
    "  \n",
    "\n",
    "\n",
    "send_more_money_FB()"
   ]
  },
  {
   "attachments": {},
   "cell_type": "markdown",
   "metadata": {},
   "source": [
    "#**Usando Backtracking**"
   ]
  },
  {
   "cell_type": "code",
   "execution_count": 7,
   "metadata": {},
   "outputs": [
    {
     "name": "stdout",
     "output_type": "stream",
     "text": [
      "SEND=8324 + MORE=0913 = MONEY=09237\n",
      "SEND=7316 + MORE=0823 = MONEY=08139\n",
      "SEND=8432 + MORE=0914 = MONEY=09346\n",
      "SEND=6415 + MORE=0734 = MONEY=07149\n",
      "SEND=6419 + MORE=0724 = MONEY=07143\n",
      "SEND=7429 + MORE=0814 = MONEY=08243\n",
      "SEND=7531 + MORE=0825 = MONEY=08356\n",
      "SEND=8542 + MORE=0915 = MONEY=09457\n",
      "SEND=6524 + MORE=0735 = MONEY=07259\n",
      "SEND=7534 + MORE=0825 = MONEY=08359\n",
      "SEND=7539 + MORE=0815 = MONEY=08354\n",
      "SEND=7643 + MORE=0826 = MONEY=08469\n",
      "SEND=7649 + MORE=0816 = MONEY=08465\n",
      "SEND=5731 + MORE=0647 = MONEY=06378\n",
      "SEND=3712 + MORE=0467 = MONEY=04179\n",
      "SEND=5732 + MORE=0647 = MONEY=06379\n",
      "SEND=3719 + MORE=0457 = MONEY=04176\n",
      "SEND=3821 + MORE=0468 = MONEY=04289\n",
      "SEND=6851 + MORE=0738 = MONEY=07589\n",
      "SEND=6853 + MORE=0728 = MONEY=07581\n",
      "SEND=2817 + MORE=0368 = MONEY=03185\n",
      "SEND=2819 + MORE=0368 = MONEY=03187\n",
      "SEND=3829 + MORE=0458 = MONEY=04287\n",
      "SEND=5849 + MORE=0638 = MONEY=06487\n",
      "SEND=9567 + MORE=1085 = MONEY=10652\n"
     ]
    }
   ],
   "source": [
    "# Convert the WORD in NUMBER\n",
    "# For each word: Get the values of dictionary using the key. After that, generate the number\n",
    "# Example:\n",
    "#   codex =  {'Y': 1, 'M': 4, 'S': 2, 'N': 9, 'E': 8, 'R': 3, 'D': 7, 'O': 5}\n",
    "#   word = \"SEND\"\n",
    "#     for ch=\"S\" num = S\n",
    "#     for ch=\"E\" num = S*10 + E\n",
    "#     for ch=\"N\" num = (S*10 + E)*10 + N\n",
    "#     for ch=\"D\" num = ((S*10 + E)*10 + N)*10 + D\n",
    "def conv(codex, word):\n",
    "    num = 0\n",
    "    for ch in word:\n",
    "        num = num*10 + codex[ch]\n",
    "\n",
    "    return num\n",
    "\n",
    "\n",
    "def check(perm, alpha: list, w1, w2, w3: str):\n",
    "    codex = {ch: d for ch, d in zip(alpha, perm)} #dictionary {letter:value}\n",
    "    # Example codex:\n",
    "    # codex =  {'Y': 1, 'M': 4, 'S': 2, 'N': 9, 'E': 8, 'R': 3, 'D': 7, 'O': 5}\n",
    "    a = conv(codex, w1) # a is the numeric value of SEND\n",
    "    b = conv(codex, w2) # b is the numeric value of MORE\n",
    "    c = conv(codex, w3) # c is the numeric value of MONEY\n",
    "\n",
    "    # Print all the possible ADDING (without constraints)\n",
    "    if a + b == c:\n",
    "        s = f\"{w1}={a:0{len(w1)}} + {w2}={b:0{len(w2)}} = {w3}={c:0{len(w3)}}\"\n",
    "        print(s)\n",
    "        # Example:\n",
    "        # SEND=6853 + MORE=0728 = MONEY=07581 [NO VALID]\n",
    "        # SEND=9567 + MORE=1085 = MONEY=10652 [VALID]\n",
    "\n",
    "\n",
    "def genPerm(digits, perm: list, r, alpha, w1, w2, w3):\n",
    "    # perm: is the list for the permutations (empty in the begin)\n",
    "    \n",
    "    # Base Condition to Recursivity\n",
    "    if len(perm) == r: #len of permut == len of alphabet (send + more = money)\n",
    "        check(perm, alpha, w1, w2, w3)\n",
    "    else:\n",
    "        # Call the recursity\n",
    "        # enumeration: keep a count of iterations (start=0)\n",
    "        # Example: i,d -> [(0, 0), (1, 1), (2, 2), ...(9:9)]\n",
    "        for i, d in enumerate(digits):\n",
    "            #print(\"i=\", i, \", d=\", d, \", digits[:i] = \", digits[:i],  \", digits[i+1:] = \", digits[i+1:], \", digits[:i] + digits[i+1:] = \", digits[:i] + digits[i+1:])\n",
    "            genPerm(digits[:i] + digits[i+1:], perm + [d], r, alpha, w1, w2, w3)\n",
    "            \"\"\"\n",
    "            Example:\n",
    "            i= 0 , d= 0 , digits[:i] =  [] , digits[i+1:] =  [1, 2, 3, 4, 5, 6, 7, 8, 9] , digits[:i] + digits[i+1:] =  [1, 2, 3, 4, 5, 6, 7, 8, 9]\n",
    "            i= 0 , d= 1 , digits[:i] =  [] , digits[i+1:] =  [2, 3, 4, 5, 6, 7, 8, 9] , digits[:i] + digits[i+1:] =  [2, 3, 4, 5, 6, 7, 8, 9]\n",
    "            i= 0 , d= 2 , digits[:i] =  [] , digits[i+1:] =  [3, 4, 5, 6, 7, 8, 9] , digits[:i] + digits[i+1:] =  [3, 4, 5, 6, 7, 8, 9]\n",
    "            i= 0 , d= 3 , digits[:i] =  [] , digits[i+1:] =  [4, 5, 6, 7, 8, 9] , digits[:i] + digits[i+1:] =  [4, 5, 6, 7, 8, 9]\n",
    "            i= 0 , d= 4 , digits[:i] =  [] , digits[i+1:] =  [5, 6, 7, 8, 9] , digits[:i] + digits[i+1:] =  [5, 6, 7, 8, 9]\n",
    "            i= 0 , d= 5 , digits[:i] =  [] , digits[i+1:] =  [6, 7, 8, 9] , digits[:i] + digits[i+1:] =  [6, 7, 8, 9]\n",
    "            i= 0 , d= 6 , digits[:i] =  [] , digits[i+1:] =  [7, 8, 9] , digits[:i] + digits[i+1:] =  [7, 8, 9]\n",
    "            i= 0 , d= 7 , digits[:i] =  [] , digits[i+1:] =  [8, 9] , digits[:i] + digits[i+1:] =  [8, 9]\n",
    "            i= 1 , d= 8 , digits[:i] =  [7] , digits[i+1:] =  [9] , digits[:i] + digits[i+1:] =  [7, 9]\n",
    "            i= 2 , d= 9 , digits[:i] =  [7, 8] , digits[i+1:] =  [] , digits[:i] + digits[i+1:] =  [7, 8]\n",
    "            i= 1 , d= 7 , digits[:i] =  [6] , digits[i+1:] =  [8, 9] , digits[:i] + digits[i+1:] =  [6, 8, 9]\n",
    "            ...\n",
    "            ...\n",
    "            ...\n",
    "            i= 2 , d= 7 , digits[:i] =  [4, 5] , digits[i+1:] =  [] , digits[:i] + digits[i+1:] =  [4, 5]\n",
    "            i= 3 , d= 7 , digits[:i] =  [4, 5, 6] , digits[i+1:] =  [8, 9] , digits[:i] + digits[i+1:] =  [4, 5, 6, 8, 9]\n",
    "            i= 0 , d= 4 , digits[:i] =  [] , digits[i+1:] =  [5, 6, 8, 9] , digits[:i] + digits[i+1:] =  [5, 6, 8, 9]\n",
    "            \"\"\"  \n",
    "\n",
    "def solve(w1, w2, w3: str):\n",
    "    alphabet = set(w1 + w2 + w3) #Use set to avoid the duplicates\n",
    "    genPerm([i for i in range(10)], [], len(alphabet), alphabet, w1, w2, w3) #(digits as list, empty list, len(alphabet), alphabet, w1, w2, w3)\n",
    "\n",
    "\n",
    "solve(\"SEND\", \"MORE\", \"MONEY\")\n",
    "\n",
    "\n",
    "# ANSWER:\n",
    "# SEND=9567 + MORE=1085 = MONEY=10652"
   ]
  },
  {
   "attachments": {},
   "cell_type": "markdown",
   "metadata": {},
   "source": [
    "### EJERCICIO 4\n",
    "Problema del pastor (acertijo del l o b o, la cabra y la col)\n",
    "\n",
    "- Describa el espacio de búsqueda de este problema.\n",
    "- Diseñe un método de fuerza bruta para resolver este problema.\n",
    "- Diseñe un método de backtracking p a r a resolver este problema"
   ]
  },
  {
   "cell_type": "code",
   "execution_count": 2,
   "metadata": {},
   "outputs": [
    {
     "name": "stdout",
     "output_type": "stream",
     "text": [
      "Con backtracking\n",
      "Regresa Oveja\n",
      "Se lleva:  Lobo\n",
      "Se lleva:  Col\n",
      "Se lleva:  Oveja\n",
      "El orden es ['Lobo', 'Col', 'Oveja']\n",
      "Regresa Oveja\n",
      "Se lleva:  Col\n",
      "Regresa Oveja\n",
      "Se lleva:  Lobo\n",
      "Se lleva:  Oveja\n",
      "El orden es ['Col', 'Lobo', 'Oveja']\n"
     ]
    }
   ],
   "source": [
    "\n",
    "# Con Backtracking\n",
    "def pastor(nivel, n, cola, pila):\n",
    "    if (nivel == n):\n",
    "        print(\"El orden es\", pila)\n",
    "    else:\n",
    "        j = nivel\n",
    "        while (j < n):\n",
    "            if ((nivel == 0 and cola[0] == \"Oveja\") or (nivel == 1 and cola[0] == \"Oveja\")):\n",
    "                print(\"Regresa\", cola[0])\n",
    "                pila.append(cola.pop(0))\n",
    "                cola.append(pila.pop())\n",
    "            else:\n",
    "                print(\"Se lleva: \", cola[0])\n",
    "                pila.append(cola.pop(0))\n",
    "                pastor(nivel+1, n, cola, pila)\n",
    "                cola.append(pila.pop())\n",
    "            j = j+1\n",
    "\n",
    "#  Con Fuerza Bruta\n",
    "\n",
    "\n",
    "def pastorFB(cola):\n",
    "    for i in cola:\n",
    "        for j in cola:\n",
    "            for k in cola:\n",
    "                if ((i != \"Oveja\" and j != \"Oveja\") and (i != j) and (i != k) and (j != k)):\n",
    "                    print(i, j, k)\n",
    "\n",
    "\n",
    "def main():\n",
    "    cola = [\"Oveja\", \"Lobo\", \"Col\"]\n",
    "    pila = []\n",
    "    nivel = 0\n",
    "    n = len(cola)\n",
    "    \n",
    "    print(\"Con backtracking\")\n",
    "    pastor(nivel, n, cola, pila)\n",
    "\n",
    "    #print(\"Con fuerza bruta\")\n",
    "    #pastorFB(cola)\n",
    "\n",
    "\n",
    "main()\n"
   ]
  },
  {
   "cell_type": "code",
   "execution_count": 8,
   "metadata": {},
   "outputs": [
    {
     "name": "stdout",
     "output_type": "stream",
     "text": [
      "\n",
      "Un día, un granjero fue al mercado y compró un lobo, una cabra y una col. Para volver a su casa tenía que cruzar un río. El granjero dispone de una barca para cruzar a la otra orilla, pero en la barca solo caben él y una de sus compras.\n",
      "Si el lobo se queda solo con la cabra se la come, si la cabra se queda sola con la col se la come.\n",
      "El reto del granjero era cruzar él mismo y dejar sus compras a la otra orilla del río, dejando cada compra intacta. ¿Cómo lo hizo?\n",
      "\n",
      "************************************************************ \n",
      "\n",
      "#### ESTADO ACTUAL ####\n",
      "\n",
      "['Lobo', 'Granjero', 'Cabra', 'Col'] | []\n",
      "\n",
      "¿Qué deseas llevar al otro lado del rio?\n"
     ]
    }
   ],
   "source": [
    "import time # Only needed in console version\n",
    "\n",
    "names = {\"G\": \"Granjero\",\n",
    "         \"L\": \"Lobo\",\n",
    "         \"C\": \"Cabra\",\n",
    "         \"O\": \"Col\"}\n",
    "\n",
    "#Constraints\n",
    "forbidden_states = [{\"L\", \"C\"}, {\"C\", \"O\"}, {\"C\", \"O\", \"L\"}]\n",
    "\n",
    "\n",
    "def print_story():\n",
    "    print(\"\"\"\n",
    "Un día, un granjero fue al mercado y compró un lobo, una cabra y una col. Para volver a su casa tenía que cruzar un río. El granjero dispone de una barca para cruzar a la otra orilla, pero en la barca solo caben él y una de sus compras.\n",
    "Si el lobo se queda solo con la cabra se la come, si la cabra se queda sola con la col se la come.\n",
    "El reto del granjero era cruzar él mismo y dejar sus compras a la otra orilla del río, dejando cada compra intacta. ¿Cómo lo hizo?\n",
    "\"\"\")\n",
    "    input(\"Presione enter para continuar!\")\n",
    "\n",
    "\n",
    "def clear():\n",
    "    print(\"*\" * 60, \"\\n\")  # prints page break instead of clearing screen.\n",
    "\n",
    "\n",
    "def print_state(state):\n",
    "    left_bank, right_bank = state\n",
    "    print(\"#### ESTADO ACTUAL ####\")\n",
    "    print()\n",
    "    left_bank_display = [names[item] for item in left_bank]\n",
    "    right_bank_display = [names[item] for item in right_bank]\n",
    "    print(left_bank_display, \"|\", right_bank_display if right_bank else \"[]\")\n",
    "    print()\n",
    "\n",
    "\n",
    "def get_move():\n",
    "    print(\"¿Qué deseas llevar al otro lado del rio?\")\n",
    "    answer = \"\"\n",
    "    while answer.upper() not in [\"G\", \"L\", \"C\", \"O\"]:\n",
    "        answer = input(\"Solo al Pastor (G), Lobo (L), Cabra (C) or Col (O)? \")\n",
    "\n",
    "    return answer.upper()\n",
    "\n",
    "\n",
    "def process_move(move, state):\n",
    "    # We need to \"think ahead\" to see if move is illegal.\n",
    "    temp_state = [state[0].copy(), state[1].copy()] #Temporal state\n",
    "    containing_set = 0 if move in state[0] else 1 #if letter is in left => containing_set=0\n",
    "    if \"G\" not in state[containing_set]:\n",
    "        print(\"Movimiento no Válido.\")\n",
    "        print()\n",
    "        time.sleep(1)\n",
    "        return state\n",
    "    if containing_set == 0:\n",
    "        temp_state[0].difference_update({move, \"G\"})\n",
    "        temp_state[1].update([move, \"G\"])\n",
    "    elif containing_set == 1:\n",
    "        temp_state[1].difference_update({move, \"G\"})\n",
    "        temp_state[0].update([move, \"G\"])\n",
    "    if temp_state[0] not in forbidden_states and temp_state[1] not in forbidden_states:\n",
    "        state = [temp_state[0].copy(), temp_state[1].copy()]\n",
    "    else:\n",
    "        print(\"Movimiento no Válido.\")\n",
    "        print()\n",
    "        time.sleep(1)\n",
    "    print()\n",
    "    return state\n",
    "\n",
    "\n",
    "def is_win(state):\n",
    "    return state[1] == {\"G\", \"L\", \"C\", \"O\"} #set: final Status in right side (right set)\n",
    "\n",
    "\n",
    "def main():\n",
    "    # REF: Sets are unordered, so you cannot be sure in which order the items will appear.\n",
    "    left_bank = {\"G\", \"L\", \"C\", \"O\"}  #set\n",
    "    right_bank = set()  #empty set\n",
    "    state = [left_bank, right_bank] #list of two sets left and right\n",
    "    print_story()\n",
    "    while not is_win(state):\n",
    "        clear()\n",
    "        print_state(state)\n",
    "        move = get_move() #Return the choice (letter) selected\n",
    "        state = process_move(move, state)\n",
    "\n",
    "    print(\"Bien hecho - Lo resolviste!\")\n",
    "\n",
    "\n",
    "main()\n",
    "\n",
    "\n",
    "'''\n",
    "SOLUCION:\n",
    "\n",
    "1. Deja a la cabra al otro lado\n",
    "2. Vuelve\n",
    "3. Deja al lobo en el otro lado\n",
    "4. Regresa con la cabra\n",
    "5. Deja la col en el otro lado\n",
    "6. Vuelve\n",
    "7. Deja la cabra al otro lado\n",
    "\n",
    "De modo, que hay siete pasos: cuatro hacia la derecha y tres hacia la izquierda.\n",
    "'''\n"
   ]
  },
  {
   "attachments": {},
   "cell_type": "markdown",
   "metadata": {},
   "source": [
    "### N-Reinas"
   ]
  },
  {
   "cell_type": "code",
   "execution_count": null,
   "metadata": {},
   "outputs": [],
   "source": [
    "def validar(reinas, N, nivel):\n",
    "  #print(\"En funcion validar \", \"reinas: \", reinas, \"N=\", N, \"nivel=\", nivel)\n",
    "  i = 0 #columna a recorrer\n",
    "  while (i < nivel):\n",
    "    # RESTRICCIONES\n",
    "    # Validamos que las reinas no esten en la misma fila o en la misma columna => (reinas[i] == reinas[nivel])\n",
    "    # Validamos que las reinas no esten en la misma diagonal => (abs(nivel - i) == abs(reinas[nivel] - reinas[i]))\n",
    "    if ((reinas[i] == reinas[nivel]) or (abs(nivel - i) == abs(reinas[nivel] - reinas[i]))):\n",
    "      return False\n",
    "    i = i + 1\n",
    "  return True\n",
    "\n",
    "contX = 0\n",
    "\n",
    "def nReinas(reinas, N, nivel, cont):\n",
    "  # Caso Base para la recursividad: Todas las reinas colocadas en el arreglo (tablero) y validadas\n",
    "  if (nivel == N): #Nivel del Arbol == Numero de Reinas\n",
    "    global contX\n",
    "    contX = contX + 1\n",
    "    print(\"Solucion \", contX, \" : \")\n",
    "    print(\"reinas[]: \", reinas)\n",
    "    print()\n",
    "\n",
    "  # Seguimos buscando las reinas por colocar => \n",
    "\t# 1) Validamos las posiciones\n",
    "\t# 2) Ejecutamos nuevamente (incluye volver atrás en el nivel o columna)\n",
    "  else:\n",
    "    # Recorre el Nivel (o columna del Tablero), para validar que no se \"coman\" entre las reinas\n",
    "    print (\"nivel = \", nivel, \", reinas[nivel] = \", reinas[nivel], \" N = \", N)\n",
    "    reinas[nivel] = 0 #Ubicamos a la Reina en la primera fila (0) de la columna \"nivel\"\n",
    "    while(reinas[nivel] < N): #Mientras no pasemos de la ultima fila, de la columna \"nivel\"\n",
    "      if (validar(reinas, N, nivel)): #Validamos que no se \"coman\" las reinas\n",
    "        nReinas(reinas, N, nivel + 1, cont) #Recursividad: Pasamos al siguiente nivel del arbol (siguiente columna del Tablero)\n",
    "      reinas[nivel] = reinas[nivel] + 1 #Pasamos a la siguiente fila\n",
    "\n",
    "\n",
    "##################\n",
    "###    main    ###\n",
    "##################\n",
    "def main():\n",
    "  nivel = 0 \t# Nivel en el Arbol (o columna en el Tablero)\n",
    "  N = 4\t      # Numero de Reinas por defecto\n",
    "  N = int(input(\"Ingresar la cantidad de reinas : \"))\n",
    "\n",
    "  reinas = []\n",
    "  for i in range(int(N)):\n",
    "      reinas.append(-1) #Incializamos el arreglo con -1, porque aun no hay reinas ubicadas\n",
    "\n",
    "  nReinas(reinas, N, nivel, 0)\n",
    "\n",
    "main()"
   ]
  }
 ],
 "metadata": {
  "kernelspec": {
   "display_name": "Python 3",
   "language": "python",
   "name": "python3"
  },
  "language_info": {
   "codemirror_mode": {
    "name": "ipython",
    "version": 3
   },
   "file_extension": ".py",
   "mimetype": "text/x-python",
   "name": "python",
   "nbconvert_exporter": "python",
   "pygments_lexer": "ipython3",
   "version": "3.11.2"
  },
  "orig_nbformat": 4,
  "vscode": {
   "interpreter": {
    "hash": "5238573367df39f7286bb46f9ff5f08f63a01a80960060ce41e3c79b190280fa"
   }
  }
 },
 "nbformat": 4,
 "nbformat_minor": 2
}
