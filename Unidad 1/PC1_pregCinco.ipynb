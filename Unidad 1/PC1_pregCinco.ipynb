{
 "cells": [
  {
   "attachments": {},
   "cell_type": "markdown",
   "metadata": {},
   "source": [
    "# PC1"
   ]
  },
  {
   "attachments": {},
   "cell_type": "markdown",
   "metadata": {},
   "source": [
    "Escriba un algoritmo en Python que implemente una función recursiva, que reciba como parametro un número n>0, y devuelva la suma de los dobles de los números desde 1 a n (ambos incluidos).\n",
    "\n",
    "Ejemplo:\n",
    "\n",
    "Input\n",
    "\n",
    "n = 4\n",
    "\n",
    "DobleSuma (n)\n",
    "\n",
    "Output\n",
    "\n",
    "20\n",
    "\n",
    "(equivale a 2*1+2*2+2*3+2*4)"
   ]
  },
  {
   "cell_type": "code",
   "execution_count": 5,
   "metadata": {},
   "outputs": [
    {
     "name": "stdout",
     "output_type": "stream",
     "text": [
      "20\n"
     ]
    }
   ],
   "source": [
    "\n",
    "\n",
    "i = 1;\n",
    "suma = 0\n",
    "\n",
    "def DobleSuma(n):\n",
    "    global i\n",
    "    global suma\n",
    "    \n",
    "    if(i>n):\n",
    "        return suma\n",
    "    \n",
    "    j = i*2\n",
    "    suma = suma + j\n",
    "    i = i + 1\n",
    "    return DobleSuma(n)\n",
    "    \n",
    "    \n",
    "n = 4\n",
    "print(DobleSuma(n))"
   ]
  }
 ],
 "metadata": {
  "kernelspec": {
   "display_name": "Python 3",
   "language": "python",
   "name": "python3"
  },
  "language_info": {
   "codemirror_mode": {
    "name": "ipython",
    "version": 3
   },
   "file_extension": ".py",
   "mimetype": "text/x-python",
   "name": "python",
   "nbconvert_exporter": "python",
   "pygments_lexer": "ipython3",
   "version": "3.11.2"
  },
  "orig_nbformat": 4
 },
 "nbformat": 4,
 "nbformat_minor": 2
}
