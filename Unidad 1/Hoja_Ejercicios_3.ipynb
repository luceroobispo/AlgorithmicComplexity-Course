{
 "cells": [
  {
   "attachments": {},
   "cell_type": "markdown",
   "metadata": {},
   "source": [
    "\n",
    "# HOJA DE EJERCICIOS 3"
   ]
  },
  {
   "attachments": {},
   "cell_type": "markdown",
   "metadata": {},
   "source": [
    "### 3. QUICKSORT"
   ]
  },
  {
   "cell_type": "code",
   "execution_count": 9,
   "metadata": {},
   "outputs": [
    {
     "name": "stdout",
     "output_type": "stream",
     "text": [
      "Lista inicial:  [91, 146, 90, 159, 115, 144, 114, 123, 180, 44, 15, 43, 158, 14, 72, 22, 65, 95, 110, 92]\n",
      "Lista ordenada:  [14, 15, 22, 43, 44, 65, 72, 90, 91, 92, 95, 110, 114, 115, 123, 144, 146, 158, 159, 180]\n"
     ]
    }
   ],
   "source": [
    "import random\n",
    "\n",
    "def quicksort(lst, left, right):\n",
    "    if left >= right:                               #if the length of the subarray is equal or less than 1, we have a sorted list\n",
    "        return\n",
    "    \n",
    "    pivotIndex = partition(lst, left, right) \n",
    "    quicksort(lst, left, pivotIndex-1)              # sort all elements that are less than the pivot element\n",
    "    quicksort(lst, pivotIndex+1, right)             # sort all elements that are greater than the pivot element\n",
    "        \n",
    "def partition(lst, left, right):\n",
    "    i = left                                        #start index\n",
    "    j = right - 1                                   #end index\n",
    "\n",
    "    pivot = lst[right]                              # last element of the list\n",
    "    \n",
    "    \n",
    "    while i < j:\n",
    "        while i < right and lst[i] < pivot: \n",
    "            i+=1\n",
    "        while j > left and lst[j] >= pivot:\n",
    "            j-=1\n",
    "            \n",
    "        if i < j:\n",
    "            lst[i], lst[j] = lst[j], lst[i]         #swap\n",
    "    \n",
    "    \n",
    "    if lst[i] > pivot:\n",
    "        lst[i], lst[right] = lst[right], lst[i]     #swap\n",
    "        \n",
    "    return i\n",
    "\n",
    "\n",
    "\n",
    "lista = [random.randint(1,200) for x in range(20)]\n",
    "print(\"Lista inicial: \", lista)\n",
    "quicksort(lista, 0, len(lista)-1)\n",
    "print(\"Lista ordenada: \", lista)\n",
    "\n"
   ]
  },
  {
   "cell_type": "markdown",
   "metadata": {},
   "source": [
    "### 1. MERGE SORT"
   ]
  },
  {
   "cell_type": "code",
   "execution_count": 1,
   "metadata": {},
   "outputs": [
    {
     "data": {
      "text/plain": [
       "[0, 1, 1, 2, 3, 3, 4, 5, 5, 5, 6, 8, 9, 9]"
      ]
     },
     "execution_count": 1,
     "metadata": {},
     "output_type": "execute_result"
    }
   ],
   "source": [
    "# Main libraries\n",
    "import math\n",
    "import random\n",
    "# Efficiente merge function\n",
    "def merge(u, v):\n",
    "    t = []\n",
    "    i, j = 0, 0\n",
    "    m, n = len(u), len(v)\n",
    "    u.append(math.inf)\n",
    "    v.append(math.inf)\n",
    "    \n",
    "    for k in range(m + n):\n",
    "        if u[i] < v[j]:\n",
    "            t.append(u[i])\n",
    "            i += 1\n",
    "        else:\n",
    "            t.append(v[j])\n",
    "            j += 1\n",
    "    \n",
    "    return t\n",
    "\n",
    "# Merge-sort recursive algorithm\n",
    "def merge_sort(l):\n",
    "    n = len(l)\n",
    "    \n",
    "    if n > 1:\n",
    "        u = l[0 : n//2]\n",
    "        v = l[n//2 : n]\n",
    "        \n",
    "        u = merge_sort(u)\n",
    "        v = merge_sort(v)\n",
    "        return merge(u, v)\n",
    "    \n",
    "    return l\n",
    "\n",
    "# Test values\n",
    "l = [3, 1, 4, 1, 5, 9, 2, 6, 5, 3, 5, 8, 9, 0]\n",
    "\n",
    "# Run algorithm\n",
    "merge_sort(l)\n"
   ]
  },
  {
   "attachments": {},
   "cell_type": "markdown",
   "metadata": {},
   "source": [
    "### Problema del abecedario desordenado - Merge Sort"
   ]
  },
  {
   "cell_type": "code",
   "execution_count": 9,
   "metadata": {},
   "outputs": [
    {
     "name": "stdout",
     "output_type": "stream",
     "text": [
      "Desordenado: ['H', 'D', 'S', 'C', 'O', 'Q', 'L', 'F', 'A', 'R', 'K', 'T', 'X', 'Z', 'P', 'M', 'I', 'V', 'B', 'G', 'U', 'N', 'Y', 'J', 'E', 'W']\n",
      "Ordenado: ['Z', 'Y', 'X', 'W', 'V', 'U', 'T', 'S', 'R', 'Q', 'P', 'O', 'N', 'M', 'L', 'K', 'J', 'I', 'H', 'G', 'F', 'E', 'D', 'C', 'B', 'A']\n"
     ]
    }
   ],
   "source": [
    "#problema del abecedario desordenado\n",
    "import random\n",
    "\n",
    "def fisher_yates_suffle(abc:list):\n",
    "    list_range = range(0, len(abc))\n",
    "    \n",
    "    for i in list_range:\n",
    "        j = random.randint(list_range[0], list_range[-1])\n",
    "        abc[i], abc[j] = abc[j], abc[i]\n",
    "    return abc\n",
    "    \n",
    "def DC_mergesort(arr: list):\n",
    "    if(len(arr)<=1):\n",
    "        return\n",
    "    \n",
    "    #Divide\n",
    "    mid = len(arr)//2\n",
    "    left = arr[:mid]\n",
    "    right = arr[mid:]\n",
    "        \n",
    "    #Conquere\n",
    "    DC_mergesort(left)\n",
    "    DC_mergesort(right)\n",
    "        \n",
    "        \n",
    "    #Merch    \n",
    "    # pivotes para izquierda, derecha y arreglo respectivamente\n",
    "    i, j, k = 0, 0, 0 \n",
    "        \n",
    "    while i < len(left) and j < len(right):\n",
    "        if left[i] >= right[j]:                 #Change >=, <= depends on which order you want\n",
    "            arr[k] = left[i]\n",
    "            i += 1\n",
    "        else:\n",
    "            arr[k] = right[j]\n",
    "            j+=1\n",
    "            \n",
    "        k+=1\n",
    "    \n",
    "    while i < len(left):\n",
    "        arr[k] = left[i]\n",
    "        i+=1\n",
    "        k+=1\n",
    "        \n",
    "    while j < len(right):\n",
    "        arr[k] = right[j]\n",
    "        j+=1\n",
    "        k+=1\n",
    "            \n",
    "    \n",
    "def main():\n",
    "    abc = [None] * 26\n",
    "    for i in range(0,26): \n",
    "       abc[i] = chr(i+65) #ascii\n",
    "    \n",
    "    abecedario = fisher_yates_suffle(abc)\n",
    "    print(\"Desordenado:\",abecedario)\n",
    "    \n",
    "    DC_mergesort(abecedario)\n",
    "    print('Ordenado:',abecedario)\n",
    "    \n",
    "main()"
   ]
  },
  {
   "attachments": {},
   "cell_type": "markdown",
   "metadata": {},
   "source": [
    "### 2. Dividir plabras de un texto"
   ]
  },
  {
   "cell_type": "code",
   "execution_count": 3,
   "metadata": {},
   "outputs": [
    {
     "name": "stdout",
     "output_type": "stream",
     "text": [
      "El numero de palabras es:  9\n"
     ]
    }
   ],
   "source": [
    "def CantPalabras(lst):\n",
    "    if not lst:\n",
    "        return 0\n",
    "    if(len(lst)==1): \n",
    "        return 1\n",
    "    \n",
    "    mitad = len(lst)//2\n",
    "    sub1 = lst[:mitad]\n",
    "    sub2 = lst[mitad:]\n",
    "    \n",
    "    return CantPalabras(sub1) + CantPalabras(sub2)\n",
    "    \n",
    "texto = \"Hola estoy en el curso de complejidad algoritmica xd\"\n",
    "respuesta = CantPalabras(texto.split())\n",
    "print(\"El numero de palabras es: \", respuesta)"
   ]
  }
 ],
 "metadata": {
  "kernelspec": {
   "display_name": "Python 3",
   "language": "python",
   "name": "python3"
  },
  "language_info": {
   "codemirror_mode": {
    "name": "ipython",
    "version": 3
   },
   "file_extension": ".py",
   "mimetype": "text/x-python",
   "name": "python",
   "nbconvert_exporter": "python",
   "pygments_lexer": "ipython3",
   "version": "3.11.2"
  },
  "orig_nbformat": 4
 },
 "nbformat": 4,
 "nbformat_minor": 2
}
