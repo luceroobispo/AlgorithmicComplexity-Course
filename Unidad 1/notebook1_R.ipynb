{
 "cells": [
  {
   "attachments": {},
   "cell_type": "markdown",
   "metadata": {},
   "source": [
    "# Analisis de Tiempo"
   ]
  },
  {
   "attachments": {},
   "cell_type": "markdown",
   "metadata": {},
   "source": [
    "### variables y salida"
   ]
  },
  {
   "cell_type": "code",
   "execution_count": 3,
   "metadata": {},
   "outputs": [
    {
     "name": "stdout",
     "output_type": "stream",
     "text": [
      "18\n"
     ]
    }
   ],
   "source": [
    "edad = 18\n",
    "print(edad)"
   ]
  },
  {
   "attachments": {},
   "cell_type": "markdown",
   "metadata": {},
   "source": [
    "### ciclo for"
   ]
  },
  {
   "cell_type": "code",
   "execution_count": 2,
   "metadata": {},
   "outputs": [
    {
     "name": "stdout",
     "output_type": "stream",
     "text": [
      "Linea 0\n",
      "Linea 1\n",
      "Linea 2\n",
      "Linea 3\n",
      "Linea 4\n"
     ]
    }
   ],
   "source": [
    "for i in range(5):\n",
    "    print(\"Linea\", i)"
   ]
  },
  {
   "attachments": {},
   "cell_type": "markdown",
   "metadata": {},
   "source": [
    "### uso de funcion"
   ]
  },
  {
   "cell_type": "code",
   "execution_count": 6,
   "metadata": {},
   "outputs": [
    {
     "name": "stdout",
     "output_type": "stream",
     "text": [
      "El doble de 5 es:  10\n"
     ]
    }
   ],
   "source": [
    "'''\n",
    "int funcion(int n){\n",
    "    return 2*n;\n",
    "}\n",
    "'''\n",
    "\n",
    "def funcion(n):\n",
    "    return 2*n\n",
    "\n",
    "print(\"El doble de 5 es: \", funcion(5))"
   ]
  },
  {
   "attachments": {},
   "cell_type": "markdown",
   "metadata": {},
   "source": [
    "### Listas"
   ]
  },
  {
   "cell_type": "code",
   "execution_count": null,
   "metadata": {},
   "outputs": [],
   "source": [
    "arreglo = []\n",
    "for i in range(5):\n",
    "    arreglo.append(i)\n",
    "    \n"
   ]
  },
  {
   "attachments": {},
   "cell_type": "markdown",
   "metadata": {},
   "source": [
    "# HOJA DE EJERCICIOS RECURSIVOS"
   ]
  },
  {
   "attachments": {},
   "cell_type": "markdown",
   "metadata": {},
   "source": [
    "**Estructura solucion recursiva:**\n",
    "- Firma: Nombre de funcion y parametros\n",
    "- Casos bases: if() return 0 y/o 1\n",
    "- Llamados recursivos: debajo de la funcion parada o del else, llamar a la funcion recursiva cambiando el valor de uno o mas de sus parametros\n",
    "- Formar solucion a partir de subsoluciones"
   ]
  },
  {
   "attachments": {},
   "cell_type": "markdown",
   "metadata": {},
   "source": [
    "## Bubble sort"
   ]
  },
  {
   "cell_type": "code",
   "execution_count": 9,
   "metadata": {},
   "outputs": [
    {
     "name": "stdout",
     "output_type": "stream",
     "text": [
      "[1, 42, 64, 65, 79, 100, 567]\n"
     ]
    }
   ],
   "source": [
    "## Iterative\n",
    "\n",
    "def bubbleSort(lst):\n",
    "    n = len(lst)-1\n",
    "    sorted = False\n",
    "    \n",
    "    while not sorted:\n",
    "        sorted = True\n",
    "    \n",
    "        for i in range(0, n):              # for(i=0; i<n-1; i++)\n",
    "            if(lst[i] > lst[i+1]): \n",
    "                sorted = False\n",
    "                lst[i], lst[i+1] = lst[i+1], lst[i]\n",
    "\n",
    "    return lst\n",
    "\n",
    "\n",
    "lst=[65,567,42,1,64,79,100]\n",
    "lst_sorted=bubbleSort(lst)\n",
    "print(lst)\n"
   ]
  },
  {
   "cell_type": "code",
   "execution_count": 54,
   "metadata": {},
   "outputs": [
    {
     "name": "stdout",
     "output_type": "stream",
     "text": [
      "[567, 100, 79, 65, 64, 42, 1]\n"
     ]
    }
   ],
   "source": [
    "## Iterative 2\n",
    "\n",
    "def bubbleSort(lst):\n",
    "    n = len(lst)-1\n",
    "    sorted = False\n",
    "    \n",
    "    while not sorted:\n",
    "        sorted = True\n",
    "    \n",
    "        for i, elem in enumerate(lst):              # for(i=0; i<n-1; i++)\n",
    "            if(i==(len(lst)-1)):        #skip iteration if this is the last index\n",
    "                continue\n",
    "            \n",
    "            if(elem < lst[i+1]): \n",
    "                sorted = False\n",
    "                lst = swap(lst, i, i+1)\n",
    "\n",
    "    return lst\n",
    "\n",
    "def swap(lst: list, a:int, b:int):\n",
    "    temp = lst[a]\n",
    "    lst[a] = lst[b]\n",
    "    lst[b] = temp\n",
    "    return lst\n",
    "\n",
    "lst=[65,567,42,1,64,79,100]\n",
    "lst_sorted=bubbleSort(lst)\n",
    "print(lst)\n"
   ]
  },
  {
   "cell_type": "code",
   "execution_count": 51,
   "metadata": {},
   "outputs": [
    {
     "name": "stdout",
     "output_type": "stream",
     "text": [
      "[1, 42, 64, 65, 79, 100, 567]\n"
     ]
    }
   ],
   "source": [
    "## Recursive\n",
    "\n",
    "def recursiveBubbleSort(lst, n):\n",
    "    if(n==1):\n",
    "        return lst\n",
    "    \n",
    "    for i, elem in enumerate(lst):\n",
    "        if(i==(len(lst)-1)):        #skip iteration if this is the last index\n",
    "            continue\n",
    "            \n",
    "        if(elem > lst[i+1]):\n",
    "            lst = swap(lst, i, i+1)\n",
    "        \n",
    "    return recursiveBubbleSort(lst, n-1)\n",
    "\n",
    "def swap(lst: list, a:int, b:int):\n",
    "    temp = lst[a]\n",
    "    lst[a] = lst[b]\n",
    "    lst[b] = temp\n",
    "    return lst\n",
    "    \n",
    "    \n",
    "lst=[65,567,42,1,64,79,100]\n",
    "n = len(lst)\n",
    "lst_sorted=recursiveBubbleSort(lst, n)\n",
    "print(lst)\n",
    "    \n"
   ]
  },
  {
   "attachments": {},
   "cell_type": "markdown",
   "metadata": {},
   "source": [
    "## Factorial"
   ]
  },
  {
   "cell_type": "code",
   "execution_count": 17,
   "metadata": {},
   "outputs": [
    {
     "data": {
      "text/plain": [
       "24"
      ]
     },
     "execution_count": 17,
     "metadata": {},
     "output_type": "execute_result"
    }
   ],
   "source": [
    "def factorial(n):\n",
    "    if(n==0):                           # la funcion de parada es cuando n es 0\n",
    "        return 1\n",
    "    else:\n",
    "        return n*factorial(n-1)         # n va disminuyendo en 1\n",
    "\n",
    "\n",
    "factorial(4)"
   ]
  },
  {
   "attachments": {},
   "cell_type": "markdown",
   "metadata": {},
   "source": [
    "## Fibonacci sequence"
   ]
  },
  {
   "cell_type": "code",
   "execution_count": 22,
   "metadata": {},
   "outputs": [
    {
     "name": "stdout",
     "output_type": "stream",
     "text": [
      "13\n"
     ]
    }
   ],
   "source": [
    "#OJO: elif es un esle if, un else con condicion\n",
    "\n",
    "def fibonacci(n):\n",
    "    ans =0\n",
    "    if n==0:                #el fibonacci de 0 es 0\n",
    "        return 0\n",
    "    elif n==1:              #el fibonacci de 1 es 1\n",
    "        return 1\n",
    "    else:\n",
    "        return fibonacci(n-1) + fibonacci(n-2)\n",
    "    \n",
    "print(fibonacci(7))"
   ]
  },
  {
   "attachments": {},
   "cell_type": "markdown",
   "metadata": {},
   "source": [
    "## Sum of digits of a number"
   ]
  },
  {
   "cell_type": "code",
   "execution_count": 35,
   "metadata": {},
   "outputs": [
    {
     "data": {
      "text/plain": [
       "7"
      ]
     },
     "execution_count": 35,
     "metadata": {},
     "output_type": "execute_result"
    }
   ],
   "source": [
    "def sum(n):\n",
    "    if n==0:\n",
    "        return 0\n",
    "    else:\n",
    "        return int(n%10) + sum(int(n/10))\n",
    "\n",
    "sum(142)\n"
   ]
  },
  {
   "attachments": {},
   "cell_type": "markdown",
   "metadata": {},
   "source": [
    "## Power of a number"
   ]
  },
  {
   "cell_type": "code",
   "execution_count": 37,
   "metadata": {},
   "outputs": [
    {
     "data": {
      "text/plain": [
       "16"
      ]
     },
     "execution_count": 37,
     "metadata": {},
     "output_type": "execute_result"
    }
   ],
   "source": [
    "def power(n, i):\n",
    "    if i==0:            #numero elevado a la 0 es 1\n",
    "        return 1\n",
    "    else:\n",
    "        return n * power(n, i-1)\n",
    "\n",
    "\n",
    "power(2,4)"
   ]
  },
  {
   "attachments": {},
   "cell_type": "markdown",
   "metadata": {},
   "source": [
    "## Minimo comun multiplo"
   ]
  },
  {
   "cell_type": "code",
   "execution_count": 47,
   "metadata": {},
   "outputs": [
    {
     "name": "stdout",
     "output_type": "stream",
     "text": [
      "10.0\n"
     ]
    }
   ],
   "source": [
    "def mcm(a,b):\n",
    "    t = a % b\n",
    "    if t == 0:\n",
    "        return a\n",
    "    return a * mcm(b, t) / t\n",
    "\n",
    "print(mcm(2, 5))\n",
    "            \n"
   ]
  }
 ],
 "metadata": {
  "kernelspec": {
   "display_name": "Python 3",
   "language": "python",
   "name": "python3"
  },
  "language_info": {
   "codemirror_mode": {
    "name": "ipython",
    "version": 3
   },
   "file_extension": ".py",
   "mimetype": "text/x-python",
   "name": "python",
   "nbconvert_exporter": "python",
   "pygments_lexer": "ipython3",
   "version": "3.11.2"
  },
  "orig_nbformat": 4
 },
 "nbformat": 4,
 "nbformat_minor": 2
}
