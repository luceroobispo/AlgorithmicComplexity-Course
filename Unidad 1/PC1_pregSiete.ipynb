{
 "cells": [
  {
   "attachments": {},
   "cell_type": "markdown",
   "metadata": {},
   "source": [
    "# PC1"
   ]
  },
  {
   "attachments": {},
   "cell_type": "markdown",
   "metadata": {},
   "source": [
    "Escriba un algoritmo en Python que implemente una funcion recursiva llamada tot_palabras_por_linea, que reciba por parámetro un texto txt que puede contener n lineas, y retorne el numero de palabras por linea en dicho texto.\n",
    "\n",
    "Ejemplo:\n",
    "\n",
    "txt=\"Lorem ipsum dolor sit amet, consectetur adipiscing elit.\\n Nam arcu arcu, euismod mollis rhoncus quis, egestas at leo.\\n Maecenas luctus neque nulla, vel imperdiet lacus ultrices vel.\"\n",
    "\n",
    "Input\n",
    "-----\n",
    "tot_palabras_por_linea(txt)\n",
    "\n",
    "Output\n",
    "------\n",
    "8\n",
    "10\n",
    "9"
   ]
  },
  {
   "cell_type": "code",
   "execution_count": 73,
   "metadata": {},
   "outputs": [
    {
     "name": "stdout",
     "output_type": "stream",
     "text": [
      "8\n",
      "10\n"
     ]
    },
    {
     "data": {
      "text/plain": [
       "9"
      ]
     },
     "execution_count": 73,
     "metadata": {},
     "output_type": "execute_result"
    }
   ],
   "source": [
    "cont = 1\n",
    "i = 0\n",
    "txt=\"Lorem ipsum dolor sit amet, consectetur adipiscing elit.\\n Nam arcu arcu, euismod mollis rhoncus quis, egestas at leo.\\n Maecenas luctus neque nulla, vel imperdiet lacus ultrices vel.\"\n",
    "lst = txt.split()\n",
    "\n",
    "def tot_palabras_por_linea(lst):\n",
    "    \n",
    "    global i\n",
    "    global cont\n",
    "    \n",
    "    \n",
    "    if(i>=len(lst)-1):\n",
    "        return cont\n",
    "    \n",
    "    elem = lst[i]\n",
    "    cont = cont+1\n",
    "    if(elem[len(elem)-1] == \".\" and i<len(lst)-1):\n",
    "        print(cont-1)\n",
    "        cont = 1\n",
    "       \n",
    "    i = i +1\n",
    "            \n",
    "    return tot_palabras_por_linea(lst)\n",
    "\n",
    "\n",
    "\n",
    "tot_palabras_por_linea(lst)\n"
   ]
  }
 ],
 "metadata": {
  "kernelspec": {
   "display_name": "Python 3",
   "language": "python",
   "name": "python3"
  },
  "language_info": {
   "codemirror_mode": {
    "name": "ipython",
    "version": 3
   },
   "file_extension": ".py",
   "mimetype": "text/x-python",
   "name": "python",
   "nbconvert_exporter": "python",
   "pygments_lexer": "ipython3",
   "version": "3.11.2"
  },
  "orig_nbformat": 4
 },
 "nbformat": 4,
 "nbformat_minor": 2
}
