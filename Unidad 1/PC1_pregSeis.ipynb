{
 "cells": [
  {
   "attachments": {},
   "cell_type": "markdown",
   "metadata": {},
   "source": [
    "# PC1"
   ]
  },
  {
   "attachments": {},
   "cell_type": "markdown",
   "metadata": {},
   "source": [
    "Escriba un algoritmo en Python que implemente una función recursiva que reciba como parámetro una cadena, y la devuelva de manera inversa, comenzando desde el último carácter hasta el primero.\n",
    "\n",
    "Ejemplo:\n",
    "\n",
    "Input\n",
    "\n",
    "cadena = \"Hola!\"\n",
    "\n",
    "revierteCadena (cadena) \n",
    "\n",
    "Output\n",
    "\n",
    "!aloH"
   ]
  },
  {
   "cell_type": "code",
   "execution_count": 6,
   "metadata": {},
   "outputs": [
    {
     "data": {
      "text/plain": [
       "'!aloH'"
      ]
     },
     "execution_count": 6,
     "metadata": {},
     "output_type": "execute_result"
    }
   ],
   "source": [
    "cadena = \"Hola!\"\n",
    "i = len(cadena)\n",
    "reversedCadena = \"\"\n",
    "\n",
    "def revierteCadena(cadena):\n",
    "    \n",
    "    global i\n",
    "    global reversedCadena\n",
    "    \n",
    "    if(i<=0):\n",
    "        return reversedCadena\n",
    "    \n",
    "    reversedCadena = reversedCadena + cadena[i-1]\n",
    "    i = i - 1\n",
    "    \n",
    "    return revierteCadena(cadena)\n",
    "    \n",
    "\n",
    "\n",
    "revierteCadena(cadena)"
   ]
  }
 ],
 "metadata": {
  "kernelspec": {
   "display_name": "Python 3",
   "language": "python",
   "name": "python3"
  },
  "language_info": {
   "codemirror_mode": {
    "name": "ipython",
    "version": 3
   },
   "file_extension": ".py",
   "mimetype": "text/x-python",
   "name": "python",
   "nbconvert_exporter": "python",
   "pygments_lexer": "ipython3",
   "version": "3.11.2"
  },
  "orig_nbformat": 4
 },
 "nbformat": 4,
 "nbformat_minor": 2
}
